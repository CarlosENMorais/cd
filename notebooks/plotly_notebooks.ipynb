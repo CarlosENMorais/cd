{
 "cells": [
  {
   "cell_type": "markdown",
   "id": "48696018",
   "metadata": {},
   "source": [
    "# Plotly Data Analysis\n",
    "Aqui ficaram os protótipos do gráficos interativos elaborados com o Plotly\n"
   ]
  },
  {
   "cell_type": "markdown",
   "id": "a94ce11e",
   "metadata": {},
   "source": [
    "### imports:"
   ]
  },
  {
   "cell_type": "code",
   "execution_count": 1,
   "id": "bf2ee72f",
   "metadata": {},
   "outputs": [],
   "source": [
    "import numpy as np\n",
    "import pandas as pd\n",
    "import plotly.express as px\n",
    "import plotly.graph_objects as go"
   ]
  },
  {
   "cell_type": "markdown",
   "id": "47dc736e",
   "metadata": {},
   "source": [
    "### Data:"
   ]
  },
  {
   "cell_type": "code",
   "execution_count": 7,
   "id": "eedc1560",
   "metadata": {},
   "outputs": [],
   "source": [
    "file_id = '1xhPhpcV1kgrQ4EMsDReGQezCDwJIdsZk'\n",
    "download_url = f'https://drive.google.com/uc?export=download&id={file_id}'\n",
    "\n",
    "dataframe = pd.read_csv(download_url)"
   ]
  },
  {
   "cell_type": "code",
   "execution_count": 8,
   "id": "55803b90",
   "metadata": {},
   "outputs": [
    {
     "data": {
      "text/html": [
       "<div>\n",
       "<style scoped>\n",
       "    .dataframe tbody tr th:only-of-type {\n",
       "        vertical-align: middle;\n",
       "    }\n",
       "\n",
       "    .dataframe tbody tr th {\n",
       "        vertical-align: top;\n",
       "    }\n",
       "\n",
       "    .dataframe thead th {\n",
       "        text-align: right;\n",
       "    }\n",
       "</style>\n",
       "<table border=\"1\" class=\"dataframe\">\n",
       "  <thead>\n",
       "    <tr style=\"text-align: right;\">\n",
       "      <th></th>\n",
       "      <th>Gender</th>\n",
       "      <th>Age</th>\n",
       "      <th>Height</th>\n",
       "      <th>Weight</th>\n",
       "      <th>family_history_with_overweight</th>\n",
       "      <th>FAVC</th>\n",
       "      <th>FCVC</th>\n",
       "      <th>NCP</th>\n",
       "      <th>CAEC</th>\n",
       "      <th>SMOKE</th>\n",
       "      <th>CH2O</th>\n",
       "      <th>SCC</th>\n",
       "      <th>FAF</th>\n",
       "      <th>TUE</th>\n",
       "      <th>CALC</th>\n",
       "      <th>MTRANS</th>\n",
       "      <th>NObeyesdad</th>\n",
       "    </tr>\n",
       "  </thead>\n",
       "  <tbody>\n",
       "    <tr>\n",
       "      <th>0</th>\n",
       "      <td>Female</td>\n",
       "      <td>21</td>\n",
       "      <td>1.62</td>\n",
       "      <td>64.00</td>\n",
       "      <td>yes</td>\n",
       "      <td>no</td>\n",
       "      <td>2.0</td>\n",
       "      <td>3.0</td>\n",
       "      <td>Sometimes</td>\n",
       "      <td>no</td>\n",
       "      <td>2.00</td>\n",
       "      <td>no</td>\n",
       "      <td>0.00</td>\n",
       "      <td>1.000</td>\n",
       "      <td>no</td>\n",
       "      <td>Public_Transportation</td>\n",
       "      <td>Normal_Weight</td>\n",
       "    </tr>\n",
       "    <tr>\n",
       "      <th>1</th>\n",
       "      <td>Female</td>\n",
       "      <td>21</td>\n",
       "      <td>1.52</td>\n",
       "      <td>56.00</td>\n",
       "      <td>yes</td>\n",
       "      <td>no</td>\n",
       "      <td>3.0</td>\n",
       "      <td>3.0</td>\n",
       "      <td>Sometimes</td>\n",
       "      <td>yes</td>\n",
       "      <td>3.00</td>\n",
       "      <td>yes</td>\n",
       "      <td>3.00</td>\n",
       "      <td>0.000</td>\n",
       "      <td>Sometimes</td>\n",
       "      <td>Public_Transportation</td>\n",
       "      <td>Normal_Weight</td>\n",
       "    </tr>\n",
       "    <tr>\n",
       "      <th>2</th>\n",
       "      <td>Male</td>\n",
       "      <td>23</td>\n",
       "      <td>1.80</td>\n",
       "      <td>77.00</td>\n",
       "      <td>yes</td>\n",
       "      <td>no</td>\n",
       "      <td>2.0</td>\n",
       "      <td>3.0</td>\n",
       "      <td>Sometimes</td>\n",
       "      <td>no</td>\n",
       "      <td>2.00</td>\n",
       "      <td>no</td>\n",
       "      <td>2.00</td>\n",
       "      <td>1.000</td>\n",
       "      <td>Frequently</td>\n",
       "      <td>Public_Transportation</td>\n",
       "      <td>Normal_Weight</td>\n",
       "    </tr>\n",
       "    <tr>\n",
       "      <th>3</th>\n",
       "      <td>Male</td>\n",
       "      <td>27</td>\n",
       "      <td>1.80</td>\n",
       "      <td>87.00</td>\n",
       "      <td>no</td>\n",
       "      <td>no</td>\n",
       "      <td>3.0</td>\n",
       "      <td>3.0</td>\n",
       "      <td>Sometimes</td>\n",
       "      <td>no</td>\n",
       "      <td>2.00</td>\n",
       "      <td>no</td>\n",
       "      <td>2.00</td>\n",
       "      <td>0.000</td>\n",
       "      <td>Frequently</td>\n",
       "      <td>Walking</td>\n",
       "      <td>Overweight_Level_I</td>\n",
       "    </tr>\n",
       "    <tr>\n",
       "      <th>4</th>\n",
       "      <td>Male</td>\n",
       "      <td>22</td>\n",
       "      <td>1.78</td>\n",
       "      <td>89.80</td>\n",
       "      <td>no</td>\n",
       "      <td>no</td>\n",
       "      <td>2.0</td>\n",
       "      <td>1.0</td>\n",
       "      <td>Sometimes</td>\n",
       "      <td>no</td>\n",
       "      <td>2.00</td>\n",
       "      <td>no</td>\n",
       "      <td>0.00</td>\n",
       "      <td>0.000</td>\n",
       "      <td>Sometimes</td>\n",
       "      <td>Public_Transportation</td>\n",
       "      <td>Overweight_Level_II</td>\n",
       "    </tr>\n",
       "    <tr>\n",
       "      <th>...</th>\n",
       "      <td>...</td>\n",
       "      <td>...</td>\n",
       "      <td>...</td>\n",
       "      <td>...</td>\n",
       "      <td>...</td>\n",
       "      <td>...</td>\n",
       "      <td>...</td>\n",
       "      <td>...</td>\n",
       "      <td>...</td>\n",
       "      <td>...</td>\n",
       "      <td>...</td>\n",
       "      <td>...</td>\n",
       "      <td>...</td>\n",
       "      <td>...</td>\n",
       "      <td>...</td>\n",
       "      <td>...</td>\n",
       "      <td>...</td>\n",
       "    </tr>\n",
       "    <tr>\n",
       "      <th>2106</th>\n",
       "      <td>Female</td>\n",
       "      <td>21</td>\n",
       "      <td>1.71</td>\n",
       "      <td>131.41</td>\n",
       "      <td>yes</td>\n",
       "      <td>yes</td>\n",
       "      <td>3.0</td>\n",
       "      <td>3.0</td>\n",
       "      <td>Sometimes</td>\n",
       "      <td>no</td>\n",
       "      <td>1.73</td>\n",
       "      <td>no</td>\n",
       "      <td>1.68</td>\n",
       "      <td>0.906</td>\n",
       "      <td>Sometimes</td>\n",
       "      <td>Public_Transportation</td>\n",
       "      <td>Obesity_Type_III</td>\n",
       "    </tr>\n",
       "    <tr>\n",
       "      <th>2107</th>\n",
       "      <td>Female</td>\n",
       "      <td>22</td>\n",
       "      <td>1.75</td>\n",
       "      <td>133.74</td>\n",
       "      <td>yes</td>\n",
       "      <td>yes</td>\n",
       "      <td>3.0</td>\n",
       "      <td>3.0</td>\n",
       "      <td>Sometimes</td>\n",
       "      <td>no</td>\n",
       "      <td>2.01</td>\n",
       "      <td>no</td>\n",
       "      <td>1.34</td>\n",
       "      <td>0.599</td>\n",
       "      <td>Sometimes</td>\n",
       "      <td>Public_Transportation</td>\n",
       "      <td>Obesity_Type_III</td>\n",
       "    </tr>\n",
       "    <tr>\n",
       "      <th>2108</th>\n",
       "      <td>Female</td>\n",
       "      <td>23</td>\n",
       "      <td>1.75</td>\n",
       "      <td>133.69</td>\n",
       "      <td>yes</td>\n",
       "      <td>yes</td>\n",
       "      <td>3.0</td>\n",
       "      <td>3.0</td>\n",
       "      <td>Sometimes</td>\n",
       "      <td>no</td>\n",
       "      <td>2.05</td>\n",
       "      <td>no</td>\n",
       "      <td>1.41</td>\n",
       "      <td>0.646</td>\n",
       "      <td>Sometimes</td>\n",
       "      <td>Public_Transportation</td>\n",
       "      <td>Obesity_Type_III</td>\n",
       "    </tr>\n",
       "    <tr>\n",
       "      <th>2109</th>\n",
       "      <td>Female</td>\n",
       "      <td>24</td>\n",
       "      <td>1.74</td>\n",
       "      <td>133.35</td>\n",
       "      <td>yes</td>\n",
       "      <td>yes</td>\n",
       "      <td>3.0</td>\n",
       "      <td>3.0</td>\n",
       "      <td>Sometimes</td>\n",
       "      <td>no</td>\n",
       "      <td>2.85</td>\n",
       "      <td>no</td>\n",
       "      <td>1.14</td>\n",
       "      <td>0.586</td>\n",
       "      <td>Sometimes</td>\n",
       "      <td>Public_Transportation</td>\n",
       "      <td>Obesity_Type_III</td>\n",
       "    </tr>\n",
       "    <tr>\n",
       "      <th>2110</th>\n",
       "      <td>Female</td>\n",
       "      <td>24</td>\n",
       "      <td>1.74</td>\n",
       "      <td>133.47</td>\n",
       "      <td>yes</td>\n",
       "      <td>yes</td>\n",
       "      <td>3.0</td>\n",
       "      <td>3.0</td>\n",
       "      <td>Sometimes</td>\n",
       "      <td>no</td>\n",
       "      <td>2.86</td>\n",
       "      <td>no</td>\n",
       "      <td>1.03</td>\n",
       "      <td>0.714</td>\n",
       "      <td>Sometimes</td>\n",
       "      <td>Public_Transportation</td>\n",
       "      <td>Obesity_Type_III</td>\n",
       "    </tr>\n",
       "  </tbody>\n",
       "</table>\n",
       "<p>2111 rows × 17 columns</p>\n",
       "</div>"
      ],
      "text/plain": [
       "      Gender  Age  Height  Weight family_history_with_overweight FAVC  FCVC  \\\n",
       "0     Female   21    1.62   64.00                            yes   no   2.0   \n",
       "1     Female   21    1.52   56.00                            yes   no   3.0   \n",
       "2       Male   23    1.80   77.00                            yes   no   2.0   \n",
       "3       Male   27    1.80   87.00                             no   no   3.0   \n",
       "4       Male   22    1.78   89.80                             no   no   2.0   \n",
       "...      ...  ...     ...     ...                            ...  ...   ...   \n",
       "2106  Female   21    1.71  131.41                            yes  yes   3.0   \n",
       "2107  Female   22    1.75  133.74                            yes  yes   3.0   \n",
       "2108  Female   23    1.75  133.69                            yes  yes   3.0   \n",
       "2109  Female   24    1.74  133.35                            yes  yes   3.0   \n",
       "2110  Female   24    1.74  133.47                            yes  yes   3.0   \n",
       "\n",
       "      NCP       CAEC SMOKE  CH2O  SCC   FAF    TUE        CALC  \\\n",
       "0     3.0  Sometimes    no  2.00   no  0.00  1.000          no   \n",
       "1     3.0  Sometimes   yes  3.00  yes  3.00  0.000   Sometimes   \n",
       "2     3.0  Sometimes    no  2.00   no  2.00  1.000  Frequently   \n",
       "3     3.0  Sometimes    no  2.00   no  2.00  0.000  Frequently   \n",
       "4     1.0  Sometimes    no  2.00   no  0.00  0.000   Sometimes   \n",
       "...   ...        ...   ...   ...  ...   ...    ...         ...   \n",
       "2106  3.0  Sometimes    no  1.73   no  1.68  0.906   Sometimes   \n",
       "2107  3.0  Sometimes    no  2.01   no  1.34  0.599   Sometimes   \n",
       "2108  3.0  Sometimes    no  2.05   no  1.41  0.646   Sometimes   \n",
       "2109  3.0  Sometimes    no  2.85   no  1.14  0.586   Sometimes   \n",
       "2110  3.0  Sometimes    no  2.86   no  1.03  0.714   Sometimes   \n",
       "\n",
       "                     MTRANS           NObeyesdad  \n",
       "0     Public_Transportation        Normal_Weight  \n",
       "1     Public_Transportation        Normal_Weight  \n",
       "2     Public_Transportation        Normal_Weight  \n",
       "3                   Walking   Overweight_Level_I  \n",
       "4     Public_Transportation  Overweight_Level_II  \n",
       "...                     ...                  ...  \n",
       "2106  Public_Transportation     Obesity_Type_III  \n",
       "2107  Public_Transportation     Obesity_Type_III  \n",
       "2108  Public_Transportation     Obesity_Type_III  \n",
       "2109  Public_Transportation     Obesity_Type_III  \n",
       "2110  Public_Transportation     Obesity_Type_III  \n",
       "\n",
       "[2111 rows x 17 columns]"
      ]
     },
     "execution_count": 8,
     "metadata": {},
     "output_type": "execute_result"
    }
   ],
   "source": [
    "df = dataframe\n",
    "df"
   ]
  },
  {
   "cell_type": "markdown",
   "id": "a0f2c0a6",
   "metadata": {},
   "source": [
    "### 1º Gráfico do Plotly\n",
    "Distribuição de massa corporal/Gênero (FDP)\n",
    "-> Adicionar Filtros: Níveis de Obesidade\n",
    "\n",
    "Talvez colocar Outras distribuições discrétas em relação ao Gênero.\n",
    "Usando TAGS para mostrar a relação entre Gênero e outras variáveis.\n",
    "Uma por vez"
   ]
  },
  {
   "cell_type": "markdown",
   "id": "bf19a0a6",
   "metadata": {},
   "source": [
    "#### Gráfico colhido da EDA (DEve ser adaptado para o Plotly)"
   ]
  },
  {
   "cell_type": "code",
   "execution_count": 3,
   "id": "6621856c",
   "metadata": {},
   "outputs": [
    {
     "ename": "NameError",
     "evalue": "name 'plt' is not defined",
     "output_type": "error",
     "traceback": [
      "\u001b[31m---------------------------------------------------------------------------\u001b[39m",
      "\u001b[31mNameError\u001b[39m                                 Traceback (most recent call last)",
      "\u001b[36mCell\u001b[39m\u001b[36m \u001b[39m\u001b[32mIn[3]\u001b[39m\u001b[32m, line 1\u001b[39m\n\u001b[32m----> \u001b[39m\u001b[32m1\u001b[39m \u001b[43mplt\u001b[49m.figure(figsize=(\u001b[32m10\u001b[39m, \u001b[32m6\u001b[39m))\n\u001b[32m      2\u001b[39m sns.scatterplot(data=df, x=\u001b[33m'\u001b[39m\u001b[33mFrequência de Atividade Física\u001b[39m\u001b[33m'\u001b[39m, y=\u001b[33m'\u001b[39m\u001b[33mAltura (m)\u001b[39m\u001b[33m'\u001b[39m)\n\u001b[32m      4\u001b[39m plt.title(\u001b[33m'\u001b[39m\u001b[33mScatterplot: Frequência de Atividade Física vs Altura\u001b[39m\u001b[33m'\u001b[39m)\n",
      "\u001b[31mNameError\u001b[39m: name 'plt' is not defined"
     ]
    }
   ],
   "source": [
    "plt.figure(figsize=(10, 6))\n",
    "sns.scatterplot(data=df, x='Frequência de Atividade Física', y='Altura (m)')\n",
    "\n",
    "plt.title('Scatterplot: Frequência de Atividade Física vs Altura')\n",
    "plt.xlabel('Frequência de Atividade Física')\n",
    "plt.ylabel('Altura (m)')\n",
    "\n",
    "plt.grid(True)\n",
    "plt.show()\n",
    "\n",
    "# Calcule a média de 'Frequência de Atividade Física' para cada 'Altura (m)'\n",
    "media_faf_por_altura = df.groupby('Altura (m)')['Frequência de Atividade Física'].mean().reset_index()\n",
    "\n",
    "# Crie a figura e o eixo para sobrepor os gráficos\n",
    "plt.figure(figsize=(10, 6))\n",
    "ax = plt.gca() # Obtém o eixo atual\n",
    "\n",
    "# Adiciona o scatterplot ao eixo\n",
    "sns.scatterplot(data=df, x='Altura (m)', y='Frequência de Atividade Física', ax=ax, label='Dados Individuais')\n",
    "\n",
    "# Adiciona o lineplot (média) ao mesmo eixo\n",
    "sns.lineplot(data=media_faf_por_altura, x='Altura (m)', y='Frequência de Atividade Física', ax=ax, color='red', label='Média por Altura')\n",
    "\n",
    "plt.title('Scatterplot e Média: Altura vs Frequência de Atividade Física')\n",
    "plt.xlabel('Altura (m)')\n",
    "plt.ylabel('Média da Frequência de Atividade Física')\n",
    "\n",
    "plt.grid(True)\n",
    "plt.legend() # Mostra a legenda para identificar os dois gráficos\n",
    "plt.show()"
   ]
  },
  {
   "cell_type": "markdown",
   "id": "bbdf000c",
   "metadata": {},
   "source": [
    "#### Função KDE + Histograma"
   ]
  },
  {
   "cell_type": "code",
   "execution_count": 2,
   "id": "3643b5a3",
   "metadata": {},
   "outputs": [
    {
     "data": {
      "application/vnd.plotly.v1+json": {
       "config": {
        "plotlyServerURL": "https://plot.ly"
       },
       "data": [
        {
         "autobinx": false,
         "histnorm": "probability density",
         "legendgroup": "distplot",
         "marker": {
          "color": "rgb(31, 119, 180)"
         },
         "name": "distplot",
         "opacity": 0.7,
         "type": "histogram",
         "x": {
          "bdata": "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",
          "dtype": "f8"
         },
         "xaxis": "x",
         "xbins": {
          "end": 3.9586027040379634,
          "size": 1,
          "start": -3.053764380426305
         },
         "yaxis": "y"
        },
        {
         "legendgroup": "distplot",
         "marker": {
          "color": "rgb(31, 119, 180)"
         },
         "mode": "lines",
         "name": "distplot",
         "showlegend": false,
         "type": "scatter",
         "x": [
          -3.053764380426305,
          -3.0397396462573765,
          -3.0257149120884477,
          -3.0116901779195193,
          -2.9976654437505905,
          -2.983640709581662,
          -2.969615975412734,
          -2.955591241243805,
          -2.9415665070748767,
          -2.927541772905948,
          -2.9135170387370195,
          -2.899492304568091,
          -2.8854675703991624,
          -2.871442836230234,
          -2.857418102061305,
          -2.843393367892377,
          -2.8293686337234485,
          -2.8153438995545197,
          -2.8013191653855913,
          -2.7872944312166625,
          -2.773269697047734,
          -2.759244962878806,
          -2.745220228709877,
          -2.7311954945409487,
          -2.71717076037202,
          -2.7031460262030915,
          -2.6891212920341627,
          -2.6750965578652344,
          -2.6610718236963056,
          -2.647047089527377,
          -2.633022355358449,
          -2.61899762118952,
          -2.6049728870205917,
          -2.590948152851663,
          -2.5769234186827346,
          -2.562898684513806,
          -2.5488739503448774,
          -2.534849216175949,
          -2.5208244820070203,
          -2.506799747838092,
          -2.4927750136691635,
          -2.4787502795002347,
          -2.4647255453313064,
          -2.4507008111623776,
          -2.4366760769934492,
          -2.422651342824521,
          -2.408626608655592,
          -2.3946018744866637,
          -2.380577140317735,
          -2.3665524061488066,
          -2.352527671979878,
          -2.3385029378109494,
          -2.324478203642021,
          -2.3104534694730923,
          -2.296428735304164,
          -2.2824040011352356,
          -2.2683792669663068,
          -2.2543545327973784,
          -2.2403297986284496,
          -2.2263050644595213,
          -2.212280330290593,
          -2.198255596121664,
          -2.1842308619527357,
          -2.170206127783807,
          -2.1561813936148786,
          -2.1421566594459502,
          -2.1281319252770214,
          -2.114107191108093,
          -2.1000824569391643,
          -2.086057722770236,
          -2.0720329886013076,
          -2.058008254432379,
          -2.04398352026345,
          -2.0299587860945216,
          -2.0159340519255933,
          -2.001909317756665,
          -1.9878845835877361,
          -1.9738598494188075,
          -1.959835115249879,
          -1.9458103810809506,
          -1.931785646912022,
          -1.9177609127430935,
          -1.9037361785741649,
          -1.8897114444052363,
          -1.875686710236308,
          -1.8616619760673794,
          -1.8476372418984508,
          -1.8336125077295222,
          -1.8195877735605936,
          -1.805563039391665,
          -1.7915383052227367,
          -1.7775135710538081,
          -1.7634888368848796,
          -1.749464102715951,
          -1.7354393685470224,
          -1.721414634378094,
          -1.7073899002091653,
          -1.693365166040237,
          -1.6793404318713083,
          -1.6653156977023797,
          -1.6512909635334514,
          -1.6372662293645226,
          -1.623241495195594,
          -1.6092167610266657,
          -1.595192026857737,
          -1.5811672926888087,
          -1.56714255851988,
          -1.5531178243509514,
          -1.539093090182023,
          -1.5250683560130944,
          -1.511043621844166,
          -1.4970188876752373,
          -1.4829941535063087,
          -1.4689694193373803,
          -1.4549446851684518,
          -1.4409199509995234,
          -1.4268952168305946,
          -1.412870482661666,
          -1.3988457484927377,
          -1.384821014323809,
          -1.3707962801548805,
          -1.356771545985952,
          -1.3427468118170234,
          -1.328722077648095,
          -1.3146973434791664,
          -1.3006726093102379,
          -1.2866478751413093,
          -1.2726231409723807,
          -1.2585984068034524,
          -1.2445736726345238,
          -1.2305489384655952,
          -1.2165242042966666,
          -1.202499470127738,
          -1.1884747359588095,
          -1.1744500017898811,
          -1.1604252676209525,
          -1.146400533452024,
          -1.1323757992830954,
          -1.1183510651141668,
          -1.1043263309452385,
          -1.09030159677631,
          -1.0762768626073813,
          -1.0622521284384527,
          -1.0482273942695244,
          -1.0342026601005956,
          -1.0201779259316672,
          -1.0061531917627384,
          -0.9921284575938101,
          -0.9781037234248817,
          -0.9640789892559529,
          -0.9500542550870246,
          -0.9360295209180958,
          -0.9220047867491674,
          -0.9079800525802391,
          -0.8939553184113103,
          -0.8799305842423819,
          -0.8659058500734531,
          -0.8518811159045248,
          -0.8378563817355964,
          -0.8238316475666676,
          -0.8098069133977392,
          -0.7957821792288104,
          -0.7817574450598821,
          -0.7677327108909537,
          -0.7537079767220249,
          -0.7396832425530966,
          -0.7256585083841678,
          -0.7116337742152394,
          -0.6976090400463111,
          -0.6835843058773823,
          -0.6695595717084539,
          -0.6555348375395251,
          -0.6415101033705968,
          -0.627485369201668,
          -0.6134606350327396,
          -0.5994359008638113,
          -0.5854111666948825,
          -0.5713864325259541,
          -0.5573616983570253,
          -0.543336964188097,
          -0.5293122300191686,
          -0.5152874958502398,
          -0.5012627616813115,
          -0.48723802751238265,
          -0.4732132933434543,
          -0.45918855917452595,
          -0.44516382500559715,
          -0.4311390908366688,
          -0.41711435666774,
          -0.40308962249881164,
          -0.3890648883298833,
          -0.3750401541609545,
          -0.3610154199920257,
          -0.34699068582309733,
          -0.332965951654169,
          -0.3189412174852406,
          -0.3049164833163118,
          -0.290891749147383,
          -0.2768670149784547,
          -0.2628422808095263,
          -0.24881754664059796,
          -0.23479281247166917,
          -0.22076807830274037,
          -0.206743344133812,
          -0.19271860996488321,
          -0.1786938757959553,
          -0.1646691416270265,
          -0.1506444074580977,
          -0.13661967328916935,
          -0.12259493912024055,
          -0.10857020495131264,
          -0.09454547078238384,
          -0.08052073661345505,
          -0.06649600244452669,
          -0.05247126827559789,
          -0.03844653410666998,
          -0.024421799937741184,
          -0.010397065768812386,
          0.0036276684001159687,
          0.017652402569044767,
          0.03167713673797268,
          0.045701870906901476,
          0.059726605075830275,
          0.07375133924475863,
          0.08777607341368743,
          0.10180080758261534,
          0.11582554175154414,
          0.12985027592047294,
          0.1438750100894013,
          0.1578997442583301,
          0.171924478427258,
          0.1859492125961868,
          0.1999739467651156,
          0.21399868093404395,
          0.22802341510297275,
          0.2420481492719011,
          0.25607288344082946,
          0.27009761760975826,
          0.2841223517786866,
          0.2981470859476154,
          0.31217182011654376,
          0.3261965542854721,
          0.3402212884544009,
          0.35424602262332927,
          0.36827075679225807,
          0.3822954909611864,
          0.3963202251301148,
          0.4103449592990436,
          0.42436969346797193,
          0.43839442763690073,
          0.4524191618058291,
          0.46644389597475744,
          0.48046863014368624,
          0.4944933643126146,
          0.5085180984815434,
          0.5225428326504717,
          0.5365675668194001,
          0.5505923009883289,
          0.5646170351572573,
          0.578641769326186,
          0.5926665034951144,
          0.6066912376640428,
          0.6207159718329716,
          0.6347407060018999,
          0.6487654401708287,
          0.6627901743397571,
          0.6768149085086859,
          0.6908396426776142,
          0.7048643768465426,
          0.7188891110154714,
          0.7329138451843997,
          0.7469385793533285,
          0.7609633135222569,
          0.7749880476911852,
          0.789012781860114,
          0.8030375160290424,
          0.8170622501979712,
          0.8310869843668995,
          0.8451117185358279,
          0.8591364527047567,
          0.873161186873685,
          0.8871859210426138,
          0.9012106552115422,
          0.9152353893804706,
          0.9292601235493994,
          0.9432848577183277,
          0.9573095918872561,
          0.9713343260561853,
          0.9853590602251137,
          0.999383794394042,
          1.0134085285629704,
          1.0274332627318987,
          1.041457996900828,
          1.0554827310697563,
          1.0695074652386847,
          1.083532199407613,
          1.0975569335765414,
          1.1115816677454697,
          1.125606401914399,
          1.1396311360833273,
          1.1536558702522557,
          1.167680604421185,
          1.1817053385901133,
          1.1957300727590416,
          1.20975480692797,
          1.2237795410968983,
          1.2378042752658267,
          1.251829009434755,
          1.2658537436036843,
          1.2798784777726127,
          1.293903211941541,
          1.3079279461104703,
          1.3219526802793986,
          1.335977414448327,
          1.3500021486172553,
          1.3640268827861846,
          1.378051616955112,
          1.3920763511240404,
          1.4061010852929696,
          1.420125819461898,
          1.4341505536308263,
          1.4481752877997556,
          1.462200021968684,
          1.4762247561376123,
          1.4902494903065406,
          1.5042742244754699,
          1.5182989586443973,
          1.5323236928133257,
          1.546348426982255,
          1.5603731611511833,
          1.5743978953201117,
          1.588422629489041,
          1.6024473636579692,
          1.6164720978268976,
          1.630496831995826,
          1.6445215661647552,
          1.6585463003336827,
          1.672571034502611,
          1.6865957686715403,
          1.7006205028404686,
          1.714645237009397,
          1.7286699711783262,
          1.7426947053472546,
          1.756719439516183,
          1.7707441736851113,
          1.7847689078540405,
          1.7987936420229689,
          1.8128183761918963,
          1.8268431103608256,
          1.840867844529754,
          1.8548925786986823,
          1.8689173128676115,
          1.88294204703654,
          1.8969667812054682,
          1.9109915153743966,
          1.9250162495433258,
          1.9390409837122542,
          1.9530657178811817,
          1.967090452050111,
          1.9811151862190393,
          1.9951399203879676,
          2.009164654556897,
          2.023189388725825,
          2.0372141228947536,
          2.051238857063682,
          2.065263591232611,
          2.0792883254015395,
          2.093313059570467,
          2.1073377937393962,
          2.1213625279083246,
          2.135387262077253,
          2.149411996246182,
          2.1634367304151105,
          2.177461464584039,
          2.1914861987529672,
          2.2055109329218965,
          2.219535667090825,
          2.233560401259753,
          2.2475851354286815,
          2.26160986959761,
          2.2756346037665383,
          2.2896593379354675,
          2.303684072104396,
          2.317708806273324,
          2.3317335404422534,
          2.345758274611182,
          2.35978300878011,
          2.3738077429490385,
          2.387832477117967,
          2.401857211286895,
          2.4158819454558236,
          2.429906679624753,
          2.443931413793681,
          2.4579561479626095,
          2.4719808821315388,
          2.486005616300467,
          2.5000303504693955,
          2.514055084638324,
          2.528079818807252,
          2.5421045529761805,
          2.556129287145109,
          2.570154021314038,
          2.5841787554829665,
          2.598203489651895,
          2.612228223820824,
          2.6262529579897524,
          2.640277692158681,
          2.654302426327609,
          2.6683271604965384,
          2.682351894665466,
          2.696376628834394,
          2.7104013630033235,
          2.724426097172252,
          2.73845083134118,
          2.7524755655101094,
          2.7665002996790378,
          2.780525033847966,
          2.7945497680168945,
          2.8085745021858237,
          2.822599236354751,
          2.8366239705236795,
          2.850648704692609,
          2.864673438861537,
          2.8786981730304655,
          2.8927229071993947,
          2.906747641368323,
          2.9207723755372514,
          2.93479710970618,
          2.948821843875109,
          2.9628465780440365,
          2.976871312212965,
          2.990896046381894,
          3.0049207805508225,
          3.018945514719751,
          3.03297024888868,
          3.0469949830576084,
          3.0610197172265368,
          3.075044451395465,
          3.0890691855643944,
          3.1030939197333227,
          3.11711865390225,
          3.1311433880711794,
          3.1451681222401078,
          3.159192856409036,
          3.1732175905779654,
          3.1872423247468937,
          3.201267058915822,
          3.2152917930847504,
          3.2293165272536797,
          3.243341261422608,
          3.2573659955915355,
          3.2713907297604647,
          3.285415463929393,
          3.2994401980983215,
          3.3134649322672507,
          3.327489666436179,
          3.3415144006051074,
          3.3555391347740358,
          3.369563868942965,
          3.3835886031118934,
          3.397613337280821,
          3.41163807144975,
          3.4256628056186784,
          3.4396875397876068,
          3.453712273956536,
          3.4677370081254644,
          3.4817617422943927,
          3.495786476463321,
          3.5098112106322503,
          3.5238359448011787,
          3.537860678970107,
          3.5518854131390354,
          3.5659101473079637,
          3.579934881476892,
          3.5939596156458213,
          3.6079843498147497,
          3.622009083983678,
          3.6360338181526064,
          3.6500585523215356,
          3.664083286490464,
          3.6781080206593924,
          3.6921327548283207,
          3.706157488997249,
          3.7201822231661774,
          3.7342069573351067,
          3.748231691504035,
          3.7622564256729634,
          3.7762811598418917,
          3.790305894010821,
          3.8043306281797493,
          3.8183553623486777,
          3.832380096517606,
          3.8464048306865344,
          3.8604295648554627,
          3.874454299024392,
          3.8884790331933203,
          3.9025037673622487,
          3.916528501531177,
          3.9305532357001063,
          3.9445779698690346
         ],
         "xaxis": "x",
         "y": {
          "bdata": "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",
          "dtype": "f8"
         },
         "yaxis": "y"
        }
       ],
       "layout": {
        "barmode": "overlay",
        "hovermode": "closest",
        "legend": {
         "traceorder": "reversed"
        },
        "template": {
         "data": {
          "bar": [
           {
            "error_x": {
             "color": "#2a3f5f"
            },
            "error_y": {
             "color": "#2a3f5f"
            },
            "marker": {
             "line": {
              "color": "#E5ECF6",
              "width": 0.5
             },
             "pattern": {
              "fillmode": "overlay",
              "size": 10,
              "solidity": 0.2
             }
            },
            "type": "bar"
           }
          ],
          "barpolar": [
           {
            "marker": {
             "line": {
              "color": "#E5ECF6",
              "width": 0.5
             },
             "pattern": {
              "fillmode": "overlay",
              "size": 10,
              "solidity": 0.2
             }
            },
            "type": "barpolar"
           }
          ],
          "carpet": [
           {
            "aaxis": {
             "endlinecolor": "#2a3f5f",
             "gridcolor": "white",
             "linecolor": "white",
             "minorgridcolor": "white",
             "startlinecolor": "#2a3f5f"
            },
            "baxis": {
             "endlinecolor": "#2a3f5f",
             "gridcolor": "white",
             "linecolor": "white",
             "minorgridcolor": "white",
             "startlinecolor": "#2a3f5f"
            },
            "type": "carpet"
           }
          ],
          "choropleth": [
           {
            "colorbar": {
             "outlinewidth": 0,
             "ticks": ""
            },
            "type": "choropleth"
           }
          ],
          "contour": [
           {
            "colorbar": {
             "outlinewidth": 0,
             "ticks": ""
            },
            "colorscale": [
             [
              0,
              "#0d0887"
             ],
             [
              0.1111111111111111,
              "#46039f"
             ],
             [
              0.2222222222222222,
              "#7201a8"
             ],
             [
              0.3333333333333333,
              "#9c179e"
             ],
             [
              0.4444444444444444,
              "#bd3786"
             ],
             [
              0.5555555555555556,
              "#d8576b"
             ],
             [
              0.6666666666666666,
              "#ed7953"
             ],
             [
              0.7777777777777778,
              "#fb9f3a"
             ],
             [
              0.8888888888888888,
              "#fdca26"
             ],
             [
              1,
              "#f0f921"
             ]
            ],
            "type": "contour"
           }
          ],
          "contourcarpet": [
           {
            "colorbar": {
             "outlinewidth": 0,
             "ticks": ""
            },
            "type": "contourcarpet"
           }
          ],
          "heatmap": [
           {
            "colorbar": {
             "outlinewidth": 0,
             "ticks": ""
            },
            "colorscale": [
             [
              0,
              "#0d0887"
             ],
             [
              0.1111111111111111,
              "#46039f"
             ],
             [
              0.2222222222222222,
              "#7201a8"
             ],
             [
              0.3333333333333333,
              "#9c179e"
             ],
             [
              0.4444444444444444,
              "#bd3786"
             ],
             [
              0.5555555555555556,
              "#d8576b"
             ],
             [
              0.6666666666666666,
              "#ed7953"
             ],
             [
              0.7777777777777778,
              "#fb9f3a"
             ],
             [
              0.8888888888888888,
              "#fdca26"
             ],
             [
              1,
              "#f0f921"
             ]
            ],
            "type": "heatmap"
           }
          ],
          "histogram": [
           {
            "marker": {
             "pattern": {
              "fillmode": "overlay",
              "size": 10,
              "solidity": 0.2
             }
            },
            "type": "histogram"
           }
          ],
          "histogram2d": [
           {
            "colorbar": {
             "outlinewidth": 0,
             "ticks": ""
            },
            "colorscale": [
             [
              0,
              "#0d0887"
             ],
             [
              0.1111111111111111,
              "#46039f"
             ],
             [
              0.2222222222222222,
              "#7201a8"
             ],
             [
              0.3333333333333333,
              "#9c179e"
             ],
             [
              0.4444444444444444,
              "#bd3786"
             ],
             [
              0.5555555555555556,
              "#d8576b"
             ],
             [
              0.6666666666666666,
              "#ed7953"
             ],
             [
              0.7777777777777778,
              "#fb9f3a"
             ],
             [
              0.8888888888888888,
              "#fdca26"
             ],
             [
              1,
              "#f0f921"
             ]
            ],
            "type": "histogram2d"
           }
          ],
          "histogram2dcontour": [
           {
            "colorbar": {
             "outlinewidth": 0,
             "ticks": ""
            },
            "colorscale": [
             [
              0,
              "#0d0887"
             ],
             [
              0.1111111111111111,
              "#46039f"
             ],
             [
              0.2222222222222222,
              "#7201a8"
             ],
             [
              0.3333333333333333,
              "#9c179e"
             ],
             [
              0.4444444444444444,
              "#bd3786"
             ],
             [
              0.5555555555555556,
              "#d8576b"
             ],
             [
              0.6666666666666666,
              "#ed7953"
             ],
             [
              0.7777777777777778,
              "#fb9f3a"
             ],
             [
              0.8888888888888888,
              "#fdca26"
             ],
             [
              1,
              "#f0f921"
             ]
            ],
            "type": "histogram2dcontour"
           }
          ],
          "mesh3d": [
           {
            "colorbar": {
             "outlinewidth": 0,
             "ticks": ""
            },
            "type": "mesh3d"
           }
          ],
          "parcoords": [
           {
            "line": {
             "colorbar": {
              "outlinewidth": 0,
              "ticks": ""
             }
            },
            "type": "parcoords"
           }
          ],
          "pie": [
           {
            "automargin": true,
            "type": "pie"
           }
          ],
          "scatter": [
           {
            "fillpattern": {
             "fillmode": "overlay",
             "size": 10,
             "solidity": 0.2
            },
            "type": "scatter"
           }
          ],
          "scatter3d": [
           {
            "line": {
             "colorbar": {
              "outlinewidth": 0,
              "ticks": ""
             }
            },
            "marker": {
             "colorbar": {
              "outlinewidth": 0,
              "ticks": ""
             }
            },
            "type": "scatter3d"
           }
          ],
          "scattercarpet": [
           {
            "marker": {
             "colorbar": {
              "outlinewidth": 0,
              "ticks": ""
             }
            },
            "type": "scattercarpet"
           }
          ],
          "scattergeo": [
           {
            "marker": {
             "colorbar": {
              "outlinewidth": 0,
              "ticks": ""
             }
            },
            "type": "scattergeo"
           }
          ],
          "scattergl": [
           {
            "marker": {
             "colorbar": {
              "outlinewidth": 0,
              "ticks": ""
             }
            },
            "type": "scattergl"
           }
          ],
          "scattermap": [
           {
            "marker": {
             "colorbar": {
              "outlinewidth": 0,
              "ticks": ""
             }
            },
            "type": "scattermap"
           }
          ],
          "scattermapbox": [
           {
            "marker": {
             "colorbar": {
              "outlinewidth": 0,
              "ticks": ""
             }
            },
            "type": "scattermapbox"
           }
          ],
          "scatterpolar": [
           {
            "marker": {
             "colorbar": {
              "outlinewidth": 0,
              "ticks": ""
             }
            },
            "type": "scatterpolar"
           }
          ],
          "scatterpolargl": [
           {
            "marker": {
             "colorbar": {
              "outlinewidth": 0,
              "ticks": ""
             }
            },
            "type": "scatterpolargl"
           }
          ],
          "scatterternary": [
           {
            "marker": {
             "colorbar": {
              "outlinewidth": 0,
              "ticks": ""
             }
            },
            "type": "scatterternary"
           }
          ],
          "surface": [
           {
            "colorbar": {
             "outlinewidth": 0,
             "ticks": ""
            },
            "colorscale": [
             [
              0,
              "#0d0887"
             ],
             [
              0.1111111111111111,
              "#46039f"
             ],
             [
              0.2222222222222222,
              "#7201a8"
             ],
             [
              0.3333333333333333,
              "#9c179e"
             ],
             [
              0.4444444444444444,
              "#bd3786"
             ],
             [
              0.5555555555555556,
              "#d8576b"
             ],
             [
              0.6666666666666666,
              "#ed7953"
             ],
             [
              0.7777777777777778,
              "#fb9f3a"
             ],
             [
              0.8888888888888888,
              "#fdca26"
             ],
             [
              1,
              "#f0f921"
             ]
            ],
            "type": "surface"
           }
          ],
          "table": [
           {
            "cells": {
             "fill": {
              "color": "#EBF0F8"
             },
             "line": {
              "color": "white"
             }
            },
            "header": {
             "fill": {
              "color": "#C8D4E3"
             },
             "line": {
              "color": "white"
             }
            },
            "type": "table"
           }
          ]
         },
         "layout": {
          "annotationdefaults": {
           "arrowcolor": "#2a3f5f",
           "arrowhead": 0,
           "arrowwidth": 1
          },
          "autotypenumbers": "strict",
          "coloraxis": {
           "colorbar": {
            "outlinewidth": 0,
            "ticks": ""
           }
          },
          "colorscale": {
           "diverging": [
            [
             0,
             "#8e0152"
            ],
            [
             0.1,
             "#c51b7d"
            ],
            [
             0.2,
             "#de77ae"
            ],
            [
             0.3,
             "#f1b6da"
            ],
            [
             0.4,
             "#fde0ef"
            ],
            [
             0.5,
             "#f7f7f7"
            ],
            [
             0.6,
             "#e6f5d0"
            ],
            [
             0.7,
             "#b8e186"
            ],
            [
             0.8,
             "#7fbc41"
            ],
            [
             0.9,
             "#4d9221"
            ],
            [
             1,
             "#276419"
            ]
           ],
           "sequential": [
            [
             0,
             "#0d0887"
            ],
            [
             0.1111111111111111,
             "#46039f"
            ],
            [
             0.2222222222222222,
             "#7201a8"
            ],
            [
             0.3333333333333333,
             "#9c179e"
            ],
            [
             0.4444444444444444,
             "#bd3786"
            ],
            [
             0.5555555555555556,
             "#d8576b"
            ],
            [
             0.6666666666666666,
             "#ed7953"
            ],
            [
             0.7777777777777778,
             "#fb9f3a"
            ],
            [
             0.8888888888888888,
             "#fdca26"
            ],
            [
             1,
             "#f0f921"
            ]
           ],
           "sequentialminus": [
            [
             0,
             "#0d0887"
            ],
            [
             0.1111111111111111,
             "#46039f"
            ],
            [
             0.2222222222222222,
             "#7201a8"
            ],
            [
             0.3333333333333333,
             "#9c179e"
            ],
            [
             0.4444444444444444,
             "#bd3786"
            ],
            [
             0.5555555555555556,
             "#d8576b"
            ],
            [
             0.6666666666666666,
             "#ed7953"
            ],
            [
             0.7777777777777778,
             "#fb9f3a"
            ],
            [
             0.8888888888888888,
             "#fdca26"
            ],
            [
             1,
             "#f0f921"
            ]
           ]
          },
          "colorway": [
           "#636efa",
           "#EF553B",
           "#00cc96",
           "#ab63fa",
           "#FFA15A",
           "#19d3f3",
           "#FF6692",
           "#B6E880",
           "#FF97FF",
           "#FECB52"
          ],
          "font": {
           "color": "#2a3f5f"
          },
          "geo": {
           "bgcolor": "white",
           "lakecolor": "white",
           "landcolor": "#E5ECF6",
           "showlakes": true,
           "showland": true,
           "subunitcolor": "white"
          },
          "hoverlabel": {
           "align": "left"
          },
          "hovermode": "closest",
          "mapbox": {
           "style": "light"
          },
          "paper_bgcolor": "white",
          "plot_bgcolor": "#E5ECF6",
          "polar": {
           "angularaxis": {
            "gridcolor": "white",
            "linecolor": "white",
            "ticks": ""
           },
           "bgcolor": "#E5ECF6",
           "radialaxis": {
            "gridcolor": "white",
            "linecolor": "white",
            "ticks": ""
           }
          },
          "scene": {
           "xaxis": {
            "backgroundcolor": "#E5ECF6",
            "gridcolor": "white",
            "gridwidth": 2,
            "linecolor": "white",
            "showbackground": true,
            "ticks": "",
            "zerolinecolor": "white"
           },
           "yaxis": {
            "backgroundcolor": "#E5ECF6",
            "gridcolor": "white",
            "gridwidth": 2,
            "linecolor": "white",
            "showbackground": true,
            "ticks": "",
            "zerolinecolor": "white"
           },
           "zaxis": {
            "backgroundcolor": "#E5ECF6",
            "gridcolor": "white",
            "gridwidth": 2,
            "linecolor": "white",
            "showbackground": true,
            "ticks": "",
            "zerolinecolor": "white"
           }
          },
          "shapedefaults": {
           "line": {
            "color": "#2a3f5f"
           }
          },
          "ternary": {
           "aaxis": {
            "gridcolor": "white",
            "linecolor": "white",
            "ticks": ""
           },
           "baxis": {
            "gridcolor": "white",
            "linecolor": "white",
            "ticks": ""
           },
           "bgcolor": "#E5ECF6",
           "caxis": {
            "gridcolor": "white",
            "linecolor": "white",
            "ticks": ""
           }
          },
          "title": {
           "x": 0.05
          },
          "xaxis": {
           "automargin": true,
           "gridcolor": "white",
           "linecolor": "white",
           "ticks": "",
           "title": {
            "standoff": 15
           },
           "zerolinecolor": "white",
           "zerolinewidth": 2
          },
          "yaxis": {
           "automargin": true,
           "gridcolor": "white",
           "linecolor": "white",
           "ticks": "",
           "title": {
            "standoff": 15
           },
           "zerolinecolor": "white",
           "zerolinewidth": 2
          }
         }
        },
        "xaxis": {
         "anchor": "y2",
         "domain": [
          0,
          1
         ],
         "zeroline": false
        },
        "yaxis": {
         "anchor": "free",
         "domain": [
          0,
          1
         ],
         "position": 0
        }
       }
      }
     },
     "metadata": {},
     "output_type": "display_data"
    }
   ],
   "source": [
    "import plotly.figure_factory as ff\n",
    "import numpy as np\n",
    "np.random.seed(1)\n",
    "\n",
    "x = np.random.randn(1000)\n",
    "hist_data = [x]\n",
    "group_labels = ['distplot'] # name of the dataset\n",
    "\n",
    "fig = ff.create_distplot(hist_data, group_labels, show_rug=False)\n",
    "fig.show()"
   ]
  },
  {
   "cell_type": "markdown",
   "id": "55ebca94",
   "metadata": {},
   "source": [
    "### 2º Gráfico Plotly\n",
    "Relação Idade/Uso de Tecnologia (Scatter)\n",
    "-> Adicionar filtros: Gênero"
   ]
  },
  {
   "cell_type": "code",
   "execution_count": 2,
   "id": "da48edd3",
   "metadata": {},
   "outputs": [
    {
     "data": {
      "application/vnd.plotly.v1+json": {
       "config": {
        "plotlyServerURL": "https://plot.ly"
       },
       "data": [
        {
         "type": "surface",
         "z": {
          "bdata": "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",
          "dtype": "f8",
          "shape": "25, 25"
         }
        }
       ],
       "layout": {
        "autosize": false,
        "height": 500,
        "margin": {
         "b": 65,
         "l": 65,
         "r": 50,
         "t": 90
        },
        "template": {
         "data": {
          "bar": [
           {
            "error_x": {
             "color": "#2a3f5f"
            },
            "error_y": {
             "color": "#2a3f5f"
            },
            "marker": {
             "line": {
              "color": "#E5ECF6",
              "width": 0.5
             },
             "pattern": {
              "fillmode": "overlay",
              "size": 10,
              "solidity": 0.2
             }
            },
            "type": "bar"
           }
          ],
          "barpolar": [
           {
            "marker": {
             "line": {
              "color": "#E5ECF6",
              "width": 0.5
             },
             "pattern": {
              "fillmode": "overlay",
              "size": 10,
              "solidity": 0.2
             }
            },
            "type": "barpolar"
           }
          ],
          "carpet": [
           {
            "aaxis": {
             "endlinecolor": "#2a3f5f",
             "gridcolor": "white",
             "linecolor": "white",
             "minorgridcolor": "white",
             "startlinecolor": "#2a3f5f"
            },
            "baxis": {
             "endlinecolor": "#2a3f5f",
             "gridcolor": "white",
             "linecolor": "white",
             "minorgridcolor": "white",
             "startlinecolor": "#2a3f5f"
            },
            "type": "carpet"
           }
          ],
          "choropleth": [
           {
            "colorbar": {
             "outlinewidth": 0,
             "ticks": ""
            },
            "type": "choropleth"
           }
          ],
          "contour": [
           {
            "colorbar": {
             "outlinewidth": 0,
             "ticks": ""
            },
            "colorscale": [
             [
              0,
              "#0d0887"
             ],
             [
              0.1111111111111111,
              "#46039f"
             ],
             [
              0.2222222222222222,
              "#7201a8"
             ],
             [
              0.3333333333333333,
              "#9c179e"
             ],
             [
              0.4444444444444444,
              "#bd3786"
             ],
             [
              0.5555555555555556,
              "#d8576b"
             ],
             [
              0.6666666666666666,
              "#ed7953"
             ],
             [
              0.7777777777777778,
              "#fb9f3a"
             ],
             [
              0.8888888888888888,
              "#fdca26"
             ],
             [
              1,
              "#f0f921"
             ]
            ],
            "type": "contour"
           }
          ],
          "contourcarpet": [
           {
            "colorbar": {
             "outlinewidth": 0,
             "ticks": ""
            },
            "type": "contourcarpet"
           }
          ],
          "heatmap": [
           {
            "colorbar": {
             "outlinewidth": 0,
             "ticks": ""
            },
            "colorscale": [
             [
              0,
              "#0d0887"
             ],
             [
              0.1111111111111111,
              "#46039f"
             ],
             [
              0.2222222222222222,
              "#7201a8"
             ],
             [
              0.3333333333333333,
              "#9c179e"
             ],
             [
              0.4444444444444444,
              "#bd3786"
             ],
             [
              0.5555555555555556,
              "#d8576b"
             ],
             [
              0.6666666666666666,
              "#ed7953"
             ],
             [
              0.7777777777777778,
              "#fb9f3a"
             ],
             [
              0.8888888888888888,
              "#fdca26"
             ],
             [
              1,
              "#f0f921"
             ]
            ],
            "type": "heatmap"
           }
          ],
          "histogram": [
           {
            "marker": {
             "pattern": {
              "fillmode": "overlay",
              "size": 10,
              "solidity": 0.2
             }
            },
            "type": "histogram"
           }
          ],
          "histogram2d": [
           {
            "colorbar": {
             "outlinewidth": 0,
             "ticks": ""
            },
            "colorscale": [
             [
              0,
              "#0d0887"
             ],
             [
              0.1111111111111111,
              "#46039f"
             ],
             [
              0.2222222222222222,
              "#7201a8"
             ],
             [
              0.3333333333333333,
              "#9c179e"
             ],
             [
              0.4444444444444444,
              "#bd3786"
             ],
             [
              0.5555555555555556,
              "#d8576b"
             ],
             [
              0.6666666666666666,
              "#ed7953"
             ],
             [
              0.7777777777777778,
              "#fb9f3a"
             ],
             [
              0.8888888888888888,
              "#fdca26"
             ],
             [
              1,
              "#f0f921"
             ]
            ],
            "type": "histogram2d"
           }
          ],
          "histogram2dcontour": [
           {
            "colorbar": {
             "outlinewidth": 0,
             "ticks": ""
            },
            "colorscale": [
             [
              0,
              "#0d0887"
             ],
             [
              0.1111111111111111,
              "#46039f"
             ],
             [
              0.2222222222222222,
              "#7201a8"
             ],
             [
              0.3333333333333333,
              "#9c179e"
             ],
             [
              0.4444444444444444,
              "#bd3786"
             ],
             [
              0.5555555555555556,
              "#d8576b"
             ],
             [
              0.6666666666666666,
              "#ed7953"
             ],
             [
              0.7777777777777778,
              "#fb9f3a"
             ],
             [
              0.8888888888888888,
              "#fdca26"
             ],
             [
              1,
              "#f0f921"
             ]
            ],
            "type": "histogram2dcontour"
           }
          ],
          "mesh3d": [
           {
            "colorbar": {
             "outlinewidth": 0,
             "ticks": ""
            },
            "type": "mesh3d"
           }
          ],
          "parcoords": [
           {
            "line": {
             "colorbar": {
              "outlinewidth": 0,
              "ticks": ""
             }
            },
            "type": "parcoords"
           }
          ],
          "pie": [
           {
            "automargin": true,
            "type": "pie"
           }
          ],
          "scatter": [
           {
            "fillpattern": {
             "fillmode": "overlay",
             "size": 10,
             "solidity": 0.2
            },
            "type": "scatter"
           }
          ],
          "scatter3d": [
           {
            "line": {
             "colorbar": {
              "outlinewidth": 0,
              "ticks": ""
             }
            },
            "marker": {
             "colorbar": {
              "outlinewidth": 0,
              "ticks": ""
             }
            },
            "type": "scatter3d"
           }
          ],
          "scattercarpet": [
           {
            "marker": {
             "colorbar": {
              "outlinewidth": 0,
              "ticks": ""
             }
            },
            "type": "scattercarpet"
           }
          ],
          "scattergeo": [
           {
            "marker": {
             "colorbar": {
              "outlinewidth": 0,
              "ticks": ""
             }
            },
            "type": "scattergeo"
           }
          ],
          "scattergl": [
           {
            "marker": {
             "colorbar": {
              "outlinewidth": 0,
              "ticks": ""
             }
            },
            "type": "scattergl"
           }
          ],
          "scattermap": [
           {
            "marker": {
             "colorbar": {
              "outlinewidth": 0,
              "ticks": ""
             }
            },
            "type": "scattermap"
           }
          ],
          "scattermapbox": [
           {
            "marker": {
             "colorbar": {
              "outlinewidth": 0,
              "ticks": ""
             }
            },
            "type": "scattermapbox"
           }
          ],
          "scatterpolar": [
           {
            "marker": {
             "colorbar": {
              "outlinewidth": 0,
              "ticks": ""
             }
            },
            "type": "scatterpolar"
           }
          ],
          "scatterpolargl": [
           {
            "marker": {
             "colorbar": {
              "outlinewidth": 0,
              "ticks": ""
             }
            },
            "type": "scatterpolargl"
           }
          ],
          "scatterternary": [
           {
            "marker": {
             "colorbar": {
              "outlinewidth": 0,
              "ticks": ""
             }
            },
            "type": "scatterternary"
           }
          ],
          "surface": [
           {
            "colorbar": {
             "outlinewidth": 0,
             "ticks": ""
            },
            "colorscale": [
             [
              0,
              "#0d0887"
             ],
             [
              0.1111111111111111,
              "#46039f"
             ],
             [
              0.2222222222222222,
              "#7201a8"
             ],
             [
              0.3333333333333333,
              "#9c179e"
             ],
             [
              0.4444444444444444,
              "#bd3786"
             ],
             [
              0.5555555555555556,
              "#d8576b"
             ],
             [
              0.6666666666666666,
              "#ed7953"
             ],
             [
              0.7777777777777778,
              "#fb9f3a"
             ],
             [
              0.8888888888888888,
              "#fdca26"
             ],
             [
              1,
              "#f0f921"
             ]
            ],
            "type": "surface"
           }
          ],
          "table": [
           {
            "cells": {
             "fill": {
              "color": "#EBF0F8"
             },
             "line": {
              "color": "white"
             }
            },
            "header": {
             "fill": {
              "color": "#C8D4E3"
             },
             "line": {
              "color": "white"
             }
            },
            "type": "table"
           }
          ]
         },
         "layout": {
          "annotationdefaults": {
           "arrowcolor": "#2a3f5f",
           "arrowhead": 0,
           "arrowwidth": 1
          },
          "autotypenumbers": "strict",
          "coloraxis": {
           "colorbar": {
            "outlinewidth": 0,
            "ticks": ""
           }
          },
          "colorscale": {
           "diverging": [
            [
             0,
             "#8e0152"
            ],
            [
             0.1,
             "#c51b7d"
            ],
            [
             0.2,
             "#de77ae"
            ],
            [
             0.3,
             "#f1b6da"
            ],
            [
             0.4,
             "#fde0ef"
            ],
            [
             0.5,
             "#f7f7f7"
            ],
            [
             0.6,
             "#e6f5d0"
            ],
            [
             0.7,
             "#b8e186"
            ],
            [
             0.8,
             "#7fbc41"
            ],
            [
             0.9,
             "#4d9221"
            ],
            [
             1,
             "#276419"
            ]
           ],
           "sequential": [
            [
             0,
             "#0d0887"
            ],
            [
             0.1111111111111111,
             "#46039f"
            ],
            [
             0.2222222222222222,
             "#7201a8"
            ],
            [
             0.3333333333333333,
             "#9c179e"
            ],
            [
             0.4444444444444444,
             "#bd3786"
            ],
            [
             0.5555555555555556,
             "#d8576b"
            ],
            [
             0.6666666666666666,
             "#ed7953"
            ],
            [
             0.7777777777777778,
             "#fb9f3a"
            ],
            [
             0.8888888888888888,
             "#fdca26"
            ],
            [
             1,
             "#f0f921"
            ]
           ],
           "sequentialminus": [
            [
             0,
             "#0d0887"
            ],
            [
             0.1111111111111111,
             "#46039f"
            ],
            [
             0.2222222222222222,
             "#7201a8"
            ],
            [
             0.3333333333333333,
             "#9c179e"
            ],
            [
             0.4444444444444444,
             "#bd3786"
            ],
            [
             0.5555555555555556,
             "#d8576b"
            ],
            [
             0.6666666666666666,
             "#ed7953"
            ],
            [
             0.7777777777777778,
             "#fb9f3a"
            ],
            [
             0.8888888888888888,
             "#fdca26"
            ],
            [
             1,
             "#f0f921"
            ]
           ]
          },
          "colorway": [
           "#636efa",
           "#EF553B",
           "#00cc96",
           "#ab63fa",
           "#FFA15A",
           "#19d3f3",
           "#FF6692",
           "#B6E880",
           "#FF97FF",
           "#FECB52"
          ],
          "font": {
           "color": "#2a3f5f"
          },
          "geo": {
           "bgcolor": "white",
           "lakecolor": "white",
           "landcolor": "#E5ECF6",
           "showlakes": true,
           "showland": true,
           "subunitcolor": "white"
          },
          "hoverlabel": {
           "align": "left"
          },
          "hovermode": "closest",
          "mapbox": {
           "style": "light"
          },
          "paper_bgcolor": "white",
          "plot_bgcolor": "#E5ECF6",
          "polar": {
           "angularaxis": {
            "gridcolor": "white",
            "linecolor": "white",
            "ticks": ""
           },
           "bgcolor": "#E5ECF6",
           "radialaxis": {
            "gridcolor": "white",
            "linecolor": "white",
            "ticks": ""
           }
          },
          "scene": {
           "xaxis": {
            "backgroundcolor": "#E5ECF6",
            "gridcolor": "white",
            "gridwidth": 2,
            "linecolor": "white",
            "showbackground": true,
            "ticks": "",
            "zerolinecolor": "white"
           },
           "yaxis": {
            "backgroundcolor": "#E5ECF6",
            "gridcolor": "white",
            "gridwidth": 2,
            "linecolor": "white",
            "showbackground": true,
            "ticks": "",
            "zerolinecolor": "white"
           },
           "zaxis": {
            "backgroundcolor": "#E5ECF6",
            "gridcolor": "white",
            "gridwidth": 2,
            "linecolor": "white",
            "showbackground": true,
            "ticks": "",
            "zerolinecolor": "white"
           }
          },
          "shapedefaults": {
           "line": {
            "color": "#2a3f5f"
           }
          },
          "ternary": {
           "aaxis": {
            "gridcolor": "white",
            "linecolor": "white",
            "ticks": ""
           },
           "baxis": {
            "gridcolor": "white",
            "linecolor": "white",
            "ticks": ""
           },
           "bgcolor": "#E5ECF6",
           "caxis": {
            "gridcolor": "white",
            "linecolor": "white",
            "ticks": ""
           }
          },
          "title": {
           "x": 0.05
          },
          "xaxis": {
           "automargin": true,
           "gridcolor": "white",
           "linecolor": "white",
           "ticks": "",
           "title": {
            "standoff": 15
           },
           "zerolinecolor": "white",
           "zerolinewidth": 2
          },
          "yaxis": {
           "automargin": true,
           "gridcolor": "white",
           "linecolor": "white",
           "ticks": "",
           "title": {
            "standoff": 15
           },
           "zerolinecolor": "white",
           "zerolinewidth": 2
          }
         }
        },
        "title": {
         "text": "Mt Bruno Elevation"
        },
        "width": 500
       }
      }
     },
     "metadata": {},
     "output_type": "display_data"
    }
   ],
   "source": [
    "import plotly.graph_objects as go\n",
    "\n",
    "import pandas as pd\n",
    "\n",
    "# Read data from a csv\n",
    "z_data = pd.read_csv('https://raw.githubusercontent.com/plotly/datasets/master/api_docs/mt_bruno_elevation.csv')\n",
    "\n",
    "fig = go.Figure(data=[go.Surface(z=z_data.values)])\n",
    "\n",
    "fig.update_layout(title=dict(text='Mt Bruno Elevation'), autosize=False,\n",
    "                  width=500, height=500,\n",
    "                  margin=dict(l=65, r=50, b=65, t=90))\n",
    "\n",
    "fig.show()"
   ]
  },
  {
   "cell_type": "code",
   "execution_count": 12,
   "id": "e2e10292",
   "metadata": {},
   "outputs": [
    {
     "data": {
      "text/html": [
       "<div>\n",
       "<style scoped>\n",
       "    .dataframe tbody tr th:only-of-type {\n",
       "        vertical-align: middle;\n",
       "    }\n",
       "\n",
       "    .dataframe tbody tr th {\n",
       "        vertical-align: top;\n",
       "    }\n",
       "\n",
       "    .dataframe thead th {\n",
       "        text-align: right;\n",
       "    }\n",
       "</style>\n",
       "<table border=\"1\" class=\"dataframe\">\n",
       "  <thead>\n",
       "    <tr style=\"text-align: right;\">\n",
       "      <th></th>\n",
       "      <th>0</th>\n",
       "      <th>1</th>\n",
       "      <th>2</th>\n",
       "      <th>3</th>\n",
       "      <th>4</th>\n",
       "      <th>5</th>\n",
       "      <th>6</th>\n",
       "      <th>7</th>\n",
       "      <th>8</th>\n",
       "      <th>9</th>\n",
       "      <th>...</th>\n",
       "      <th>2101</th>\n",
       "      <th>2102</th>\n",
       "      <th>2103</th>\n",
       "      <th>2104</th>\n",
       "      <th>2105</th>\n",
       "      <th>2106</th>\n",
       "      <th>2107</th>\n",
       "      <th>2108</th>\n",
       "      <th>2109</th>\n",
       "      <th>2110</th>\n",
       "    </tr>\n",
       "  </thead>\n",
       "  <tbody>\n",
       "    <tr>\n",
       "      <th>0</th>\n",
       "      <td>103.6800</td>\n",
       "      <td>97.2800</td>\n",
       "      <td>115.200</td>\n",
       "      <td>115.200</td>\n",
       "      <td>113.9200</td>\n",
       "      <td>103.6800</td>\n",
       "      <td>96.000</td>\n",
       "      <td>104.9600</td>\n",
       "      <td>113.9200</td>\n",
       "      <td>110.0800</td>\n",
       "      <td>...</td>\n",
       "      <td>104.3200</td>\n",
       "      <td>104.3200</td>\n",
       "      <td>110.0800</td>\n",
       "      <td>110.7200</td>\n",
       "      <td>110.7200</td>\n",
       "      <td>109.4400</td>\n",
       "      <td>112.0000</td>\n",
       "      <td>112.0000</td>\n",
       "      <td>111.3600</td>\n",
       "      <td>111.3600</td>\n",
       "    </tr>\n",
       "    <tr>\n",
       "      <th>1</th>\n",
       "      <td>90.7200</td>\n",
       "      <td>85.1200</td>\n",
       "      <td>100.800</td>\n",
       "      <td>100.800</td>\n",
       "      <td>99.6800</td>\n",
       "      <td>90.7200</td>\n",
       "      <td>84.000</td>\n",
       "      <td>91.8400</td>\n",
       "      <td>99.6800</td>\n",
       "      <td>96.3200</td>\n",
       "      <td>...</td>\n",
       "      <td>91.2800</td>\n",
       "      <td>91.2800</td>\n",
       "      <td>96.3200</td>\n",
       "      <td>96.8800</td>\n",
       "      <td>96.8800</td>\n",
       "      <td>95.7600</td>\n",
       "      <td>98.0000</td>\n",
       "      <td>98.0000</td>\n",
       "      <td>97.4400</td>\n",
       "      <td>97.4400</td>\n",
       "    </tr>\n",
       "    <tr>\n",
       "      <th>2</th>\n",
       "      <td>124.7400</td>\n",
       "      <td>117.0400</td>\n",
       "      <td>138.600</td>\n",
       "      <td>138.600</td>\n",
       "      <td>137.0600</td>\n",
       "      <td>124.7400</td>\n",
       "      <td>115.500</td>\n",
       "      <td>126.2800</td>\n",
       "      <td>137.0600</td>\n",
       "      <td>132.4400</td>\n",
       "      <td>...</td>\n",
       "      <td>125.5100</td>\n",
       "      <td>125.5100</td>\n",
       "      <td>132.4400</td>\n",
       "      <td>133.2100</td>\n",
       "      <td>133.2100</td>\n",
       "      <td>131.6700</td>\n",
       "      <td>134.7500</td>\n",
       "      <td>134.7500</td>\n",
       "      <td>133.9800</td>\n",
       "      <td>133.9800</td>\n",
       "    </tr>\n",
       "    <tr>\n",
       "      <th>3</th>\n",
       "      <td>140.9400</td>\n",
       "      <td>132.2400</td>\n",
       "      <td>156.600</td>\n",
       "      <td>156.600</td>\n",
       "      <td>154.8600</td>\n",
       "      <td>140.9400</td>\n",
       "      <td>130.500</td>\n",
       "      <td>142.6800</td>\n",
       "      <td>154.8600</td>\n",
       "      <td>149.6400</td>\n",
       "      <td>...</td>\n",
       "      <td>141.8100</td>\n",
       "      <td>141.8100</td>\n",
       "      <td>149.6400</td>\n",
       "      <td>150.5100</td>\n",
       "      <td>150.5100</td>\n",
       "      <td>148.7700</td>\n",
       "      <td>152.2500</td>\n",
       "      <td>152.2500</td>\n",
       "      <td>151.3800</td>\n",
       "      <td>151.3800</td>\n",
       "    </tr>\n",
       "    <tr>\n",
       "      <th>4</th>\n",
       "      <td>145.4760</td>\n",
       "      <td>136.4960</td>\n",
       "      <td>161.640</td>\n",
       "      <td>161.640</td>\n",
       "      <td>159.8440</td>\n",
       "      <td>145.4760</td>\n",
       "      <td>134.700</td>\n",
       "      <td>147.2720</td>\n",
       "      <td>159.8440</td>\n",
       "      <td>154.4560</td>\n",
       "      <td>...</td>\n",
       "      <td>146.3740</td>\n",
       "      <td>146.3740</td>\n",
       "      <td>154.4560</td>\n",
       "      <td>155.3540</td>\n",
       "      <td>155.3540</td>\n",
       "      <td>153.5580</td>\n",
       "      <td>157.1500</td>\n",
       "      <td>157.1500</td>\n",
       "      <td>156.2520</td>\n",
       "      <td>156.2520</td>\n",
       "    </tr>\n",
       "    <tr>\n",
       "      <th>...</th>\n",
       "      <td>...</td>\n",
       "      <td>...</td>\n",
       "      <td>...</td>\n",
       "      <td>...</td>\n",
       "      <td>...</td>\n",
       "      <td>...</td>\n",
       "      <td>...</td>\n",
       "      <td>...</td>\n",
       "      <td>...</td>\n",
       "      <td>...</td>\n",
       "      <td>...</td>\n",
       "      <td>...</td>\n",
       "      <td>...</td>\n",
       "      <td>...</td>\n",
       "      <td>...</td>\n",
       "      <td>...</td>\n",
       "      <td>...</td>\n",
       "      <td>...</td>\n",
       "      <td>...</td>\n",
       "      <td>...</td>\n",
       "      <td>...</td>\n",
       "    </tr>\n",
       "    <tr>\n",
       "      <th>2106</th>\n",
       "      <td>212.8842</td>\n",
       "      <td>199.7432</td>\n",
       "      <td>236.538</td>\n",
       "      <td>236.538</td>\n",
       "      <td>233.9098</td>\n",
       "      <td>212.8842</td>\n",
       "      <td>197.115</td>\n",
       "      <td>215.5124</td>\n",
       "      <td>233.9098</td>\n",
       "      <td>226.0252</td>\n",
       "      <td>...</td>\n",
       "      <td>214.1983</td>\n",
       "      <td>214.1983</td>\n",
       "      <td>226.0252</td>\n",
       "      <td>227.3393</td>\n",
       "      <td>227.3393</td>\n",
       "      <td>224.7111</td>\n",
       "      <td>229.9675</td>\n",
       "      <td>229.9675</td>\n",
       "      <td>228.6534</td>\n",
       "      <td>228.6534</td>\n",
       "    </tr>\n",
       "    <tr>\n",
       "      <th>2107</th>\n",
       "      <td>216.6588</td>\n",
       "      <td>203.2848</td>\n",
       "      <td>240.732</td>\n",
       "      <td>240.732</td>\n",
       "      <td>238.0572</td>\n",
       "      <td>216.6588</td>\n",
       "      <td>200.610</td>\n",
       "      <td>219.3336</td>\n",
       "      <td>238.0572</td>\n",
       "      <td>230.0328</td>\n",
       "      <td>...</td>\n",
       "      <td>217.9962</td>\n",
       "      <td>217.9962</td>\n",
       "      <td>230.0328</td>\n",
       "      <td>231.3702</td>\n",
       "      <td>231.3702</td>\n",
       "      <td>228.6954</td>\n",
       "      <td>234.0450</td>\n",
       "      <td>234.0450</td>\n",
       "      <td>232.7076</td>\n",
       "      <td>232.7076</td>\n",
       "    </tr>\n",
       "    <tr>\n",
       "      <th>2108</th>\n",
       "      <td>216.5778</td>\n",
       "      <td>203.2088</td>\n",
       "      <td>240.642</td>\n",
       "      <td>240.642</td>\n",
       "      <td>237.9682</td>\n",
       "      <td>216.5778</td>\n",
       "      <td>200.535</td>\n",
       "      <td>219.2516</td>\n",
       "      <td>237.9682</td>\n",
       "      <td>229.9468</td>\n",
       "      <td>...</td>\n",
       "      <td>217.9147</td>\n",
       "      <td>217.9147</td>\n",
       "      <td>229.9468</td>\n",
       "      <td>231.2837</td>\n",
       "      <td>231.2837</td>\n",
       "      <td>228.6099</td>\n",
       "      <td>233.9575</td>\n",
       "      <td>233.9575</td>\n",
       "      <td>232.6206</td>\n",
       "      <td>232.6206</td>\n",
       "    </tr>\n",
       "    <tr>\n",
       "      <th>2109</th>\n",
       "      <td>216.0270</td>\n",
       "      <td>202.6920</td>\n",
       "      <td>240.030</td>\n",
       "      <td>240.030</td>\n",
       "      <td>237.3630</td>\n",
       "      <td>216.0270</td>\n",
       "      <td>200.025</td>\n",
       "      <td>218.6940</td>\n",
       "      <td>237.3630</td>\n",
       "      <td>229.3620</td>\n",
       "      <td>...</td>\n",
       "      <td>217.3605</td>\n",
       "      <td>217.3605</td>\n",
       "      <td>229.3620</td>\n",
       "      <td>230.6955</td>\n",
       "      <td>230.6955</td>\n",
       "      <td>228.0285</td>\n",
       "      <td>233.3625</td>\n",
       "      <td>233.3625</td>\n",
       "      <td>232.0290</td>\n",
       "      <td>232.0290</td>\n",
       "    </tr>\n",
       "    <tr>\n",
       "      <th>2110</th>\n",
       "      <td>216.2214</td>\n",
       "      <td>202.8744</td>\n",
       "      <td>240.246</td>\n",
       "      <td>240.246</td>\n",
       "      <td>237.5766</td>\n",
       "      <td>216.2214</td>\n",
       "      <td>200.205</td>\n",
       "      <td>218.8908</td>\n",
       "      <td>237.5766</td>\n",
       "      <td>229.5684</td>\n",
       "      <td>...</td>\n",
       "      <td>217.5561</td>\n",
       "      <td>217.5561</td>\n",
       "      <td>229.5684</td>\n",
       "      <td>230.9031</td>\n",
       "      <td>230.9031</td>\n",
       "      <td>228.2337</td>\n",
       "      <td>233.5725</td>\n",
       "      <td>233.5725</td>\n",
       "      <td>232.2378</td>\n",
       "      <td>232.2378</td>\n",
       "    </tr>\n",
       "  </tbody>\n",
       "</table>\n",
       "<p>2111 rows × 2111 columns</p>\n",
       "</div>"
      ],
      "text/plain": [
       "          0         1        2        3         4         5        6     \\\n",
       "0     103.6800   97.2800  115.200  115.200  113.9200  103.6800   96.000   \n",
       "1      90.7200   85.1200  100.800  100.800   99.6800   90.7200   84.000   \n",
       "2     124.7400  117.0400  138.600  138.600  137.0600  124.7400  115.500   \n",
       "3     140.9400  132.2400  156.600  156.600  154.8600  140.9400  130.500   \n",
       "4     145.4760  136.4960  161.640  161.640  159.8440  145.4760  134.700   \n",
       "...        ...       ...      ...      ...       ...       ...      ...   \n",
       "2106  212.8842  199.7432  236.538  236.538  233.9098  212.8842  197.115   \n",
       "2107  216.6588  203.2848  240.732  240.732  238.0572  216.6588  200.610   \n",
       "2108  216.5778  203.2088  240.642  240.642  237.9682  216.5778  200.535   \n",
       "2109  216.0270  202.6920  240.030  240.030  237.3630  216.0270  200.025   \n",
       "2110  216.2214  202.8744  240.246  240.246  237.5766  216.2214  200.205   \n",
       "\n",
       "          7         8         9     ...      2101      2102      2103  \\\n",
       "0     104.9600  113.9200  110.0800  ...  104.3200  104.3200  110.0800   \n",
       "1      91.8400   99.6800   96.3200  ...   91.2800   91.2800   96.3200   \n",
       "2     126.2800  137.0600  132.4400  ...  125.5100  125.5100  132.4400   \n",
       "3     142.6800  154.8600  149.6400  ...  141.8100  141.8100  149.6400   \n",
       "4     147.2720  159.8440  154.4560  ...  146.3740  146.3740  154.4560   \n",
       "...        ...       ...       ...  ...       ...       ...       ...   \n",
       "2106  215.5124  233.9098  226.0252  ...  214.1983  214.1983  226.0252   \n",
       "2107  219.3336  238.0572  230.0328  ...  217.9962  217.9962  230.0328   \n",
       "2108  219.2516  237.9682  229.9468  ...  217.9147  217.9147  229.9468   \n",
       "2109  218.6940  237.3630  229.3620  ...  217.3605  217.3605  229.3620   \n",
       "2110  218.8908  237.5766  229.5684  ...  217.5561  217.5561  229.5684   \n",
       "\n",
       "          2104      2105      2106      2107      2108      2109      2110  \n",
       "0     110.7200  110.7200  109.4400  112.0000  112.0000  111.3600  111.3600  \n",
       "1      96.8800   96.8800   95.7600   98.0000   98.0000   97.4400   97.4400  \n",
       "2     133.2100  133.2100  131.6700  134.7500  134.7500  133.9800  133.9800  \n",
       "3     150.5100  150.5100  148.7700  152.2500  152.2500  151.3800  151.3800  \n",
       "4     155.3540  155.3540  153.5580  157.1500  157.1500  156.2520  156.2520  \n",
       "...        ...       ...       ...       ...       ...       ...       ...  \n",
       "2106  227.3393  227.3393  224.7111  229.9675  229.9675  228.6534  228.6534  \n",
       "2107  231.3702  231.3702  228.6954  234.0450  234.0450  232.7076  232.7076  \n",
       "2108  231.2837  231.2837  228.6099  233.9575  233.9575  232.6206  232.6206  \n",
       "2109  230.6955  230.6955  228.0285  233.3625  233.3625  232.0290  232.0290  \n",
       "2110  230.9031  230.9031  228.2337  233.5725  233.5725  232.2378  232.2378  \n",
       "\n",
       "[2111 rows x 2111 columns]"
      ]
     },
     "execution_count": 12,
     "metadata": {},
     "output_type": "execute_result"
    }
   ],
   "source": [
    "# z_data = pd.read_csv('https://raw.githubusercontent.com/plotly/datasets/master/api_docs/mt_bruno_elevation.csv')\n",
    "\n",
    "#numerical column 1\n",
    "data1 = np.array(df['Weight'])\n",
    "data2 = np.array(df['Height'])\n",
    "\n",
    "#DataSet do gráfico 3d\n",
    "z_data = data1.reshape(-1, 1) * data2\n",
    "z_data = pd.DataFrame(z_data)\n",
    "\n",
    "z_data\n",
    "\n",
    "# z_data = pd.read_csv('https://raw.githubusercontent.com/plotly/datasets/master/api_docs/mt_bruno_elevation.csv')\n",
    "\n",
    "# fig = go.Figure(data=[go.Surface(z=z_data.values)])\n",
    "\n",
    "# fig.update_layout(title=dict(text='Mt Bruno Elevation'), autosize=False,\n",
    "#                   width=500, height=500,\n",
    "#                   margin=dict(l=65, r=50, b=65, t=90))\n",
    "\n",
    "# fig.show()"
   ]
  },
  {
   "cell_type": "markdown",
   "id": "1989dafa",
   "metadata": {},
   "source": [
    "#### Scatter Plot para mais de um conjunto de dados\n",
    "\n",
    "Tem que sobrepor com a média de casa Categoria (Usar uma Linha)"
   ]
  },
  {
   "cell_type": "code",
   "execution_count": 4,
   "id": "0c2a2ef5",
   "metadata": {},
   "outputs": [
    {
     "data": {
      "application/vnd.plotly.v1+json": {
       "config": {
        "plotlyServerURL": "https://plot.ly"
       },
       "data": [
        {
         "hovertemplate": "species=setosa<br>sepal_width=%{x}<br>sepal_length=%{y}<extra></extra>",
         "legendgroup": "setosa",
         "marker": {
          "color": "#636efa",
          "symbol": "circle"
         },
         "mode": "markers",
         "name": "setosa",
         "orientation": "v",
         "showlegend": true,
         "type": "scatter",
         "x": {
          "bdata": "AAAAAAAADEAAAAAAAAAIQJqZmZmZmQlAzczMzMzMCEDNzMzMzMwMQDMzMzMzMw9AMzMzMzMzC0AzMzMzMzMLQDMzMzMzMwdAzczMzMzMCECamZmZmZkNQDMzMzMzMwtAAAAAAAAACEAAAAAAAAAIQAAAAAAAABBAmpmZmZmZEUAzMzMzMzMPQAAAAAAAAAxAZmZmZmZmDkBmZmZmZmYOQDMzMzMzMwtAmpmZmZmZDUDNzMzMzMwMQGZmZmZmZgpAMzMzMzMzC0AAAAAAAAAIQDMzMzMzMwtAAAAAAAAADEAzMzMzMzMLQJqZmZmZmQlAzczMzMzMCEAzMzMzMzMLQGZmZmZmZhBAzczMzMzMEEDNzMzMzMwIQJqZmZmZmQlAAAAAAAAADEDNzMzMzMwIQAAAAAAAAAhAMzMzMzMzC0AAAAAAAAAMQGZmZmZmZgJAmpmZmZmZCUAAAAAAAAAMQGZmZmZmZg5AAAAAAAAACEBmZmZmZmYOQJqZmZmZmQlAmpmZmZmZDUBmZmZmZmYKQA==",
          "dtype": "f8"
         },
         "xaxis": "x",
         "y": {
          "bdata": "ZmZmZmZmFECamZmZmZkTQM3MzMzMzBJAZmZmZmZmEkAAAAAAAAAUQJqZmZmZmRVAZmZmZmZmEkAAAAAAAAAUQJqZmZmZmRFAmpmZmZmZE0CamZmZmZkVQDMzMzMzMxNAMzMzMzMzE0AzMzMzMzMRQDMzMzMzMxdAzczMzMzMFkCamZmZmZkVQGZmZmZmZhRAzczMzMzMFkBmZmZmZmYUQJqZmZmZmRVAZmZmZmZmFEBmZmZmZmYSQGZmZmZmZhRAMzMzMzMzE0AAAAAAAAAUQAAAAAAAABRAzczMzMzMFEDNzMzMzMwUQM3MzMzMzBJAMzMzMzMzE0CamZmZmZkVQM3MzMzMzBRAAAAAAAAAFkCamZmZmZkTQAAAAAAAABRAAAAAAAAAFkCamZmZmZkTQJqZmZmZmRFAZmZmZmZmFEAAAAAAAAAUQAAAAAAAABJAmpmZmZmZEUAAAAAAAAAUQGZmZmZmZhRAMzMzMzMzE0BmZmZmZmYUQGZmZmZmZhJAMzMzMzMzFUAAAAAAAAAUQA==",
          "dtype": "f8"
         },
         "yaxis": "y"
        },
        {
         "hovertemplate": "species=versicolor<br>sepal_width=%{x}<br>sepal_length=%{y}<extra></extra>",
         "legendgroup": "versicolor",
         "marker": {
          "color": "#EF553B",
          "symbol": "diamond"
         },
         "mode": "markers",
         "name": "versicolor",
         "orientation": "v",
         "showlegend": true,
         "type": "scatter",
         "x": {
          "bdata": "mpmZmZmZCUCamZmZmZkJQM3MzMzMzAhAZmZmZmZmAkBmZmZmZmYGQGZmZmZmZgZAZmZmZmZmCkAzMzMzMzMDQDMzMzMzMwdAmpmZmZmZBUAAAAAAAAAAQAAAAAAAAAhAmpmZmZmZAUAzMzMzMzMHQDMzMzMzMwdAzczMzMzMCEAAAAAAAAAIQJqZmZmZmQVAmpmZmZmZAUAAAAAAAAAEQJqZmZmZmQlAZmZmZmZmBkAAAAAAAAAEQGZmZmZmZgZAMzMzMzMzB0AAAAAAAAAIQGZmZmZmZgZAAAAAAAAACEAzMzMzMzMHQM3MzMzMzARAMzMzMzMzA0AzMzMzMzMDQJqZmZmZmQVAmpmZmZmZBUAAAAAAAAAIQDMzMzMzMwtAzczMzMzMCEBmZmZmZmYCQAAAAAAAAAhAAAAAAAAABEDNzMzMzMwEQAAAAAAAAAhAzczMzMzMBEBmZmZmZmYCQJqZmZmZmQVAAAAAAAAACEAzMzMzMzMHQDMzMzMzMwdAAAAAAAAABEBmZmZmZmYGQA==",
          "dtype": "f8"
         },
         "xaxis": "x",
         "y": {
          "bdata": "AAAAAAAAHECamZmZmZkZQJqZmZmZmRtAAAAAAAAAFkAAAAAAAAAaQM3MzMzMzBZAMzMzMzMzGUCamZmZmZkTQGZmZmZmZhpAzczMzMzMFEAAAAAAAAAUQJqZmZmZmRdAAAAAAAAAGEBmZmZmZmYYQGZmZmZmZhZAzczMzMzMGkBmZmZmZmYWQDMzMzMzMxdAzczMzMzMGEBmZmZmZmYWQJqZmZmZmRdAZmZmZmZmGEAzMzMzMzMZQGZmZmZmZhhAmpmZmZmZGUBmZmZmZmYaQDMzMzMzMxtAzczMzMzMGkAAAAAAAAAYQM3MzMzMzBZAAAAAAAAAFkAAAAAAAAAWQDMzMzMzMxdAAAAAAAAAGECamZmZmZkVQAAAAAAAABhAzczMzMzMGkAzMzMzMzMZQGZmZmZmZhZAAAAAAAAAFkAAAAAAAAAWQGZmZmZmZhhAMzMzMzMzF0AAAAAAAAAUQGZmZmZmZhZAzczMzMzMFkDNzMzMzMwWQM3MzMzMzBhAZmZmZmZmFEDNzMzMzMwWQA==",
          "dtype": "f8"
         },
         "yaxis": "y"
        },
        {
         "hovertemplate": "species=virginica<br>sepal_width=%{x}<br>sepal_length=%{y}<extra></extra>",
         "legendgroup": "virginica",
         "marker": {
          "color": "#00cc96",
          "symbol": "square"
         },
         "mode": "markers",
         "name": "virginica",
         "orientation": "v",
         "showlegend": true,
         "type": "scatter",
         "x": {
          "bdata": "ZmZmZmZmCkCamZmZmZkFQAAAAAAAAAhAMzMzMzMzB0AAAAAAAAAIQAAAAAAAAAhAAAAAAAAABEAzMzMzMzMHQAAAAAAAAARAzczMzMzMDECamZmZmZkJQJqZmZmZmQVAAAAAAAAACEAAAAAAAAAEQGZmZmZmZgZAmpmZmZmZCUAAAAAAAAAIQGZmZmZmZg5AzczMzMzMBECamZmZmZkBQJqZmZmZmQlAZmZmZmZmBkBmZmZmZmYGQJqZmZmZmQVAZmZmZmZmCkCamZmZmZkJQGZmZmZmZgZAAAAAAAAACEBmZmZmZmYGQAAAAAAAAAhAZmZmZmZmBkBmZmZmZmYOQGZmZmZmZgZAZmZmZmZmBkDNzMzMzMwEQAAAAAAAAAhAMzMzMzMzC0DNzMzMzMwIQAAAAAAAAAhAzczMzMzMCEDNzMzMzMwIQM3MzMzMzAhAmpmZmZmZBUCamZmZmZkJQGZmZmZmZgpAAAAAAAAACEAAAAAAAAAEQAAAAAAAAAhAMzMzMzMzC0AAAAAAAAAIQA==",
          "dtype": "f8"
         },
         "xaxis": "x",
         "y": {
          "bdata": "MzMzMzMzGUAzMzMzMzMXQGZmZmZmZhxAMzMzMzMzGUAAAAAAAAAaQGZmZmZmZh5AmpmZmZmZE0AzMzMzMzMdQM3MzMzMzBpAzczMzMzMHEAAAAAAAAAaQJqZmZmZmRlAMzMzMzMzG0DNzMzMzMwWQDMzMzMzMxdAmpmZmZmZGUAAAAAAAAAaQM3MzMzMzB5AzczMzMzMHkAAAAAAAAAYQJqZmZmZmRtAZmZmZmZmFkDNzMzMzMweQDMzMzMzMxlAzczMzMzMGkDNzMzMzMwcQM3MzMzMzBhAZmZmZmZmGECamZmZmZkZQM3MzMzMzBxAmpmZmZmZHUCamZmZmZkfQJqZmZmZmRlAMzMzMzMzGUBmZmZmZmYYQM3MzMzMzB5AMzMzMzMzGUCamZmZmZkZQAAAAAAAABhAmpmZmZmZG0DNzMzMzMwaQJqZmZmZmRtAMzMzMzMzF0AzMzMzMzMbQM3MzMzMzBpAzczMzMzMGkAzMzMzMzMZQAAAAAAAABpAzczMzMzMGECamZmZmZkXQA==",
          "dtype": "f8"
         },
         "yaxis": "y"
        }
       ],
       "layout": {
        "legend": {
         "title": {
          "text": "species"
         },
         "tracegroupgap": 0
        },
        "margin": {
         "t": 60
        },
        "template": {
         "data": {
          "bar": [
           {
            "error_x": {
             "color": "#2a3f5f"
            },
            "error_y": {
             "color": "#2a3f5f"
            },
            "marker": {
             "line": {
              "color": "#E5ECF6",
              "width": 0.5
             },
             "pattern": {
              "fillmode": "overlay",
              "size": 10,
              "solidity": 0.2
             }
            },
            "type": "bar"
           }
          ],
          "barpolar": [
           {
            "marker": {
             "line": {
              "color": "#E5ECF6",
              "width": 0.5
             },
             "pattern": {
              "fillmode": "overlay",
              "size": 10,
              "solidity": 0.2
             }
            },
            "type": "barpolar"
           }
          ],
          "carpet": [
           {
            "aaxis": {
             "endlinecolor": "#2a3f5f",
             "gridcolor": "white",
             "linecolor": "white",
             "minorgridcolor": "white",
             "startlinecolor": "#2a3f5f"
            },
            "baxis": {
             "endlinecolor": "#2a3f5f",
             "gridcolor": "white",
             "linecolor": "white",
             "minorgridcolor": "white",
             "startlinecolor": "#2a3f5f"
            },
            "type": "carpet"
           }
          ],
          "choropleth": [
           {
            "colorbar": {
             "outlinewidth": 0,
             "ticks": ""
            },
            "type": "choropleth"
           }
          ],
          "contour": [
           {
            "colorbar": {
             "outlinewidth": 0,
             "ticks": ""
            },
            "colorscale": [
             [
              0,
              "#0d0887"
             ],
             [
              0.1111111111111111,
              "#46039f"
             ],
             [
              0.2222222222222222,
              "#7201a8"
             ],
             [
              0.3333333333333333,
              "#9c179e"
             ],
             [
              0.4444444444444444,
              "#bd3786"
             ],
             [
              0.5555555555555556,
              "#d8576b"
             ],
             [
              0.6666666666666666,
              "#ed7953"
             ],
             [
              0.7777777777777778,
              "#fb9f3a"
             ],
             [
              0.8888888888888888,
              "#fdca26"
             ],
             [
              1,
              "#f0f921"
             ]
            ],
            "type": "contour"
           }
          ],
          "contourcarpet": [
           {
            "colorbar": {
             "outlinewidth": 0,
             "ticks": ""
            },
            "type": "contourcarpet"
           }
          ],
          "heatmap": [
           {
            "colorbar": {
             "outlinewidth": 0,
             "ticks": ""
            },
            "colorscale": [
             [
              0,
              "#0d0887"
             ],
             [
              0.1111111111111111,
              "#46039f"
             ],
             [
              0.2222222222222222,
              "#7201a8"
             ],
             [
              0.3333333333333333,
              "#9c179e"
             ],
             [
              0.4444444444444444,
              "#bd3786"
             ],
             [
              0.5555555555555556,
              "#d8576b"
             ],
             [
              0.6666666666666666,
              "#ed7953"
             ],
             [
              0.7777777777777778,
              "#fb9f3a"
             ],
             [
              0.8888888888888888,
              "#fdca26"
             ],
             [
              1,
              "#f0f921"
             ]
            ],
            "type": "heatmap"
           }
          ],
          "histogram": [
           {
            "marker": {
             "pattern": {
              "fillmode": "overlay",
              "size": 10,
              "solidity": 0.2
             }
            },
            "type": "histogram"
           }
          ],
          "histogram2d": [
           {
            "colorbar": {
             "outlinewidth": 0,
             "ticks": ""
            },
            "colorscale": [
             [
              0,
              "#0d0887"
             ],
             [
              0.1111111111111111,
              "#46039f"
             ],
             [
              0.2222222222222222,
              "#7201a8"
             ],
             [
              0.3333333333333333,
              "#9c179e"
             ],
             [
              0.4444444444444444,
              "#bd3786"
             ],
             [
              0.5555555555555556,
              "#d8576b"
             ],
             [
              0.6666666666666666,
              "#ed7953"
             ],
             [
              0.7777777777777778,
              "#fb9f3a"
             ],
             [
              0.8888888888888888,
              "#fdca26"
             ],
             [
              1,
              "#f0f921"
             ]
            ],
            "type": "histogram2d"
           }
          ],
          "histogram2dcontour": [
           {
            "colorbar": {
             "outlinewidth": 0,
             "ticks": ""
            },
            "colorscale": [
             [
              0,
              "#0d0887"
             ],
             [
              0.1111111111111111,
              "#46039f"
             ],
             [
              0.2222222222222222,
              "#7201a8"
             ],
             [
              0.3333333333333333,
              "#9c179e"
             ],
             [
              0.4444444444444444,
              "#bd3786"
             ],
             [
              0.5555555555555556,
              "#d8576b"
             ],
             [
              0.6666666666666666,
              "#ed7953"
             ],
             [
              0.7777777777777778,
              "#fb9f3a"
             ],
             [
              0.8888888888888888,
              "#fdca26"
             ],
             [
              1,
              "#f0f921"
             ]
            ],
            "type": "histogram2dcontour"
           }
          ],
          "mesh3d": [
           {
            "colorbar": {
             "outlinewidth": 0,
             "ticks": ""
            },
            "type": "mesh3d"
           }
          ],
          "parcoords": [
           {
            "line": {
             "colorbar": {
              "outlinewidth": 0,
              "ticks": ""
             }
            },
            "type": "parcoords"
           }
          ],
          "pie": [
           {
            "automargin": true,
            "type": "pie"
           }
          ],
          "scatter": [
           {
            "fillpattern": {
             "fillmode": "overlay",
             "size": 10,
             "solidity": 0.2
            },
            "type": "scatter"
           }
          ],
          "scatter3d": [
           {
            "line": {
             "colorbar": {
              "outlinewidth": 0,
              "ticks": ""
             }
            },
            "marker": {
             "colorbar": {
              "outlinewidth": 0,
              "ticks": ""
             }
            },
            "type": "scatter3d"
           }
          ],
          "scattercarpet": [
           {
            "marker": {
             "colorbar": {
              "outlinewidth": 0,
              "ticks": ""
             }
            },
            "type": "scattercarpet"
           }
          ],
          "scattergeo": [
           {
            "marker": {
             "colorbar": {
              "outlinewidth": 0,
              "ticks": ""
             }
            },
            "type": "scattergeo"
           }
          ],
          "scattergl": [
           {
            "marker": {
             "colorbar": {
              "outlinewidth": 0,
              "ticks": ""
             }
            },
            "type": "scattergl"
           }
          ],
          "scattermap": [
           {
            "marker": {
             "colorbar": {
              "outlinewidth": 0,
              "ticks": ""
             }
            },
            "type": "scattermap"
           }
          ],
          "scattermapbox": [
           {
            "marker": {
             "colorbar": {
              "outlinewidth": 0,
              "ticks": ""
             }
            },
            "type": "scattermapbox"
           }
          ],
          "scatterpolar": [
           {
            "marker": {
             "colorbar": {
              "outlinewidth": 0,
              "ticks": ""
             }
            },
            "type": "scatterpolar"
           }
          ],
          "scatterpolargl": [
           {
            "marker": {
             "colorbar": {
              "outlinewidth": 0,
              "ticks": ""
             }
            },
            "type": "scatterpolargl"
           }
          ],
          "scatterternary": [
           {
            "marker": {
             "colorbar": {
              "outlinewidth": 0,
              "ticks": ""
             }
            },
            "type": "scatterternary"
           }
          ],
          "surface": [
           {
            "colorbar": {
             "outlinewidth": 0,
             "ticks": ""
            },
            "colorscale": [
             [
              0,
              "#0d0887"
             ],
             [
              0.1111111111111111,
              "#46039f"
             ],
             [
              0.2222222222222222,
              "#7201a8"
             ],
             [
              0.3333333333333333,
              "#9c179e"
             ],
             [
              0.4444444444444444,
              "#bd3786"
             ],
             [
              0.5555555555555556,
              "#d8576b"
             ],
             [
              0.6666666666666666,
              "#ed7953"
             ],
             [
              0.7777777777777778,
              "#fb9f3a"
             ],
             [
              0.8888888888888888,
              "#fdca26"
             ],
             [
              1,
              "#f0f921"
             ]
            ],
            "type": "surface"
           }
          ],
          "table": [
           {
            "cells": {
             "fill": {
              "color": "#EBF0F8"
             },
             "line": {
              "color": "white"
             }
            },
            "header": {
             "fill": {
              "color": "#C8D4E3"
             },
             "line": {
              "color": "white"
             }
            },
            "type": "table"
           }
          ]
         },
         "layout": {
          "annotationdefaults": {
           "arrowcolor": "#2a3f5f",
           "arrowhead": 0,
           "arrowwidth": 1
          },
          "autotypenumbers": "strict",
          "coloraxis": {
           "colorbar": {
            "outlinewidth": 0,
            "ticks": ""
           }
          },
          "colorscale": {
           "diverging": [
            [
             0,
             "#8e0152"
            ],
            [
             0.1,
             "#c51b7d"
            ],
            [
             0.2,
             "#de77ae"
            ],
            [
             0.3,
             "#f1b6da"
            ],
            [
             0.4,
             "#fde0ef"
            ],
            [
             0.5,
             "#f7f7f7"
            ],
            [
             0.6,
             "#e6f5d0"
            ],
            [
             0.7,
             "#b8e186"
            ],
            [
             0.8,
             "#7fbc41"
            ],
            [
             0.9,
             "#4d9221"
            ],
            [
             1,
             "#276419"
            ]
           ],
           "sequential": [
            [
             0,
             "#0d0887"
            ],
            [
             0.1111111111111111,
             "#46039f"
            ],
            [
             0.2222222222222222,
             "#7201a8"
            ],
            [
             0.3333333333333333,
             "#9c179e"
            ],
            [
             0.4444444444444444,
             "#bd3786"
            ],
            [
             0.5555555555555556,
             "#d8576b"
            ],
            [
             0.6666666666666666,
             "#ed7953"
            ],
            [
             0.7777777777777778,
             "#fb9f3a"
            ],
            [
             0.8888888888888888,
             "#fdca26"
            ],
            [
             1,
             "#f0f921"
            ]
           ],
           "sequentialminus": [
            [
             0,
             "#0d0887"
            ],
            [
             0.1111111111111111,
             "#46039f"
            ],
            [
             0.2222222222222222,
             "#7201a8"
            ],
            [
             0.3333333333333333,
             "#9c179e"
            ],
            [
             0.4444444444444444,
             "#bd3786"
            ],
            [
             0.5555555555555556,
             "#d8576b"
            ],
            [
             0.6666666666666666,
             "#ed7953"
            ],
            [
             0.7777777777777778,
             "#fb9f3a"
            ],
            [
             0.8888888888888888,
             "#fdca26"
            ],
            [
             1,
             "#f0f921"
            ]
           ]
          },
          "colorway": [
           "#636efa",
           "#EF553B",
           "#00cc96",
           "#ab63fa",
           "#FFA15A",
           "#19d3f3",
           "#FF6692",
           "#B6E880",
           "#FF97FF",
           "#FECB52"
          ],
          "font": {
           "color": "#2a3f5f"
          },
          "geo": {
           "bgcolor": "white",
           "lakecolor": "white",
           "landcolor": "#E5ECF6",
           "showlakes": true,
           "showland": true,
           "subunitcolor": "white"
          },
          "hoverlabel": {
           "align": "left"
          },
          "hovermode": "closest",
          "mapbox": {
           "style": "light"
          },
          "paper_bgcolor": "white",
          "plot_bgcolor": "#E5ECF6",
          "polar": {
           "angularaxis": {
            "gridcolor": "white",
            "linecolor": "white",
            "ticks": ""
           },
           "bgcolor": "#E5ECF6",
           "radialaxis": {
            "gridcolor": "white",
            "linecolor": "white",
            "ticks": ""
           }
          },
          "scene": {
           "xaxis": {
            "backgroundcolor": "#E5ECF6",
            "gridcolor": "white",
            "gridwidth": 2,
            "linecolor": "white",
            "showbackground": true,
            "ticks": "",
            "zerolinecolor": "white"
           },
           "yaxis": {
            "backgroundcolor": "#E5ECF6",
            "gridcolor": "white",
            "gridwidth": 2,
            "linecolor": "white",
            "showbackground": true,
            "ticks": "",
            "zerolinecolor": "white"
           },
           "zaxis": {
            "backgroundcolor": "#E5ECF6",
            "gridcolor": "white",
            "gridwidth": 2,
            "linecolor": "white",
            "showbackground": true,
            "ticks": "",
            "zerolinecolor": "white"
           }
          },
          "shapedefaults": {
           "line": {
            "color": "#2a3f5f"
           }
          },
          "ternary": {
           "aaxis": {
            "gridcolor": "white",
            "linecolor": "white",
            "ticks": ""
           },
           "baxis": {
            "gridcolor": "white",
            "linecolor": "white",
            "ticks": ""
           },
           "bgcolor": "#E5ECF6",
           "caxis": {
            "gridcolor": "white",
            "linecolor": "white",
            "ticks": ""
           }
          },
          "title": {
           "x": 0.05
          },
          "xaxis": {
           "automargin": true,
           "gridcolor": "white",
           "linecolor": "white",
           "ticks": "",
           "title": {
            "standoff": 15
           },
           "zerolinecolor": "white",
           "zerolinewidth": 2
          },
          "yaxis": {
           "automargin": true,
           "gridcolor": "white",
           "linecolor": "white",
           "ticks": "",
           "title": {
            "standoff": 15
           },
           "zerolinecolor": "white",
           "zerolinewidth": 2
          }
         }
        },
        "xaxis": {
         "anchor": "y",
         "domain": [
          0,
          1
         ],
         "title": {
          "text": "sepal_width"
         }
        },
        "yaxis": {
         "anchor": "x",
         "domain": [
          0,
          1
         ],
         "title": {
          "text": "sepal_length"
         }
        }
       }
      }
     },
     "metadata": {},
     "output_type": "display_data"
    }
   ],
   "source": [
    "import plotly.express as px\n",
    "df = px.data.iris()\n",
    "fig = px.scatter(df, x=\"sepal_width\", y=\"sepal_length\", color=\"species\", symbol=\"species\")\n",
    "fig.show()"
   ]
  },
  {
   "cell_type": "markdown",
   "id": "139f5f49",
   "metadata": {},
   "source": [
    "##### Gráfico de Linhas Simples"
   ]
  },
  {
   "cell_type": "code",
   "execution_count": null,
   "id": "5dc3f551",
   "metadata": {},
   "outputs": [],
   "source": [
    "import plotly.express as px\n",
    "\n",
    "df = px.data.gapminder().query(\"continent=='Oceania'\")\n",
    "fig = px.line(df, x=\"year\", y=\"lifeExp\", color='country')\n",
    "fig.show()"
   ]
  },
  {
   "cell_type": "markdown",
   "id": "18a5228b",
   "metadata": {},
   "source": [
    "### 3º Gráfico Plotly\n",
    "Relação Altura/Atividade física (BoxPlot)\n",
    "-> Adicionar Filtros: Fumante, Peso, Gênero"
   ]
  },
  {
   "cell_type": "code",
   "execution_count": 5,
   "id": "6128365c",
   "metadata": {},
   "outputs": [
    {
     "data": {
      "application/vnd.plotly.v1+json": {
       "config": {
        "plotlyServerURL": "https://plot.ly"
       },
       "data": [
        {
         "marker": {
          "color": "hsl(0.0,50%,50%)"
         },
         "type": "box",
         "y": {
          "bdata": "HDtCfm7E6D8qiA04XIvvP979EsC2SOA/xtwOTqVR/D9mwi5zY4foP0jvmNF2C+M/ktPMtYn29j+8ctshbW7YP9h8rEXfQc4/Ys+tkq/I+j8=",
          "dtype": "f8"
         }
        },
        {
         "marker": {
          "color": "hsl(12.413793103448276,50%,50%)"
         },
         "type": "box",
         "y": {
          "bdata": "Rr7LkKoq/j8Zng76+EH5P9JzZzcxTOw/QtDOobNN+j/jqWBhTMn6P3yCZMTT2vA/7REMe1YW4T8izln5RUMBQB4O+MzbFfU/r5Uv8SDM/j8=",
          "dtype": "f8"
         }
        },
        {
         "marker": {
          "color": "hsl(24.82758620689655,50%,50%)"
         },
         "type": "box",
         "y": {
          "bdata": "hs7PiS7K9D9tTeid3Yf/P/cg3T0wW/o/GLCQt8He+D+87qLGDb7wPxd1lxHKe/Q/pj1pSjV47j/1CYddJln2P0QpCipFKAJALh6Txi8kAEA=",
          "dtype": "f8"
         }
        },
        {
         "marker": {
          "color": "hsl(37.241379310344826,50%,50%)"
         },
         "type": "box",
         "y": {
          "bdata": "Cl+vZlQUBECBwEpkgCvzPx5Nc4d3LARAn4onuaRnAUACQnjPHzT6P+uddIzjbvg/ov/RjoHA+D8S2EktnMsGQGEjEapG+whAaJYAZrfkB0A=",
          "dtype": "f8"
         }
        },
        {
         "marker": {
          "color": "hsl(49.6551724137931,50%,50%)"
         },
         "type": "box",
         "y": {
          "bdata": "4lpmraDkAUBDl8ktSKsIQCbCX6J0AgVA5odPfWw8CUCkeTmREwcEQDCX1nLEsAVALELqcH3HCEABP1MPfAz8P7ISZlqY3ARA4FCv7zgvAkA=",
          "dtype": "f8"
         }
        },
        {
         "marker": {
          "color": "hsl(62.06896551724138,50%,50%)"
         },
         "type": "box",
         "y": {
          "bdata": "6kNgWKutCEAqrKLiDCkOQEZhlNpxaAVA7XMA7QlpBUAwOZGiUI8LQMrTKX8TTwlALHOUMaVsBUAd1qqFxvwJQBWdTe6ylAVAgNWF8C1wAUA=",
          "dtype": "f8"
         }
        },
        {
         "marker": {
          "color": "hsl(74.48275862068965,50%,50%)"
         },
         "type": "box",
         "y": {
          "bdata": "mhufeozsCEBKOYOqOScHQJCql5oEYQVA24dHQuIUEED8V4G7vJAMQCXrCnWBLgtAaJEc5yFvDUD5sdBHxFAKQGT6TC86uwxAXJCENDceEEA=",
          "dtype": "f8"
         }
        },
        {
         "marker": {
          "color": "hsl(86.89655172413794,50%,50%)"
         },
         "type": "box",
         "y": {
          "bdata": "I+4iOEvCEEDz+pkG/xsHQGMVRDLNighAFTr59qysBUCP6ALXtqARQBQ5Rx1AJAhAWD3bXUF+DkB9pNtfv/EFQGjghmITwgdAJg9zxIIhDEA=",
          "dtype": "f8"
         }
        },
        {
         "marker": {
          "color": "hsl(99.3103448275862,50%,50%)"
         },
         "type": "box",
         "y": {
          "bdata": "c+Cgh1N7CEB3TcsMEaYMQDAQKEBR1g5AfqtXLnPrC0AuYxI2nhkPQDaISmK80Q5AqakD3JesDEDNrx/TgZQQQPVrnGQXcxBANbvBcamDEEA=",
          "dtype": "f8"
         }
        },
        {
         "marker": {
          "color": "hsl(111.72413793103448,50%,50%)"
         },
         "type": "box",
         "y": {
          "bdata": "ZH0DZCWOEEAmUI0U+zAOQI9F6J/47BBA4zWOK509E0CQNrQ+K88QQFv1UNQrjhNAXPZ4AaVhD0AmEDMcWNURQDkC2x6WlwlA784PfnoDEkA=",
          "dtype": "f8"
         }
        },
        {
         "marker": {
          "color": "hsl(124.13793103448276,50%,50%)"
         },
         "type": "box",
         "y": {
          "bdata": "CFMj0e0VEUBgrKwmZP0KQHLGbmrSyw5AY5k0dpYzEUBESZucW9USQMW5J+GeqAtAmp+LeBJNEUDU9bn1jBATQOAiiaE4ARJAiWxTSVL6E0A=",
          "dtype": "f8"
         }
        },
        {
         "marker": {
          "color": "hsl(136.55172413793105,50%,50%)"
         },
         "type": "box",
         "y": {
          "bdata": "jHRffe2HDUBw1dzabiQQQHrURyr+hBRA62YBIvl3E0CWyVXOtVcSQDKnq3+E7hNALBXgZIlcFECmVju+R+IUQHs6lDpIDxVARYKXxWRqDkA=",
          "dtype": "f8"
         }
        },
        {
         "marker": {
          "color": "hsl(148.9655172413793,50%,50%)"
         },
         "type": "box",
         "y": {
          "bdata": "gaPibmbDDkBuRHtaT80OQCqwt9pUBg5AQ/HcDKlYFUAyussHfBUPQLZEpWlFfBRAuLR5oQRzE0BiJwDMNiQSQOJtfBSQNRFAo9LNsFdBEUA=",
          "dtype": "f8"
         }
        },
        {
         "marker": {
          "color": "hsl(161.3793103448276,50%,50%)"
         },
         "type": "box",
         "y": {
          "bdata": "yMB1C1UOEUCmbextt0UVQObo1xo/FRRA1UNmCv4vD0CSLya2cGMSQGgwqBVwOxFAdIMw0Po5D0B1oW73dRoVQA76T7DAXxRAheni6/yKEUA=",
          "dtype": "f8"
         }
        },
        {
         "marker": {
          "color": "hsl(173.79310344827587,50%,50%)"
         },
         "type": "box",
         "y": {
          "bdata": "O24auGC8FEAkWc90QM4RQPwBaTWesxFAc8pp0XqNFUAMJ+88D9sVQEt8+RtvChNA0lmIDVqzFUB8ANVVuE0VQDBjBNCnARNAAq+oarkaEkA=",
          "dtype": "f8"
         }
        },
        {
         "marker": {
          "color": "hsl(186.20689655172413,50%,50%)"
         },
         "type": "box",
         "y": {
          "bdata": "+K0uyRpDFECy2exI3rsSQLIHzmSboRNAa2MokEPxFUCbb4xAvKQUQDqjs9RyARJAfAE/hrOIEEBfjyrWAxwRQAXAVJY+KRNA3RstWKuAEkA=",
          "dtype": "f8"
         }
        },
        {
         "marker": {
          "color": "hsl(198.6206896551724,50%,50%)"
         },
         "type": "box",
         "y": {
          "bdata": "RP03f3axFEB7IPV29HUVQDgWeFUuFhFAVb7jZogJFUBq87Lr0ZkVQPtrUKzlnBVAFR8zYaFGEEAO58fE3WMQQE8mQCYYFxBAxpVRNwveEUA=",
          "dtype": "f8"
         }
        },
        {
         "marker": {
          "color": "hsl(211.0344827586207,50%,50%)"
         },
         "type": "box",
         "y": {
          "bdata": "stMMQJJFEEBjj5reCZoRQFvIjgjk8hFAGndkoUZJFUCWPobBxZ8SQDSy3AW0gxFAsVSGsgTFEkCOVufTqI0TQPyqs5T6lBBAYkFkVaIxFEA=",
          "dtype": "f8"
         }
        },
        {
         "marker": {
          "color": "hsl(223.44827586206895,50%,50%)"
         },
         "type": "box",
         "y": {
          "bdata": "WC9tgMhMFEBOrqUOLkIUQEnOi3jpgRRAK8pVJxXFEUB+vLc1dBoSQEJv453xQhBAh7XSfBnuEEBky+dzQfEUQKB6Hv8iPxFAeeC/ii6ZFEA=",
          "dtype": "f8"
         }
        },
        {
         "marker": {
          "color": "hsl(235.86206896551724,50%,50%)"
         },
         "type": "box",
         "y": {
          "bdata": "vhnXnhzxE0DJM8ZPiRsUQJxFPAoCIhBADUDFaLviE0D/NWrkz5kSQGyb7IxXahBAZRO4f+gcEUCHfhQ3AycQQM781/SpoBFADKKoNdODD0A=",
          "dtype": "f8"
         }
        },
        {
         "marker": {
          "color": "hsl(248.27586206896552,50%,50%)"
         },
         "type": "box",
         "y": {
          "bdata": "avbeADg8D0DlPqB5040PQOFvLEcEPxJA5GC0KfioEUAJ8Jr2WigTQCUOICGiAxBA4Fe+X2bwEUBXImPAJe0NQMgnuFk8XxFA7k4Ffm4bE0A=",
          "dtype": "f8"
         }
        },
        {
         "marker": {
          "color": "hsl(260.6896551724138,50%,50%)"
         },
         "type": "box",
         "y": {
          "bdata": "YNAvK8TfEkBQsshoBVkMQOpyivctsQ5AnaVPEJFpDkAY96CKDrYMQFSoDMnCWQxAkw1yDLx9EEDfE5TI+rAMQBckg2Mi8A5AObO+U7g2EUA=",
          "dtype": "f8"
         }
        },
        {
         "marker": {
          "color": "hsl(273.1034482758621,50%,50%)"
         },
         "type": "box",
         "y": {
          "bdata": "kcO5ThpsDUDa2e/nVzANQBx2uikgFxBAZV5hzf04DkDJs4ZMwpwQQIKrU+zhTA9A1A+BIQpKEEAuUpTKNvgNQCo2XiTZWQ1AX0fPO6vqC0A=",
          "dtype": "f8"
         }
        },
        {
         "marker": {
          "color": "hsl(285.51724137931035,50%,50%)"
         },
         "type": "box",
         "y": {
          "bdata": "eKLQTwmqEEDRk138OREQQDaHeMkhqxBAJhMaK+GKCkCfpQdegKUQQIzuBLiAqBBA2ELFDL1tC0ByfqyMJVkLQOvP9qvU2A1AFrd9KauKCkA=",
          "dtype": "f8"
         }
        },
        {
         "marker": {
          "color": "hsl(297.9310344827586,50%,50%)"
         },
         "type": "box",
         "y": {
          "bdata": "JjE+KYe7CkDroZPLansIQOvUi0klKQ9AfoDqvJIvC0Ce3iImQk4PQEs/nEGdggxAUdv6Rz0aC0BGXFrBu1YPQIzmJ4fmHAhAjfm5oVFmDEA=",
          "dtype": "f8"
         }
        },
        {
         "marker": {
          "color": "hsl(310.3448275862069,50%,50%)"
         },
         "type": "box",
         "y": {
          "bdata": "Qt9uvARRCkBN5LBpsF4IQLcsdZxfLAVAzHr38VvfCEA6daCcEqMIQNLl1MyPjQtAjk+GCoXbBkAKajwxBAIIQClx2hJ9twZAoGynCq2GCkA=",
          "dtype": "f8"
         }
        },
        {
         "marker": {
          "color": "hsl(322.7586206896552,50%,50%)"
         },
         "type": "box",
         "y": {
          "bdata": "/bK/NFaVCkBekB5Jgc0DQPISi3x3LQlAhQ+zee8/BEAgIj3jSc4CQMdZ5dUBewNAFoEQXWcgCkADcA5m0bwJQOUkjmZvvARAPEk+8Vg7CkA=",
          "dtype": "f8"
         }
        },
        {
         "marker": {
          "color": "hsl(335.17241379310343,50%,50%)"
         },
         "type": "box",
         "y": {
          "bdata": "ORbvDH3RBkB8owTgMGoDQOF8a89BsANAZj1SZ70DBUCV01GjzSUBQCc1pCt/8v8/msZZNE8HAkAVEpPTRfX/P4vtQH1pYQVAgLDg00dfBEA=",
          "dtype": "f8"
         }
        },
        {
         "marker": {
          "color": "hsl(347.58620689655174,50%,50%)"
         },
         "type": "box",
         "y": {
          "bdata": "zOVPzGvH/z8wlOYsF5kDQEOzqoY37/w/eLQXtouJ/j8kp4pi9E3/P9AsD3zcvv0/Gy1SEbD/+z8M7JPK9FIEQF1WEAm5APw/IfEw01DRAkA=",
          "dtype": "f8"
         }
        },
        {
         "marker": {
          "color": "hsl(360.0,50%,50%)"
         },
         "type": "box",
         "y": {
          "bdata": "9nSB339A9z8UfL8L7n31PxKwOTnPQv4/TC0XWdfvAUA6b8sQCZABQATyZaoUwPo/jRTtsojB9T/ghDtTpRUBQK7F3fYrIAFAolg5ZIegAUA=",
          "dtype": "f8"
         }
        }
       ],
       "layout": {
        "paper_bgcolor": "rgb(233,233,233)",
        "plot_bgcolor": "rgb(233,233,233)",
        "template": {
         "data": {
          "bar": [
           {
            "error_x": {
             "color": "#2a3f5f"
            },
            "error_y": {
             "color": "#2a3f5f"
            },
            "marker": {
             "line": {
              "color": "#E5ECF6",
              "width": 0.5
             },
             "pattern": {
              "fillmode": "overlay",
              "size": 10,
              "solidity": 0.2
             }
            },
            "type": "bar"
           }
          ],
          "barpolar": [
           {
            "marker": {
             "line": {
              "color": "#E5ECF6",
              "width": 0.5
             },
             "pattern": {
              "fillmode": "overlay",
              "size": 10,
              "solidity": 0.2
             }
            },
            "type": "barpolar"
           }
          ],
          "carpet": [
           {
            "aaxis": {
             "endlinecolor": "#2a3f5f",
             "gridcolor": "white",
             "linecolor": "white",
             "minorgridcolor": "white",
             "startlinecolor": "#2a3f5f"
            },
            "baxis": {
             "endlinecolor": "#2a3f5f",
             "gridcolor": "white",
             "linecolor": "white",
             "minorgridcolor": "white",
             "startlinecolor": "#2a3f5f"
            },
            "type": "carpet"
           }
          ],
          "choropleth": [
           {
            "colorbar": {
             "outlinewidth": 0,
             "ticks": ""
            },
            "type": "choropleth"
           }
          ],
          "contour": [
           {
            "colorbar": {
             "outlinewidth": 0,
             "ticks": ""
            },
            "colorscale": [
             [
              0,
              "#0d0887"
             ],
             [
              0.1111111111111111,
              "#46039f"
             ],
             [
              0.2222222222222222,
              "#7201a8"
             ],
             [
              0.3333333333333333,
              "#9c179e"
             ],
             [
              0.4444444444444444,
              "#bd3786"
             ],
             [
              0.5555555555555556,
              "#d8576b"
             ],
             [
              0.6666666666666666,
              "#ed7953"
             ],
             [
              0.7777777777777778,
              "#fb9f3a"
             ],
             [
              0.8888888888888888,
              "#fdca26"
             ],
             [
              1,
              "#f0f921"
             ]
            ],
            "type": "contour"
           }
          ],
          "contourcarpet": [
           {
            "colorbar": {
             "outlinewidth": 0,
             "ticks": ""
            },
            "type": "contourcarpet"
           }
          ],
          "heatmap": [
           {
            "colorbar": {
             "outlinewidth": 0,
             "ticks": ""
            },
            "colorscale": [
             [
              0,
              "#0d0887"
             ],
             [
              0.1111111111111111,
              "#46039f"
             ],
             [
              0.2222222222222222,
              "#7201a8"
             ],
             [
              0.3333333333333333,
              "#9c179e"
             ],
             [
              0.4444444444444444,
              "#bd3786"
             ],
             [
              0.5555555555555556,
              "#d8576b"
             ],
             [
              0.6666666666666666,
              "#ed7953"
             ],
             [
              0.7777777777777778,
              "#fb9f3a"
             ],
             [
              0.8888888888888888,
              "#fdca26"
             ],
             [
              1,
              "#f0f921"
             ]
            ],
            "type": "heatmap"
           }
          ],
          "histogram": [
           {
            "marker": {
             "pattern": {
              "fillmode": "overlay",
              "size": 10,
              "solidity": 0.2
             }
            },
            "type": "histogram"
           }
          ],
          "histogram2d": [
           {
            "colorbar": {
             "outlinewidth": 0,
             "ticks": ""
            },
            "colorscale": [
             [
              0,
              "#0d0887"
             ],
             [
              0.1111111111111111,
              "#46039f"
             ],
             [
              0.2222222222222222,
              "#7201a8"
             ],
             [
              0.3333333333333333,
              "#9c179e"
             ],
             [
              0.4444444444444444,
              "#bd3786"
             ],
             [
              0.5555555555555556,
              "#d8576b"
             ],
             [
              0.6666666666666666,
              "#ed7953"
             ],
             [
              0.7777777777777778,
              "#fb9f3a"
             ],
             [
              0.8888888888888888,
              "#fdca26"
             ],
             [
              1,
              "#f0f921"
             ]
            ],
            "type": "histogram2d"
           }
          ],
          "histogram2dcontour": [
           {
            "colorbar": {
             "outlinewidth": 0,
             "ticks": ""
            },
            "colorscale": [
             [
              0,
              "#0d0887"
             ],
             [
              0.1111111111111111,
              "#46039f"
             ],
             [
              0.2222222222222222,
              "#7201a8"
             ],
             [
              0.3333333333333333,
              "#9c179e"
             ],
             [
              0.4444444444444444,
              "#bd3786"
             ],
             [
              0.5555555555555556,
              "#d8576b"
             ],
             [
              0.6666666666666666,
              "#ed7953"
             ],
             [
              0.7777777777777778,
              "#fb9f3a"
             ],
             [
              0.8888888888888888,
              "#fdca26"
             ],
             [
              1,
              "#f0f921"
             ]
            ],
            "type": "histogram2dcontour"
           }
          ],
          "mesh3d": [
           {
            "colorbar": {
             "outlinewidth": 0,
             "ticks": ""
            },
            "type": "mesh3d"
           }
          ],
          "parcoords": [
           {
            "line": {
             "colorbar": {
              "outlinewidth": 0,
              "ticks": ""
             }
            },
            "type": "parcoords"
           }
          ],
          "pie": [
           {
            "automargin": true,
            "type": "pie"
           }
          ],
          "scatter": [
           {
            "fillpattern": {
             "fillmode": "overlay",
             "size": 10,
             "solidity": 0.2
            },
            "type": "scatter"
           }
          ],
          "scatter3d": [
           {
            "line": {
             "colorbar": {
              "outlinewidth": 0,
              "ticks": ""
             }
            },
            "marker": {
             "colorbar": {
              "outlinewidth": 0,
              "ticks": ""
             }
            },
            "type": "scatter3d"
           }
          ],
          "scattercarpet": [
           {
            "marker": {
             "colorbar": {
              "outlinewidth": 0,
              "ticks": ""
             }
            },
            "type": "scattercarpet"
           }
          ],
          "scattergeo": [
           {
            "marker": {
             "colorbar": {
              "outlinewidth": 0,
              "ticks": ""
             }
            },
            "type": "scattergeo"
           }
          ],
          "scattergl": [
           {
            "marker": {
             "colorbar": {
              "outlinewidth": 0,
              "ticks": ""
             }
            },
            "type": "scattergl"
           }
          ],
          "scattermap": [
           {
            "marker": {
             "colorbar": {
              "outlinewidth": 0,
              "ticks": ""
             }
            },
            "type": "scattermap"
           }
          ],
          "scattermapbox": [
           {
            "marker": {
             "colorbar": {
              "outlinewidth": 0,
              "ticks": ""
             }
            },
            "type": "scattermapbox"
           }
          ],
          "scatterpolar": [
           {
            "marker": {
             "colorbar": {
              "outlinewidth": 0,
              "ticks": ""
             }
            },
            "type": "scatterpolar"
           }
          ],
          "scatterpolargl": [
           {
            "marker": {
             "colorbar": {
              "outlinewidth": 0,
              "ticks": ""
             }
            },
            "type": "scatterpolargl"
           }
          ],
          "scatterternary": [
           {
            "marker": {
             "colorbar": {
              "outlinewidth": 0,
              "ticks": ""
             }
            },
            "type": "scatterternary"
           }
          ],
          "surface": [
           {
            "colorbar": {
             "outlinewidth": 0,
             "ticks": ""
            },
            "colorscale": [
             [
              0,
              "#0d0887"
             ],
             [
              0.1111111111111111,
              "#46039f"
             ],
             [
              0.2222222222222222,
              "#7201a8"
             ],
             [
              0.3333333333333333,
              "#9c179e"
             ],
             [
              0.4444444444444444,
              "#bd3786"
             ],
             [
              0.5555555555555556,
              "#d8576b"
             ],
             [
              0.6666666666666666,
              "#ed7953"
             ],
             [
              0.7777777777777778,
              "#fb9f3a"
             ],
             [
              0.8888888888888888,
              "#fdca26"
             ],
             [
              1,
              "#f0f921"
             ]
            ],
            "type": "surface"
           }
          ],
          "table": [
           {
            "cells": {
             "fill": {
              "color": "#EBF0F8"
             },
             "line": {
              "color": "white"
             }
            },
            "header": {
             "fill": {
              "color": "#C8D4E3"
             },
             "line": {
              "color": "white"
             }
            },
            "type": "table"
           }
          ]
         },
         "layout": {
          "annotationdefaults": {
           "arrowcolor": "#2a3f5f",
           "arrowhead": 0,
           "arrowwidth": 1
          },
          "autotypenumbers": "strict",
          "coloraxis": {
           "colorbar": {
            "outlinewidth": 0,
            "ticks": ""
           }
          },
          "colorscale": {
           "diverging": [
            [
             0,
             "#8e0152"
            ],
            [
             0.1,
             "#c51b7d"
            ],
            [
             0.2,
             "#de77ae"
            ],
            [
             0.3,
             "#f1b6da"
            ],
            [
             0.4,
             "#fde0ef"
            ],
            [
             0.5,
             "#f7f7f7"
            ],
            [
             0.6,
             "#e6f5d0"
            ],
            [
             0.7,
             "#b8e186"
            ],
            [
             0.8,
             "#7fbc41"
            ],
            [
             0.9,
             "#4d9221"
            ],
            [
             1,
             "#276419"
            ]
           ],
           "sequential": [
            [
             0,
             "#0d0887"
            ],
            [
             0.1111111111111111,
             "#46039f"
            ],
            [
             0.2222222222222222,
             "#7201a8"
            ],
            [
             0.3333333333333333,
             "#9c179e"
            ],
            [
             0.4444444444444444,
             "#bd3786"
            ],
            [
             0.5555555555555556,
             "#d8576b"
            ],
            [
             0.6666666666666666,
             "#ed7953"
            ],
            [
             0.7777777777777778,
             "#fb9f3a"
            ],
            [
             0.8888888888888888,
             "#fdca26"
            ],
            [
             1,
             "#f0f921"
            ]
           ],
           "sequentialminus": [
            [
             0,
             "#0d0887"
            ],
            [
             0.1111111111111111,
             "#46039f"
            ],
            [
             0.2222222222222222,
             "#7201a8"
            ],
            [
             0.3333333333333333,
             "#9c179e"
            ],
            [
             0.4444444444444444,
             "#bd3786"
            ],
            [
             0.5555555555555556,
             "#d8576b"
            ],
            [
             0.6666666666666666,
             "#ed7953"
            ],
            [
             0.7777777777777778,
             "#fb9f3a"
            ],
            [
             0.8888888888888888,
             "#fdca26"
            ],
            [
             1,
             "#f0f921"
            ]
           ]
          },
          "colorway": [
           "#636efa",
           "#EF553B",
           "#00cc96",
           "#ab63fa",
           "#FFA15A",
           "#19d3f3",
           "#FF6692",
           "#B6E880",
           "#FF97FF",
           "#FECB52"
          ],
          "font": {
           "color": "#2a3f5f"
          },
          "geo": {
           "bgcolor": "white",
           "lakecolor": "white",
           "landcolor": "#E5ECF6",
           "showlakes": true,
           "showland": true,
           "subunitcolor": "white"
          },
          "hoverlabel": {
           "align": "left"
          },
          "hovermode": "closest",
          "mapbox": {
           "style": "light"
          },
          "paper_bgcolor": "white",
          "plot_bgcolor": "#E5ECF6",
          "polar": {
           "angularaxis": {
            "gridcolor": "white",
            "linecolor": "white",
            "ticks": ""
           },
           "bgcolor": "#E5ECF6",
           "radialaxis": {
            "gridcolor": "white",
            "linecolor": "white",
            "ticks": ""
           }
          },
          "scene": {
           "xaxis": {
            "backgroundcolor": "#E5ECF6",
            "gridcolor": "white",
            "gridwidth": 2,
            "linecolor": "white",
            "showbackground": true,
            "ticks": "",
            "zerolinecolor": "white"
           },
           "yaxis": {
            "backgroundcolor": "#E5ECF6",
            "gridcolor": "white",
            "gridwidth": 2,
            "linecolor": "white",
            "showbackground": true,
            "ticks": "",
            "zerolinecolor": "white"
           },
           "zaxis": {
            "backgroundcolor": "#E5ECF6",
            "gridcolor": "white",
            "gridwidth": 2,
            "linecolor": "white",
            "showbackground": true,
            "ticks": "",
            "zerolinecolor": "white"
           }
          },
          "shapedefaults": {
           "line": {
            "color": "#2a3f5f"
           }
          },
          "ternary": {
           "aaxis": {
            "gridcolor": "white",
            "linecolor": "white",
            "ticks": ""
           },
           "baxis": {
            "gridcolor": "white",
            "linecolor": "white",
            "ticks": ""
           },
           "bgcolor": "#E5ECF6",
           "caxis": {
            "gridcolor": "white",
            "linecolor": "white",
            "ticks": ""
           }
          },
          "title": {
           "x": 0.05
          },
          "xaxis": {
           "automargin": true,
           "gridcolor": "white",
           "linecolor": "white",
           "ticks": "",
           "title": {
            "standoff": 15
           },
           "zerolinecolor": "white",
           "zerolinewidth": 2
          },
          "yaxis": {
           "automargin": true,
           "gridcolor": "white",
           "linecolor": "white",
           "ticks": "",
           "title": {
            "standoff": 15
           },
           "zerolinecolor": "white",
           "zerolinewidth": 2
          }
         }
        },
        "xaxis": {
         "showgrid": false,
         "showticklabels": false,
         "zeroline": false
        },
        "yaxis": {
         "gridcolor": "white",
         "zeroline": false
        }
       }
      }
     },
     "metadata": {},
     "output_type": "display_data"
    }
   ],
   "source": [
    "import plotly.graph_objects as go\n",
    "import numpy as np\n",
    "\n",
    "N = 30     # Number of boxes\n",
    "\n",
    "# generate an array of rainbow colors by fixing the saturation and lightness of the HSL\n",
    "# representation of colour and marching around the hue.\n",
    "# Plotly accepts any CSS color format, see e.g. http://www.w3schools.com/cssref/css_colors_legal.asp.\n",
    "c = ['hsl('+str(h)+',50%'+',50%)' for h in np.linspace(0, 360, N)]\n",
    "\n",
    "# Each box is represented by a dict that contains the data, the type, and the colour.\n",
    "# Use list comprehension to describe N boxes, each with a different colour and with different randomly generated data:\n",
    "fig = go.Figure(data=[go.Box(\n",
    "    y=3.5 * np.sin(np.pi * i/N) + i/N + (1.5 + 0.5 * np.cos(np.pi*i/N)) * np.random.rand(10),\n",
    "    marker_color=c[i]\n",
    "    ) for i in range(int(N))])\n",
    "\n",
    "# format the layout\n",
    "fig.update_layout(\n",
    "    xaxis=dict(showgrid=False, zeroline=False, showticklabels=False),\n",
    "    yaxis=dict(zeroline=False, gridcolor='white'),\n",
    "    paper_bgcolor='rgb(233,233,233)',\n",
    "    plot_bgcolor='rgb(233,233,233)',\n",
    ")\n",
    "\n",
    "fig.show()"
   ]
  },
  {
   "cell_type": "markdown",
   "id": "8be6e77d",
   "metadata": {},
   "source": [
    "### 4º Gráfico Plotly\n",
    "Variáveis Categóricas (Barra Deitada)\n",
    "-> Adicionar Filtro: Niveis de Obesidade"
   ]
  },
  {
   "cell_type": "code",
   "execution_count": 6,
   "id": "f1aded88",
   "metadata": {},
   "outputs": [
    {
     "data": {
      "application/vnd.plotly.v1+json": {
       "config": {
        "plotlyServerURL": "https://plot.ly"
       },
       "data": [
        {
         "marker": {
          "color": "DarkBlue",
          "line": {
           "color": "ghostwhite",
           "width": 1
          }
         },
         "orientation": "h",
         "type": "bar",
         "x": [
          21
         ],
         "y": [
          "The course was effectively<br>organized"
         ]
        },
        {
         "marker": {
          "color": "DarkBlue",
          "line": {
           "color": "ghostwhite",
           "width": 1
          }
         },
         "orientation": "h",
         "type": "bar",
         "x": [
          24
         ],
         "y": [
          "The course developed my<br>abilities and skills for<br>the subject"
         ]
        },
        {
         "marker": {
          "color": "DarkBlue",
          "line": {
           "color": "ghostwhite",
           "width": 1
          }
         },
         "orientation": "h",
         "type": "bar",
         "x": [
          27
         ],
         "y": [
          "The course developed my<br>ability to think critically about<br>the subject"
         ]
        },
        {
         "marker": {
          "color": "DarkBlue",
          "line": {
           "color": "ghostwhite",
           "width": 1
          }
         },
         "orientation": "h",
         "type": "bar",
         "x": [
          29
         ],
         "y": [
          "I would recommend this<br>course to a friend"
         ]
        },
        {
         "marker": {
          "color": "MediumBlue",
          "line": {
           "color": "ghostwhite",
           "width": 1
          }
         },
         "orientation": "h",
         "type": "bar",
         "x": [
          30
         ],
         "y": [
          "The course was effectively<br>organized"
         ]
        },
        {
         "marker": {
          "color": "MediumBlue",
          "line": {
           "color": "ghostwhite",
           "width": 1
          }
         },
         "orientation": "h",
         "type": "bar",
         "x": [
          31
         ],
         "y": [
          "The course developed my<br>abilities and skills for<br>the subject"
         ]
        },
        {
         "marker": {
          "color": "MediumBlue",
          "line": {
           "color": "ghostwhite",
           "width": 1
          }
         },
         "orientation": "h",
         "type": "bar",
         "x": [
          26
         ],
         "y": [
          "The course developed my<br>ability to think critically about<br>the subject"
         ]
        },
        {
         "marker": {
          "color": "MediumBlue",
          "line": {
           "color": "ghostwhite",
           "width": 1
          }
         },
         "orientation": "h",
         "type": "bar",
         "x": [
          24
         ],
         "y": [
          "I would recommend this<br>course to a friend"
         ]
        },
        {
         "marker": {
          "color": "DarkSlateBlue",
          "line": {
           "color": "ghostwhite",
           "width": 1
          }
         },
         "orientation": "h",
         "type": "bar",
         "x": [
          21
         ],
         "y": [
          "The course was effectively<br>organized"
         ]
        },
        {
         "marker": {
          "color": "DarkSlateBlue",
          "line": {
           "color": "ghostwhite",
           "width": 1
          }
         },
         "orientation": "h",
         "type": "bar",
         "x": [
          19
         ],
         "y": [
          "The course developed my<br>abilities and skills for<br>the subject"
         ]
        },
        {
         "marker": {
          "color": "DarkSlateBlue",
          "line": {
           "color": "ghostwhite",
           "width": 1
          }
         },
         "orientation": "h",
         "type": "bar",
         "x": [
          23
         ],
         "y": [
          "The course developed my<br>ability to think critically about<br>the subject"
         ]
        },
        {
         "marker": {
          "color": "DarkSlateBlue",
          "line": {
           "color": "ghostwhite",
           "width": 1
          }
         },
         "orientation": "h",
         "type": "bar",
         "x": [
          15
         ],
         "y": [
          "I would recommend this<br>course to a friend"
         ]
        },
        {
         "marker": {
          "color": "mediumpurple",
          "line": {
           "color": "ghostwhite",
           "width": 1
          }
         },
         "orientation": "h",
         "type": "bar",
         "x": [
          16
         ],
         "y": [
          "The course was effectively<br>organized"
         ]
        },
        {
         "marker": {
          "color": "mediumpurple",
          "line": {
           "color": "ghostwhite",
           "width": 1
          }
         },
         "orientation": "h",
         "type": "bar",
         "x": [
          15
         ],
         "y": [
          "The course developed my<br>abilities and skills for<br>the subject"
         ]
        },
        {
         "marker": {
          "color": "mediumpurple",
          "line": {
           "color": "ghostwhite",
           "width": 1
          }
         },
         "orientation": "h",
         "type": "bar",
         "x": [
          11
         ],
         "y": [
          "The course developed my<br>ability to think critically about<br>the subject"
         ]
        },
        {
         "marker": {
          "color": "mediumpurple",
          "line": {
           "color": "ghostwhite",
           "width": 1
          }
         },
         "orientation": "h",
         "type": "bar",
         "x": [
          18
         ],
         "y": [
          "I would recommend this<br>course to a friend"
         ]
        },
        {
         "marker": {
          "color": "thistle",
          "line": {
           "color": "ghostwhite",
           "width": 1
          }
         },
         "orientation": "h",
         "type": "bar",
         "x": [
          12
         ],
         "y": [
          "The course was effectively<br>organized"
         ]
        },
        {
         "marker": {
          "color": "thistle",
          "line": {
           "color": "ghostwhite",
           "width": 1
          }
         },
         "orientation": "h",
         "type": "bar",
         "x": [
          11
         ],
         "y": [
          "The course developed my<br>abilities and skills for<br>the subject"
         ]
        },
        {
         "marker": {
          "color": "thistle",
          "line": {
           "color": "ghostwhite",
           "width": 1
          }
         },
         "orientation": "h",
         "type": "bar",
         "x": [
          13
         ],
         "y": [
          "The course developed my<br>ability to think critically about<br>the subject"
         ]
        },
        {
         "marker": {
          "color": "thistle",
          "line": {
           "color": "ghostwhite",
           "width": 1
          }
         },
         "orientation": "h",
         "type": "bar",
         "x": [
          14
         ],
         "y": [
          "I would recommend this<br>course to a friend"
         ]
        }
       ],
       "layout": {
        "annotations": [
         {
          "align": "right",
          "font": {
           "color": "dimgray",
           "family": "Arial",
           "size": 14
          },
          "showarrow": false,
          "text": "The course was effectively<br>organized",
          "x": 0.14,
          "xanchor": "right",
          "xref": "paper",
          "y": "The course was effectively<br>organized",
          "yref": "y"
         },
         {
          "font": {
           "color": "white",
           "family": "Arial",
           "size": 14
          },
          "showarrow": false,
          "text": "21%",
          "x": 10.5,
          "xref": "x",
          "y": "The course was effectively<br>organized",
          "yref": "y"
         },
         {
          "font": {
           "color": "ghostwhite",
           "family": "Arial",
           "size": 14
          },
          "showarrow": false,
          "text": "30%",
          "x": 36,
          "xref": "x",
          "y": "The course was effectively<br>organized",
          "yref": "y"
         },
         {
          "font": {
           "color": "ghostwhite",
           "family": "Arial",
           "size": 14
          },
          "showarrow": false,
          "text": "21%",
          "x": 61.5,
          "xref": "x",
          "y": "The course was effectively<br>organized",
          "yref": "y"
         },
         {
          "font": {
           "color": "ghostwhite",
           "family": "Arial",
           "size": 14
          },
          "showarrow": false,
          "text": "16%",
          "x": 80,
          "xref": "x",
          "y": "The course was effectively<br>organized",
          "yref": "y"
         },
         {
          "font": {
           "color": "ghostwhite",
           "family": "Arial",
           "size": 14
          },
          "showarrow": false,
          "text": "12%",
          "x": 94,
          "xref": "x",
          "y": "The course was effectively<br>organized",
          "yref": "y"
         },
         {
          "align": "right",
          "font": {
           "color": "dimgray",
           "family": "Arial",
           "size": 14
          },
          "showarrow": false,
          "text": "The course developed my<br>abilities and skills for<br>the subject",
          "x": 0.14,
          "xanchor": "right",
          "xref": "paper",
          "y": "The course developed my<br>abilities and skills for<br>the subject",
          "yref": "y"
         },
         {
          "font": {
           "color": "white",
           "family": "Arial",
           "size": 14
          },
          "showarrow": false,
          "text": "24%",
          "x": 12,
          "xref": "x",
          "y": "The course developed my<br>abilities and skills for<br>the subject",
          "yref": "y"
         },
         {
          "font": {
           "color": "ghostwhite",
           "family": "Arial",
           "size": 14
          },
          "showarrow": false,
          "text": "31%",
          "x": 39.5,
          "xref": "x",
          "y": "The course developed my<br>abilities and skills for<br>the subject",
          "yref": "y"
         },
         {
          "font": {
           "color": "ghostwhite",
           "family": "Arial",
           "size": 14
          },
          "showarrow": false,
          "text": "19%",
          "x": 64.5,
          "xref": "x",
          "y": "The course developed my<br>abilities and skills for<br>the subject",
          "yref": "y"
         },
         {
          "font": {
           "color": "ghostwhite",
           "family": "Arial",
           "size": 14
          },
          "showarrow": false,
          "text": "15%",
          "x": 81.5,
          "xref": "x",
          "y": "The course developed my<br>abilities and skills for<br>the subject",
          "yref": "y"
         },
         {
          "font": {
           "color": "ghostwhite",
           "family": "Arial",
           "size": 14
          },
          "showarrow": false,
          "text": "11%",
          "x": 94.5,
          "xref": "x",
          "y": "The course developed my<br>abilities and skills for<br>the subject",
          "yref": "y"
         },
         {
          "align": "right",
          "font": {
           "color": "dimgray",
           "family": "Arial",
           "size": 14
          },
          "showarrow": false,
          "text": "The course developed my<br>ability to think critically about<br>the subject",
          "x": 0.14,
          "xanchor": "right",
          "xref": "paper",
          "y": "The course developed my<br>ability to think critically about<br>the subject",
          "yref": "y"
         },
         {
          "font": {
           "color": "white",
           "family": "Arial",
           "size": 14
          },
          "showarrow": false,
          "text": "27%",
          "x": 13.5,
          "xref": "x",
          "y": "The course developed my<br>ability to think critically about<br>the subject",
          "yref": "y"
         },
         {
          "font": {
           "color": "ghostwhite",
           "family": "Arial",
           "size": 14
          },
          "showarrow": false,
          "text": "26%",
          "x": 40,
          "xref": "x",
          "y": "The course developed my<br>ability to think critically about<br>the subject",
          "yref": "y"
         },
         {
          "font": {
           "color": "ghostwhite",
           "family": "Arial",
           "size": 14
          },
          "showarrow": false,
          "text": "23%",
          "x": 64.5,
          "xref": "x",
          "y": "The course developed my<br>ability to think critically about<br>the subject",
          "yref": "y"
         },
         {
          "font": {
           "color": "ghostwhite",
           "family": "Arial",
           "size": 14
          },
          "showarrow": false,
          "text": "11%",
          "x": 81.5,
          "xref": "x",
          "y": "The course developed my<br>ability to think critically about<br>the subject",
          "yref": "y"
         },
         {
          "font": {
           "color": "ghostwhite",
           "family": "Arial",
           "size": 14
          },
          "showarrow": false,
          "text": "13%",
          "x": 93.5,
          "xref": "x",
          "y": "The course developed my<br>ability to think critically about<br>the subject",
          "yref": "y"
         },
         {
          "align": "right",
          "font": {
           "color": "dimgray",
           "family": "Arial",
           "size": 14
          },
          "showarrow": false,
          "text": "I would recommend this<br>course to a friend",
          "x": 0.14,
          "xanchor": "right",
          "xref": "paper",
          "y": "I would recommend this<br>course to a friend",
          "yref": "y"
         },
         {
          "font": {
           "color": "white",
           "family": "Arial",
           "size": 14
          },
          "showarrow": false,
          "text": "29%",
          "x": 14.5,
          "xref": "x",
          "y": "I would recommend this<br>course to a friend",
          "yref": "y"
         },
         {
          "font": {
           "color": "dimgray",
           "family": "Arial",
           "size": 14
          },
          "showarrow": false,
          "text": "Strongly<br>agree",
          "x": 14.5,
          "xref": "x",
          "y": 1.1,
          "yref": "paper"
         },
         {
          "font": {
           "color": "ghostwhite",
           "family": "Arial",
           "size": 14
          },
          "showarrow": false,
          "text": "24%",
          "x": 41,
          "xref": "x",
          "y": "I would recommend this<br>course to a friend",
          "yref": "y"
         },
         {
          "font": {
           "color": "dimgray",
           "family": "Arial",
           "size": 14
          },
          "showarrow": false,
          "text": "Agree",
          "x": 41,
          "xref": "x",
          "y": 1.1,
          "yref": "paper"
         },
         {
          "font": {
           "color": "ghostwhite",
           "family": "Arial",
           "size": 14
          },
          "showarrow": false,
          "text": "15%",
          "x": 60.5,
          "xref": "x",
          "y": "I would recommend this<br>course to a friend",
          "yref": "y"
         },
         {
          "font": {
           "color": "dimgray",
           "family": "Arial",
           "size": 14
          },
          "showarrow": false,
          "text": "Neutral",
          "x": 60.5,
          "xref": "x",
          "y": 1.1,
          "yref": "paper"
         },
         {
          "font": {
           "color": "ghostwhite",
           "family": "Arial",
           "size": 14
          },
          "showarrow": false,
          "text": "18%",
          "x": 77,
          "xref": "x",
          "y": "I would recommend this<br>course to a friend",
          "yref": "y"
         },
         {
          "font": {
           "color": "dimgray",
           "family": "Arial",
           "size": 14
          },
          "showarrow": false,
          "text": "Disagree",
          "x": 77,
          "xref": "x",
          "y": 1.1,
          "yref": "paper"
         },
         {
          "font": {
           "color": "ghostwhite",
           "family": "Arial",
           "size": 14
          },
          "showarrow": false,
          "text": "14%",
          "x": 93,
          "xref": "x",
          "y": "I would recommend this<br>course to a friend",
          "yref": "y"
         },
         {
          "font": {
           "color": "dimgray",
           "family": "Arial",
           "size": 14
          },
          "showarrow": false,
          "text": "Strongly<br>disagree",
          "x": 93,
          "xref": "x",
          "y": 1.1,
          "yref": "paper"
         }
        ],
        "barmode": "stack",
        "margin": {
         "b": 80,
         "l": 120,
         "r": 10,
         "t": 140
        },
        "paper_bgcolor": "lavenderblush",
        "plot_bgcolor": "lavenderblush",
        "showlegend": false,
        "template": {
         "data": {
          "bar": [
           {
            "error_x": {
             "color": "#2a3f5f"
            },
            "error_y": {
             "color": "#2a3f5f"
            },
            "marker": {
             "line": {
              "color": "#E5ECF6",
              "width": 0.5
             },
             "pattern": {
              "fillmode": "overlay",
              "size": 10,
              "solidity": 0.2
             }
            },
            "type": "bar"
           }
          ],
          "barpolar": [
           {
            "marker": {
             "line": {
              "color": "#E5ECF6",
              "width": 0.5
             },
             "pattern": {
              "fillmode": "overlay",
              "size": 10,
              "solidity": 0.2
             }
            },
            "type": "barpolar"
           }
          ],
          "carpet": [
           {
            "aaxis": {
             "endlinecolor": "#2a3f5f",
             "gridcolor": "white",
             "linecolor": "white",
             "minorgridcolor": "white",
             "startlinecolor": "#2a3f5f"
            },
            "baxis": {
             "endlinecolor": "#2a3f5f",
             "gridcolor": "white",
             "linecolor": "white",
             "minorgridcolor": "white",
             "startlinecolor": "#2a3f5f"
            },
            "type": "carpet"
           }
          ],
          "choropleth": [
           {
            "colorbar": {
             "outlinewidth": 0,
             "ticks": ""
            },
            "type": "choropleth"
           }
          ],
          "contour": [
           {
            "colorbar": {
             "outlinewidth": 0,
             "ticks": ""
            },
            "colorscale": [
             [
              0,
              "#0d0887"
             ],
             [
              0.1111111111111111,
              "#46039f"
             ],
             [
              0.2222222222222222,
              "#7201a8"
             ],
             [
              0.3333333333333333,
              "#9c179e"
             ],
             [
              0.4444444444444444,
              "#bd3786"
             ],
             [
              0.5555555555555556,
              "#d8576b"
             ],
             [
              0.6666666666666666,
              "#ed7953"
             ],
             [
              0.7777777777777778,
              "#fb9f3a"
             ],
             [
              0.8888888888888888,
              "#fdca26"
             ],
             [
              1,
              "#f0f921"
             ]
            ],
            "type": "contour"
           }
          ],
          "contourcarpet": [
           {
            "colorbar": {
             "outlinewidth": 0,
             "ticks": ""
            },
            "type": "contourcarpet"
           }
          ],
          "heatmap": [
           {
            "colorbar": {
             "outlinewidth": 0,
             "ticks": ""
            },
            "colorscale": [
             [
              0,
              "#0d0887"
             ],
             [
              0.1111111111111111,
              "#46039f"
             ],
             [
              0.2222222222222222,
              "#7201a8"
             ],
             [
              0.3333333333333333,
              "#9c179e"
             ],
             [
              0.4444444444444444,
              "#bd3786"
             ],
             [
              0.5555555555555556,
              "#d8576b"
             ],
             [
              0.6666666666666666,
              "#ed7953"
             ],
             [
              0.7777777777777778,
              "#fb9f3a"
             ],
             [
              0.8888888888888888,
              "#fdca26"
             ],
             [
              1,
              "#f0f921"
             ]
            ],
            "type": "heatmap"
           }
          ],
          "histogram": [
           {
            "marker": {
             "pattern": {
              "fillmode": "overlay",
              "size": 10,
              "solidity": 0.2
             }
            },
            "type": "histogram"
           }
          ],
          "histogram2d": [
           {
            "colorbar": {
             "outlinewidth": 0,
             "ticks": ""
            },
            "colorscale": [
             [
              0,
              "#0d0887"
             ],
             [
              0.1111111111111111,
              "#46039f"
             ],
             [
              0.2222222222222222,
              "#7201a8"
             ],
             [
              0.3333333333333333,
              "#9c179e"
             ],
             [
              0.4444444444444444,
              "#bd3786"
             ],
             [
              0.5555555555555556,
              "#d8576b"
             ],
             [
              0.6666666666666666,
              "#ed7953"
             ],
             [
              0.7777777777777778,
              "#fb9f3a"
             ],
             [
              0.8888888888888888,
              "#fdca26"
             ],
             [
              1,
              "#f0f921"
             ]
            ],
            "type": "histogram2d"
           }
          ],
          "histogram2dcontour": [
           {
            "colorbar": {
             "outlinewidth": 0,
             "ticks": ""
            },
            "colorscale": [
             [
              0,
              "#0d0887"
             ],
             [
              0.1111111111111111,
              "#46039f"
             ],
             [
              0.2222222222222222,
              "#7201a8"
             ],
             [
              0.3333333333333333,
              "#9c179e"
             ],
             [
              0.4444444444444444,
              "#bd3786"
             ],
             [
              0.5555555555555556,
              "#d8576b"
             ],
             [
              0.6666666666666666,
              "#ed7953"
             ],
             [
              0.7777777777777778,
              "#fb9f3a"
             ],
             [
              0.8888888888888888,
              "#fdca26"
             ],
             [
              1,
              "#f0f921"
             ]
            ],
            "type": "histogram2dcontour"
           }
          ],
          "mesh3d": [
           {
            "colorbar": {
             "outlinewidth": 0,
             "ticks": ""
            },
            "type": "mesh3d"
           }
          ],
          "parcoords": [
           {
            "line": {
             "colorbar": {
              "outlinewidth": 0,
              "ticks": ""
             }
            },
            "type": "parcoords"
           }
          ],
          "pie": [
           {
            "automargin": true,
            "type": "pie"
           }
          ],
          "scatter": [
           {
            "fillpattern": {
             "fillmode": "overlay",
             "size": 10,
             "solidity": 0.2
            },
            "type": "scatter"
           }
          ],
          "scatter3d": [
           {
            "line": {
             "colorbar": {
              "outlinewidth": 0,
              "ticks": ""
             }
            },
            "marker": {
             "colorbar": {
              "outlinewidth": 0,
              "ticks": ""
             }
            },
            "type": "scatter3d"
           }
          ],
          "scattercarpet": [
           {
            "marker": {
             "colorbar": {
              "outlinewidth": 0,
              "ticks": ""
             }
            },
            "type": "scattercarpet"
           }
          ],
          "scattergeo": [
           {
            "marker": {
             "colorbar": {
              "outlinewidth": 0,
              "ticks": ""
             }
            },
            "type": "scattergeo"
           }
          ],
          "scattergl": [
           {
            "marker": {
             "colorbar": {
              "outlinewidth": 0,
              "ticks": ""
             }
            },
            "type": "scattergl"
           }
          ],
          "scattermap": [
           {
            "marker": {
             "colorbar": {
              "outlinewidth": 0,
              "ticks": ""
             }
            },
            "type": "scattermap"
           }
          ],
          "scattermapbox": [
           {
            "marker": {
             "colorbar": {
              "outlinewidth": 0,
              "ticks": ""
             }
            },
            "type": "scattermapbox"
           }
          ],
          "scatterpolar": [
           {
            "marker": {
             "colorbar": {
              "outlinewidth": 0,
              "ticks": ""
             }
            },
            "type": "scatterpolar"
           }
          ],
          "scatterpolargl": [
           {
            "marker": {
             "colorbar": {
              "outlinewidth": 0,
              "ticks": ""
             }
            },
            "type": "scatterpolargl"
           }
          ],
          "scatterternary": [
           {
            "marker": {
             "colorbar": {
              "outlinewidth": 0,
              "ticks": ""
             }
            },
            "type": "scatterternary"
           }
          ],
          "surface": [
           {
            "colorbar": {
             "outlinewidth": 0,
             "ticks": ""
            },
            "colorscale": [
             [
              0,
              "#0d0887"
             ],
             [
              0.1111111111111111,
              "#46039f"
             ],
             [
              0.2222222222222222,
              "#7201a8"
             ],
             [
              0.3333333333333333,
              "#9c179e"
             ],
             [
              0.4444444444444444,
              "#bd3786"
             ],
             [
              0.5555555555555556,
              "#d8576b"
             ],
             [
              0.6666666666666666,
              "#ed7953"
             ],
             [
              0.7777777777777778,
              "#fb9f3a"
             ],
             [
              0.8888888888888888,
              "#fdca26"
             ],
             [
              1,
              "#f0f921"
             ]
            ],
            "type": "surface"
           }
          ],
          "table": [
           {
            "cells": {
             "fill": {
              "color": "#EBF0F8"
             },
             "line": {
              "color": "white"
             }
            },
            "header": {
             "fill": {
              "color": "#C8D4E3"
             },
             "line": {
              "color": "white"
             }
            },
            "type": "table"
           }
          ]
         },
         "layout": {
          "annotationdefaults": {
           "arrowcolor": "#2a3f5f",
           "arrowhead": 0,
           "arrowwidth": 1
          },
          "autotypenumbers": "strict",
          "coloraxis": {
           "colorbar": {
            "outlinewidth": 0,
            "ticks": ""
           }
          },
          "colorscale": {
           "diverging": [
            [
             0,
             "#8e0152"
            ],
            [
             0.1,
             "#c51b7d"
            ],
            [
             0.2,
             "#de77ae"
            ],
            [
             0.3,
             "#f1b6da"
            ],
            [
             0.4,
             "#fde0ef"
            ],
            [
             0.5,
             "#f7f7f7"
            ],
            [
             0.6,
             "#e6f5d0"
            ],
            [
             0.7,
             "#b8e186"
            ],
            [
             0.8,
             "#7fbc41"
            ],
            [
             0.9,
             "#4d9221"
            ],
            [
             1,
             "#276419"
            ]
           ],
           "sequential": [
            [
             0,
             "#0d0887"
            ],
            [
             0.1111111111111111,
             "#46039f"
            ],
            [
             0.2222222222222222,
             "#7201a8"
            ],
            [
             0.3333333333333333,
             "#9c179e"
            ],
            [
             0.4444444444444444,
             "#bd3786"
            ],
            [
             0.5555555555555556,
             "#d8576b"
            ],
            [
             0.6666666666666666,
             "#ed7953"
            ],
            [
             0.7777777777777778,
             "#fb9f3a"
            ],
            [
             0.8888888888888888,
             "#fdca26"
            ],
            [
             1,
             "#f0f921"
            ]
           ],
           "sequentialminus": [
            [
             0,
             "#0d0887"
            ],
            [
             0.1111111111111111,
             "#46039f"
            ],
            [
             0.2222222222222222,
             "#7201a8"
            ],
            [
             0.3333333333333333,
             "#9c179e"
            ],
            [
             0.4444444444444444,
             "#bd3786"
            ],
            [
             0.5555555555555556,
             "#d8576b"
            ],
            [
             0.6666666666666666,
             "#ed7953"
            ],
            [
             0.7777777777777778,
             "#fb9f3a"
            ],
            [
             0.8888888888888888,
             "#fdca26"
            ],
            [
             1,
             "#f0f921"
            ]
           ]
          },
          "colorway": [
           "#636efa",
           "#EF553B",
           "#00cc96",
           "#ab63fa",
           "#FFA15A",
           "#19d3f3",
           "#FF6692",
           "#B6E880",
           "#FF97FF",
           "#FECB52"
          ],
          "font": {
           "color": "#2a3f5f"
          },
          "geo": {
           "bgcolor": "white",
           "lakecolor": "white",
           "landcolor": "#E5ECF6",
           "showlakes": true,
           "showland": true,
           "subunitcolor": "white"
          },
          "hoverlabel": {
           "align": "left"
          },
          "hovermode": "closest",
          "mapbox": {
           "style": "light"
          },
          "paper_bgcolor": "white",
          "plot_bgcolor": "#E5ECF6",
          "polar": {
           "angularaxis": {
            "gridcolor": "white",
            "linecolor": "white",
            "ticks": ""
           },
           "bgcolor": "#E5ECF6",
           "radialaxis": {
            "gridcolor": "white",
            "linecolor": "white",
            "ticks": ""
           }
          },
          "scene": {
           "xaxis": {
            "backgroundcolor": "#E5ECF6",
            "gridcolor": "white",
            "gridwidth": 2,
            "linecolor": "white",
            "showbackground": true,
            "ticks": "",
            "zerolinecolor": "white"
           },
           "yaxis": {
            "backgroundcolor": "#E5ECF6",
            "gridcolor": "white",
            "gridwidth": 2,
            "linecolor": "white",
            "showbackground": true,
            "ticks": "",
            "zerolinecolor": "white"
           },
           "zaxis": {
            "backgroundcolor": "#E5ECF6",
            "gridcolor": "white",
            "gridwidth": 2,
            "linecolor": "white",
            "showbackground": true,
            "ticks": "",
            "zerolinecolor": "white"
           }
          },
          "shapedefaults": {
           "line": {
            "color": "#2a3f5f"
           }
          },
          "ternary": {
           "aaxis": {
            "gridcolor": "white",
            "linecolor": "white",
            "ticks": ""
           },
           "baxis": {
            "gridcolor": "white",
            "linecolor": "white",
            "ticks": ""
           },
           "bgcolor": "#E5ECF6",
           "caxis": {
            "gridcolor": "white",
            "linecolor": "white",
            "ticks": ""
           }
          },
          "title": {
           "x": 0.05
          },
          "xaxis": {
           "automargin": true,
           "gridcolor": "white",
           "linecolor": "white",
           "ticks": "",
           "title": {
            "standoff": 15
           },
           "zerolinecolor": "white",
           "zerolinewidth": 2
          },
          "yaxis": {
           "automargin": true,
           "gridcolor": "white",
           "linecolor": "white",
           "ticks": "",
           "title": {
            "standoff": 15
           },
           "zerolinecolor": "white",
           "zerolinewidth": 2
          }
         }
        },
        "xaxis": {
         "domain": [
          0.15,
          1
         ],
         "showgrid": false,
         "showline": false,
         "showticklabels": false,
         "zeroline": false
        },
        "yaxis": {
         "showgrid": false,
         "showline": false,
         "showticklabels": false,
         "zeroline": false
        }
       }
      }
     },
     "metadata": {},
     "output_type": "display_data"
    }
   ],
   "source": [
    "import plotly.graph_objects as go\n",
    "\n",
    "top_labels = ['Strongly<br>agree', 'Agree', 'Neutral', 'Disagree',\n",
    "              'Strongly<br>disagree']\n",
    "\n",
    "colors = ['DarkBlue', 'MediumBlue', 'DarkSlateBlue', 'mediumpurple', 'thistle']\n",
    "x_data = [[21, 30, 21, 16, 12],\n",
    "          [24, 31, 19, 15, 11],\n",
    "          [27, 26, 23, 11, 13],\n",
    "          [29, 24, 15, 18, 14]]\n",
    "\n",
    "y_data = ['The course was effectively<br>organized',\n",
    "          'The course developed my<br>abilities and skills ' +\n",
    "          'for<br>the subject', 'The course developed ' +\n",
    "          'my<br>ability to think critically about<br>the subject',\n",
    "          'I would recommend this<br>course to a friend']\n",
    "\n",
    "fig = go.Figure()\n",
    "\n",
    "for i in range(0, len(x_data[0])):\n",
    "    for xd, yd in zip(x_data, y_data):\n",
    "        fig.add_trace(go.Bar(\n",
    "            x=[xd[i]], y=[yd],\n",
    "            orientation='h',\n",
    "            marker=dict(\n",
    "                color=colors[i],\n",
    "                line=dict(color='ghostwhite', width=1)\n",
    "            )\n",
    "        ))\n",
    "\n",
    "fig.update_layout(\n",
    "    xaxis=dict(\n",
    "        showgrid=False,\n",
    "        showline=False,\n",
    "        showticklabels=False,\n",
    "        zeroline=False,\n",
    "        domain=[0.15, 1]\n",
    "    ),\n",
    "    yaxis=dict(\n",
    "        showgrid=False,\n",
    "        showline=False,\n",
    "        showticklabels=False,\n",
    "        zeroline=False,\n",
    "    ),\n",
    "    barmode='stack',\n",
    "    paper_bgcolor='lavenderblush',\n",
    "    plot_bgcolor='lavenderblush',\n",
    "    margin=dict(l=120, r=10, t=140, b=80),\n",
    "    showlegend=False,\n",
    ")\n",
    "\n",
    "annotations = []\n",
    "\n",
    "for yd, xd in zip(y_data, x_data):\n",
    "    # labeling the y-axis\n",
    "    annotations.append(dict(xref='paper', yref='y',\n",
    "                            x=0.14, y=yd,\n",
    "                            xanchor='right',\n",
    "                            text=str(yd),\n",
    "                            font=dict(family='Arial', size=14,\n",
    "                                      color='dimgray'),\n",
    "                            showarrow=False, align='right'))\n",
    "    # labeling the first percentage of each bar (x_axis)\n",
    "    annotations.append(dict(xref='x', yref='y',\n",
    "                            x=xd[0] / 2, y=yd,\n",
    "                            text=str(xd[0]) + '%',\n",
    "                            font=dict(family='Arial', size=14,\n",
    "                                      color='white'),\n",
    "                            showarrow=False))\n",
    "    # labeling the first Likert scale (on the top)\n",
    "    if yd == y_data[-1]:\n",
    "        annotations.append(dict(xref='x', yref='paper',\n",
    "                                x=xd[0] / 2, y=1.1,\n",
    "                                text=top_labels[0],\n",
    "                                font=dict(family='Arial', size=14,\n",
    "                                          color='dimgray'),\n",
    "                                showarrow=False))\n",
    "    space = xd[0]\n",
    "    for i in range(1, len(xd)):\n",
    "            # labeling the rest of percentages for each bar (x_axis)\n",
    "            annotations.append(dict(xref='x', yref='y',\n",
    "                                    x=space + (xd[i]/2), y=yd,\n",
    "                                    text=str(xd[i]) + '%',\n",
    "                                    font=dict(family='Arial', size=14,\n",
    "                                              color='ghostwhite'),\n",
    "                                    showarrow=False))\n",
    "            # labeling the Likert scale\n",
    "            if yd == y_data[-1]:\n",
    "                annotations.append(dict(xref='x', yref='paper',\n",
    "                                        x=space + (xd[i]/2), y=1.1,\n",
    "                                        text=top_labels[i],\n",
    "                                        font=dict(family='Arial', size=14,\n",
    "                                                  color='dimgray'),\n",
    "                                        showarrow=False))\n",
    "            space += xd[i]\n",
    "\n",
    "fig.update_layout(annotations=annotations)\n",
    "\n",
    "fig.show()"
   ]
  },
  {
   "cell_type": "markdown",
   "id": "dccd808c",
   "metadata": {},
   "source": [
    "### Adicionais: KPI, Título, Contexto do Dashboard"
   ]
  },
  {
   "cell_type": "markdown",
   "id": "466215eb",
   "metadata": {},
   "source": [
    "#### Tentativa de Gráfico 3D\n"
   ]
  }
 ],
 "metadata": {
  "kernelspec": {
   "display_name": "venv",
   "language": "python",
   "name": "python3"
  },
  "language_info": {
   "codemirror_mode": {
    "name": "ipython",
    "version": 3
   },
   "file_extension": ".py",
   "mimetype": "text/x-python",
   "name": "python",
   "nbconvert_exporter": "python",
   "pygments_lexer": "ipython3",
   "version": "3.12.3"
  }
 },
 "nbformat": 4,
 "nbformat_minor": 5
}
