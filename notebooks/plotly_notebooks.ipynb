{
 "cells": [
  {
   "cell_type": "markdown",
   "id": "48696018",
   "metadata": {},
   "source": [
    "# Plotly Data Analysis\n",
    "Aqui ficaram os protótipos do gráficos interativos elaborados com o Plotly\n"
   ]
  },
  {
   "cell_type": "code",
   "execution_count": null,
   "id": "b55bcdd4",
   "metadata": {},
   "outputs": [],
   "source": [
    "\n",
    "\n"
   ]
  }
 ],
 "metadata": {
  "kernelspec": {
   "display_name": "venv",
   "language": "python",
   "name": "python3"
  },
  "language_info": {
   "name": "python",
   "version": "3.12.3"
  }
 },
 "nbformat": 4,
 "nbformat_minor": 5
}
