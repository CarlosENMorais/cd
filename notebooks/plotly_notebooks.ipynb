{
 "cells": [
  {
   "cell_type": "markdown",
   "id": "48696018",
   "metadata": {},
   "source": [
    "# Plotly Data Analysis\n",
    "Aqui ficaram os protótipos do gráficos interativos elaborados com o Plotly\n"
   ]
  },
  {
   "cell_type": "markdown",
   "id": "a94ce11e",
   "metadata": {},
   "source": [
    "### imports:"
   ]
  },
  {
   "cell_type": "code",
   "execution_count": 1,
   "id": "bf2ee72f",
   "metadata": {},
   "outputs": [],
   "source": [
    "import numpy as np\n",
    "import pandas as pd\n",
    "import plotly.express as px\n",
    "import plotly.graph_objects as go"
   ]
  },
  {
   "cell_type": "markdown",
   "id": "47dc736e",
   "metadata": {},
   "source": [
    "### Data:"
   ]
  },
  {
   "cell_type": "code",
   "execution_count": 5,
   "id": "eedc1560",
   "metadata": {},
   "outputs": [],
   "source": [
    "file_id = '1xhPhpcV1kgrQ4EMsDReGQezCDwJIdsZk'\n",
    "download_url = f'https://drive.google.com/uc?export=download&id={file_id}'\n",
    "\n",
    "dataframe = pd.read_csv(download_url)"
   ]
  },
  {
   "cell_type": "code",
   "execution_count": 8,
   "id": "55803b90",
   "metadata": {},
   "outputs": [
    {
     "data": {
      "text/html": [
       "<div>\n",
       "<style scoped>\n",
       "    .dataframe tbody tr th:only-of-type {\n",
       "        vertical-align: middle;\n",
       "    }\n",
       "\n",
       "    .dataframe tbody tr th {\n",
       "        vertical-align: top;\n",
       "    }\n",
       "\n",
       "    .dataframe thead th {\n",
       "        text-align: right;\n",
       "    }\n",
       "</style>\n",
       "<table border=\"1\" class=\"dataframe\">\n",
       "  <thead>\n",
       "    <tr style=\"text-align: right;\">\n",
       "      <th></th>\n",
       "      <th>Gender</th>\n",
       "      <th>Age</th>\n",
       "      <th>Height</th>\n",
       "      <th>Weight</th>\n",
       "      <th>family_history_with_overweight</th>\n",
       "      <th>FAVC</th>\n",
       "      <th>FCVC</th>\n",
       "      <th>NCP</th>\n",
       "      <th>CAEC</th>\n",
       "      <th>SMOKE</th>\n",
       "      <th>CH2O</th>\n",
       "      <th>SCC</th>\n",
       "      <th>FAF</th>\n",
       "      <th>TUE</th>\n",
       "      <th>CALC</th>\n",
       "      <th>MTRANS</th>\n",
       "      <th>NObeyesdad</th>\n",
       "    </tr>\n",
       "  </thead>\n",
       "  <tbody>\n",
       "    <tr>\n",
       "      <th>0</th>\n",
       "      <td>Female</td>\n",
       "      <td>21</td>\n",
       "      <td>1.62</td>\n",
       "      <td>64.00</td>\n",
       "      <td>yes</td>\n",
       "      <td>no</td>\n",
       "      <td>2.0</td>\n",
       "      <td>3.0</td>\n",
       "      <td>Sometimes</td>\n",
       "      <td>no</td>\n",
       "      <td>2.00</td>\n",
       "      <td>no</td>\n",
       "      <td>0.00</td>\n",
       "      <td>1.000</td>\n",
       "      <td>no</td>\n",
       "      <td>Public_Transportation</td>\n",
       "      <td>Normal_Weight</td>\n",
       "    </tr>\n",
       "    <tr>\n",
       "      <th>1</th>\n",
       "      <td>Female</td>\n",
       "      <td>21</td>\n",
       "      <td>1.52</td>\n",
       "      <td>56.00</td>\n",
       "      <td>yes</td>\n",
       "      <td>no</td>\n",
       "      <td>3.0</td>\n",
       "      <td>3.0</td>\n",
       "      <td>Sometimes</td>\n",
       "      <td>yes</td>\n",
       "      <td>3.00</td>\n",
       "      <td>yes</td>\n",
       "      <td>3.00</td>\n",
       "      <td>0.000</td>\n",
       "      <td>Sometimes</td>\n",
       "      <td>Public_Transportation</td>\n",
       "      <td>Normal_Weight</td>\n",
       "    </tr>\n",
       "    <tr>\n",
       "      <th>2</th>\n",
       "      <td>Male</td>\n",
       "      <td>23</td>\n",
       "      <td>1.80</td>\n",
       "      <td>77.00</td>\n",
       "      <td>yes</td>\n",
       "      <td>no</td>\n",
       "      <td>2.0</td>\n",
       "      <td>3.0</td>\n",
       "      <td>Sometimes</td>\n",
       "      <td>no</td>\n",
       "      <td>2.00</td>\n",
       "      <td>no</td>\n",
       "      <td>2.00</td>\n",
       "      <td>1.000</td>\n",
       "      <td>Frequently</td>\n",
       "      <td>Public_Transportation</td>\n",
       "      <td>Normal_Weight</td>\n",
       "    </tr>\n",
       "    <tr>\n",
       "      <th>3</th>\n",
       "      <td>Male</td>\n",
       "      <td>27</td>\n",
       "      <td>1.80</td>\n",
       "      <td>87.00</td>\n",
       "      <td>no</td>\n",
       "      <td>no</td>\n",
       "      <td>3.0</td>\n",
       "      <td>3.0</td>\n",
       "      <td>Sometimes</td>\n",
       "      <td>no</td>\n",
       "      <td>2.00</td>\n",
       "      <td>no</td>\n",
       "      <td>2.00</td>\n",
       "      <td>0.000</td>\n",
       "      <td>Frequently</td>\n",
       "      <td>Walking</td>\n",
       "      <td>Overweight_Level_I</td>\n",
       "    </tr>\n",
       "    <tr>\n",
       "      <th>4</th>\n",
       "      <td>Male</td>\n",
       "      <td>22</td>\n",
       "      <td>1.78</td>\n",
       "      <td>89.80</td>\n",
       "      <td>no</td>\n",
       "      <td>no</td>\n",
       "      <td>2.0</td>\n",
       "      <td>1.0</td>\n",
       "      <td>Sometimes</td>\n",
       "      <td>no</td>\n",
       "      <td>2.00</td>\n",
       "      <td>no</td>\n",
       "      <td>0.00</td>\n",
       "      <td>0.000</td>\n",
       "      <td>Sometimes</td>\n",
       "      <td>Public_Transportation</td>\n",
       "      <td>Overweight_Level_II</td>\n",
       "    </tr>\n",
       "    <tr>\n",
       "      <th>...</th>\n",
       "      <td>...</td>\n",
       "      <td>...</td>\n",
       "      <td>...</td>\n",
       "      <td>...</td>\n",
       "      <td>...</td>\n",
       "      <td>...</td>\n",
       "      <td>...</td>\n",
       "      <td>...</td>\n",
       "      <td>...</td>\n",
       "      <td>...</td>\n",
       "      <td>...</td>\n",
       "      <td>...</td>\n",
       "      <td>...</td>\n",
       "      <td>...</td>\n",
       "      <td>...</td>\n",
       "      <td>...</td>\n",
       "      <td>...</td>\n",
       "    </tr>\n",
       "    <tr>\n",
       "      <th>2106</th>\n",
       "      <td>Female</td>\n",
       "      <td>21</td>\n",
       "      <td>1.71</td>\n",
       "      <td>131.41</td>\n",
       "      <td>yes</td>\n",
       "      <td>yes</td>\n",
       "      <td>3.0</td>\n",
       "      <td>3.0</td>\n",
       "      <td>Sometimes</td>\n",
       "      <td>no</td>\n",
       "      <td>1.73</td>\n",
       "      <td>no</td>\n",
       "      <td>1.68</td>\n",
       "      <td>0.906</td>\n",
       "      <td>Sometimes</td>\n",
       "      <td>Public_Transportation</td>\n",
       "      <td>Obesity_Type_III</td>\n",
       "    </tr>\n",
       "    <tr>\n",
       "      <th>2107</th>\n",
       "      <td>Female</td>\n",
       "      <td>22</td>\n",
       "      <td>1.75</td>\n",
       "      <td>133.74</td>\n",
       "      <td>yes</td>\n",
       "      <td>yes</td>\n",
       "      <td>3.0</td>\n",
       "      <td>3.0</td>\n",
       "      <td>Sometimes</td>\n",
       "      <td>no</td>\n",
       "      <td>2.01</td>\n",
       "      <td>no</td>\n",
       "      <td>1.34</td>\n",
       "      <td>0.599</td>\n",
       "      <td>Sometimes</td>\n",
       "      <td>Public_Transportation</td>\n",
       "      <td>Obesity_Type_III</td>\n",
       "    </tr>\n",
       "    <tr>\n",
       "      <th>2108</th>\n",
       "      <td>Female</td>\n",
       "      <td>23</td>\n",
       "      <td>1.75</td>\n",
       "      <td>133.69</td>\n",
       "      <td>yes</td>\n",
       "      <td>yes</td>\n",
       "      <td>3.0</td>\n",
       "      <td>3.0</td>\n",
       "      <td>Sometimes</td>\n",
       "      <td>no</td>\n",
       "      <td>2.05</td>\n",
       "      <td>no</td>\n",
       "      <td>1.41</td>\n",
       "      <td>0.646</td>\n",
       "      <td>Sometimes</td>\n",
       "      <td>Public_Transportation</td>\n",
       "      <td>Obesity_Type_III</td>\n",
       "    </tr>\n",
       "    <tr>\n",
       "      <th>2109</th>\n",
       "      <td>Female</td>\n",
       "      <td>24</td>\n",
       "      <td>1.74</td>\n",
       "      <td>133.35</td>\n",
       "      <td>yes</td>\n",
       "      <td>yes</td>\n",
       "      <td>3.0</td>\n",
       "      <td>3.0</td>\n",
       "      <td>Sometimes</td>\n",
       "      <td>no</td>\n",
       "      <td>2.85</td>\n",
       "      <td>no</td>\n",
       "      <td>1.14</td>\n",
       "      <td>0.586</td>\n",
       "      <td>Sometimes</td>\n",
       "      <td>Public_Transportation</td>\n",
       "      <td>Obesity_Type_III</td>\n",
       "    </tr>\n",
       "    <tr>\n",
       "      <th>2110</th>\n",
       "      <td>Female</td>\n",
       "      <td>24</td>\n",
       "      <td>1.74</td>\n",
       "      <td>133.47</td>\n",
       "      <td>yes</td>\n",
       "      <td>yes</td>\n",
       "      <td>3.0</td>\n",
       "      <td>3.0</td>\n",
       "      <td>Sometimes</td>\n",
       "      <td>no</td>\n",
       "      <td>2.86</td>\n",
       "      <td>no</td>\n",
       "      <td>1.03</td>\n",
       "      <td>0.714</td>\n",
       "      <td>Sometimes</td>\n",
       "      <td>Public_Transportation</td>\n",
       "      <td>Obesity_Type_III</td>\n",
       "    </tr>\n",
       "  </tbody>\n",
       "</table>\n",
       "<p>2111 rows × 17 columns</p>\n",
       "</div>"
      ],
      "text/plain": [
       "      Gender  Age  Height  Weight family_history_with_overweight FAVC  FCVC  \\\n",
       "0     Female   21    1.62   64.00                            yes   no   2.0   \n",
       "1     Female   21    1.52   56.00                            yes   no   3.0   \n",
       "2       Male   23    1.80   77.00                            yes   no   2.0   \n",
       "3       Male   27    1.80   87.00                             no   no   3.0   \n",
       "4       Male   22    1.78   89.80                             no   no   2.0   \n",
       "...      ...  ...     ...     ...                            ...  ...   ...   \n",
       "2106  Female   21    1.71  131.41                            yes  yes   3.0   \n",
       "2107  Female   22    1.75  133.74                            yes  yes   3.0   \n",
       "2108  Female   23    1.75  133.69                            yes  yes   3.0   \n",
       "2109  Female   24    1.74  133.35                            yes  yes   3.0   \n",
       "2110  Female   24    1.74  133.47                            yes  yes   3.0   \n",
       "\n",
       "      NCP       CAEC SMOKE  CH2O  SCC   FAF    TUE        CALC  \\\n",
       "0     3.0  Sometimes    no  2.00   no  0.00  1.000          no   \n",
       "1     3.0  Sometimes   yes  3.00  yes  3.00  0.000   Sometimes   \n",
       "2     3.0  Sometimes    no  2.00   no  2.00  1.000  Frequently   \n",
       "3     3.0  Sometimes    no  2.00   no  2.00  0.000  Frequently   \n",
       "4     1.0  Sometimes    no  2.00   no  0.00  0.000   Sometimes   \n",
       "...   ...        ...   ...   ...  ...   ...    ...         ...   \n",
       "2106  3.0  Sometimes    no  1.73   no  1.68  0.906   Sometimes   \n",
       "2107  3.0  Sometimes    no  2.01   no  1.34  0.599   Sometimes   \n",
       "2108  3.0  Sometimes    no  2.05   no  1.41  0.646   Sometimes   \n",
       "2109  3.0  Sometimes    no  2.85   no  1.14  0.586   Sometimes   \n",
       "2110  3.0  Sometimes    no  2.86   no  1.03  0.714   Sometimes   \n",
       "\n",
       "                     MTRANS           NObeyesdad  \n",
       "0     Public_Transportation        Normal_Weight  \n",
       "1     Public_Transportation        Normal_Weight  \n",
       "2     Public_Transportation        Normal_Weight  \n",
       "3                   Walking   Overweight_Level_I  \n",
       "4     Public_Transportation  Overweight_Level_II  \n",
       "...                     ...                  ...  \n",
       "2106  Public_Transportation     Obesity_Type_III  \n",
       "2107  Public_Transportation     Obesity_Type_III  \n",
       "2108  Public_Transportation     Obesity_Type_III  \n",
       "2109  Public_Transportation     Obesity_Type_III  \n",
       "2110  Public_Transportation     Obesity_Type_III  \n",
       "\n",
       "[2111 rows x 17 columns]"
      ]
     },
     "execution_count": 8,
     "metadata": {},
     "output_type": "execute_result"
    }
   ],
   "source": [
    "df = dataframe\n",
    "df"
   ]
  },
  {
   "cell_type": "markdown",
   "id": "a0f2c0a6",
   "metadata": {},
   "source": [
    "### 1º Gráfico do Plotly\n",
    "Relação entre veriáveis categóricas e numéricas\n"
   ]
  },
  {
   "cell_type": "code",
   "execution_count": null,
   "id": "6621856c",
   "metadata": {},
   "outputs": [],
   "source": [
    "plt.figure(figsize=(10, 6))\n",
    "sns.scatterplot(data=df, x='Frequência de Atividade Física', y='Altura (m)')\n",
    "\n",
    "plt.title('Scatterplot: Frequência de Atividade Física vs Altura')\n",
    "plt.xlabel('Frequência de Atividade Física')\n",
    "plt.ylabel('Altura (m)')\n",
    "\n",
    "plt.grid(True)\n",
    "plt.show()\n",
    "\n",
    "# Calcule a média de 'Frequência de Atividade Física' para cada 'Altura (m)'\n",
    "media_faf_por_altura = df.groupby('Altura (m)')['Frequência de Atividade Física'].mean().reset_index()\n",
    "\n",
    "# Crie a figura e o eixo para sobrepor os gráficos\n",
    "plt.figure(figsize=(10, 6))\n",
    "ax = plt.gca() # Obtém o eixo atual\n",
    "\n",
    "# Adiciona o scatterplot ao eixo\n",
    "sns.scatterplot(data=df, x='Altura (m)', y='Frequência de Atividade Física', ax=ax, label='Dados Individuais')\n",
    "\n",
    "# Adiciona o lineplot (média) ao mesmo eixo\n",
    "sns.lineplot(data=media_faf_por_altura, x='Altura (m)', y='Frequência de Atividade Física', ax=ax, color='red', label='Média por Altura')\n",
    "\n",
    "plt.title('Scatterplot e Média: Altura vs Frequência de Atividade Física')\n",
    "plt.xlabel('Altura (m)')\n",
    "plt.ylabel('Média da Frequência de Atividade Física')\n",
    "\n",
    "plt.grid(True)\n",
    "plt.legend() # Mostra a legenda para identificar os dois gráficos\n",
    "plt.show()"
   ]
  },
  {
   "cell_type": "markdown",
   "id": "55ebca94",
   "metadata": {},
   "source": [
    "### 2º Gráfico Plotly\n",
    "Gráfico 3d da entre variáveis numéricas"
   ]
  },
  {
   "cell_type": "code",
   "execution_count": 2,
   "id": "da48edd3",
   "metadata": {},
   "outputs": [
    {
     "data": {
      "application/vnd.plotly.v1+json": {
       "config": {
        "plotlyServerURL": "https://plot.ly"
       },
       "data": [
        {
         "type": "surface",
         "z": {
          "bdata": "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",
          "dtype": "f8",
          "shape": "25, 25"
         }
        }
       ],
       "layout": {
        "autosize": false,
        "height": 500,
        "margin": {
         "b": 65,
         "l": 65,
         "r": 50,
         "t": 90
        },
        "template": {
         "data": {
          "bar": [
           {
            "error_x": {
             "color": "#2a3f5f"
            },
            "error_y": {
             "color": "#2a3f5f"
            },
            "marker": {
             "line": {
              "color": "#E5ECF6",
              "width": 0.5
             },
             "pattern": {
              "fillmode": "overlay",
              "size": 10,
              "solidity": 0.2
             }
            },
            "type": "bar"
           }
          ],
          "barpolar": [
           {
            "marker": {
             "line": {
              "color": "#E5ECF6",
              "width": 0.5
             },
             "pattern": {
              "fillmode": "overlay",
              "size": 10,
              "solidity": 0.2
             }
            },
            "type": "barpolar"
           }
          ],
          "carpet": [
           {
            "aaxis": {
             "endlinecolor": "#2a3f5f",
             "gridcolor": "white",
             "linecolor": "white",
             "minorgridcolor": "white",
             "startlinecolor": "#2a3f5f"
            },
            "baxis": {
             "endlinecolor": "#2a3f5f",
             "gridcolor": "white",
             "linecolor": "white",
             "minorgridcolor": "white",
             "startlinecolor": "#2a3f5f"
            },
            "type": "carpet"
           }
          ],
          "choropleth": [
           {
            "colorbar": {
             "outlinewidth": 0,
             "ticks": ""
            },
            "type": "choropleth"
           }
          ],
          "contour": [
           {
            "colorbar": {
             "outlinewidth": 0,
             "ticks": ""
            },
            "colorscale": [
             [
              0,
              "#0d0887"
             ],
             [
              0.1111111111111111,
              "#46039f"
             ],
             [
              0.2222222222222222,
              "#7201a8"
             ],
             [
              0.3333333333333333,
              "#9c179e"
             ],
             [
              0.4444444444444444,
              "#bd3786"
             ],
             [
              0.5555555555555556,
              "#d8576b"
             ],
             [
              0.6666666666666666,
              "#ed7953"
             ],
             [
              0.7777777777777778,
              "#fb9f3a"
             ],
             [
              0.8888888888888888,
              "#fdca26"
             ],
             [
              1,
              "#f0f921"
             ]
            ],
            "type": "contour"
           }
          ],
          "contourcarpet": [
           {
            "colorbar": {
             "outlinewidth": 0,
             "ticks": ""
            },
            "type": "contourcarpet"
           }
          ],
          "heatmap": [
           {
            "colorbar": {
             "outlinewidth": 0,
             "ticks": ""
            },
            "colorscale": [
             [
              0,
              "#0d0887"
             ],
             [
              0.1111111111111111,
              "#46039f"
             ],
             [
              0.2222222222222222,
              "#7201a8"
             ],
             [
              0.3333333333333333,
              "#9c179e"
             ],
             [
              0.4444444444444444,
              "#bd3786"
             ],
             [
              0.5555555555555556,
              "#d8576b"
             ],
             [
              0.6666666666666666,
              "#ed7953"
             ],
             [
              0.7777777777777778,
              "#fb9f3a"
             ],
             [
              0.8888888888888888,
              "#fdca26"
             ],
             [
              1,
              "#f0f921"
             ]
            ],
            "type": "heatmap"
           }
          ],
          "histogram": [
           {
            "marker": {
             "pattern": {
              "fillmode": "overlay",
              "size": 10,
              "solidity": 0.2
             }
            },
            "type": "histogram"
           }
          ],
          "histogram2d": [
           {
            "colorbar": {
             "outlinewidth": 0,
             "ticks": ""
            },
            "colorscale": [
             [
              0,
              "#0d0887"
             ],
             [
              0.1111111111111111,
              "#46039f"
             ],
             [
              0.2222222222222222,
              "#7201a8"
             ],
             [
              0.3333333333333333,
              "#9c179e"
             ],
             [
              0.4444444444444444,
              "#bd3786"
             ],
             [
              0.5555555555555556,
              "#d8576b"
             ],
             [
              0.6666666666666666,
              "#ed7953"
             ],
             [
              0.7777777777777778,
              "#fb9f3a"
             ],
             [
              0.8888888888888888,
              "#fdca26"
             ],
             [
              1,
              "#f0f921"
             ]
            ],
            "type": "histogram2d"
           }
          ],
          "histogram2dcontour": [
           {
            "colorbar": {
             "outlinewidth": 0,
             "ticks": ""
            },
            "colorscale": [
             [
              0,
              "#0d0887"
             ],
             [
              0.1111111111111111,
              "#46039f"
             ],
             [
              0.2222222222222222,
              "#7201a8"
             ],
             [
              0.3333333333333333,
              "#9c179e"
             ],
             [
              0.4444444444444444,
              "#bd3786"
             ],
             [
              0.5555555555555556,
              "#d8576b"
             ],
             [
              0.6666666666666666,
              "#ed7953"
             ],
             [
              0.7777777777777778,
              "#fb9f3a"
             ],
             [
              0.8888888888888888,
              "#fdca26"
             ],
             [
              1,
              "#f0f921"
             ]
            ],
            "type": "histogram2dcontour"
           }
          ],
          "mesh3d": [
           {
            "colorbar": {
             "outlinewidth": 0,
             "ticks": ""
            },
            "type": "mesh3d"
           }
          ],
          "parcoords": [
           {
            "line": {
             "colorbar": {
              "outlinewidth": 0,
              "ticks": ""
             }
            },
            "type": "parcoords"
           }
          ],
          "pie": [
           {
            "automargin": true,
            "type": "pie"
           }
          ],
          "scatter": [
           {
            "fillpattern": {
             "fillmode": "overlay",
             "size": 10,
             "solidity": 0.2
            },
            "type": "scatter"
           }
          ],
          "scatter3d": [
           {
            "line": {
             "colorbar": {
              "outlinewidth": 0,
              "ticks": ""
             }
            },
            "marker": {
             "colorbar": {
              "outlinewidth": 0,
              "ticks": ""
             }
            },
            "type": "scatter3d"
           }
          ],
          "scattercarpet": [
           {
            "marker": {
             "colorbar": {
              "outlinewidth": 0,
              "ticks": ""
             }
            },
            "type": "scattercarpet"
           }
          ],
          "scattergeo": [
           {
            "marker": {
             "colorbar": {
              "outlinewidth": 0,
              "ticks": ""
             }
            },
            "type": "scattergeo"
           }
          ],
          "scattergl": [
           {
            "marker": {
             "colorbar": {
              "outlinewidth": 0,
              "ticks": ""
             }
            },
            "type": "scattergl"
           }
          ],
          "scattermap": [
           {
            "marker": {
             "colorbar": {
              "outlinewidth": 0,
              "ticks": ""
             }
            },
            "type": "scattermap"
           }
          ],
          "scattermapbox": [
           {
            "marker": {
             "colorbar": {
              "outlinewidth": 0,
              "ticks": ""
             }
            },
            "type": "scattermapbox"
           }
          ],
          "scatterpolar": [
           {
            "marker": {
             "colorbar": {
              "outlinewidth": 0,
              "ticks": ""
             }
            },
            "type": "scatterpolar"
           }
          ],
          "scatterpolargl": [
           {
            "marker": {
             "colorbar": {
              "outlinewidth": 0,
              "ticks": ""
             }
            },
            "type": "scatterpolargl"
           }
          ],
          "scatterternary": [
           {
            "marker": {
             "colorbar": {
              "outlinewidth": 0,
              "ticks": ""
             }
            },
            "type": "scatterternary"
           }
          ],
          "surface": [
           {
            "colorbar": {
             "outlinewidth": 0,
             "ticks": ""
            },
            "colorscale": [
             [
              0,
              "#0d0887"
             ],
             [
              0.1111111111111111,
              "#46039f"
             ],
             [
              0.2222222222222222,
              "#7201a8"
             ],
             [
              0.3333333333333333,
              "#9c179e"
             ],
             [
              0.4444444444444444,
              "#bd3786"
             ],
             [
              0.5555555555555556,
              "#d8576b"
             ],
             [
              0.6666666666666666,
              "#ed7953"
             ],
             [
              0.7777777777777778,
              "#fb9f3a"
             ],
             [
              0.8888888888888888,
              "#fdca26"
             ],
             [
              1,
              "#f0f921"
             ]
            ],
            "type": "surface"
           }
          ],
          "table": [
           {
            "cells": {
             "fill": {
              "color": "#EBF0F8"
             },
             "line": {
              "color": "white"
             }
            },
            "header": {
             "fill": {
              "color": "#C8D4E3"
             },
             "line": {
              "color": "white"
             }
            },
            "type": "table"
           }
          ]
         },
         "layout": {
          "annotationdefaults": {
           "arrowcolor": "#2a3f5f",
           "arrowhead": 0,
           "arrowwidth": 1
          },
          "autotypenumbers": "strict",
          "coloraxis": {
           "colorbar": {
            "outlinewidth": 0,
            "ticks": ""
           }
          },
          "colorscale": {
           "diverging": [
            [
             0,
             "#8e0152"
            ],
            [
             0.1,
             "#c51b7d"
            ],
            [
             0.2,
             "#de77ae"
            ],
            [
             0.3,
             "#f1b6da"
            ],
            [
             0.4,
             "#fde0ef"
            ],
            [
             0.5,
             "#f7f7f7"
            ],
            [
             0.6,
             "#e6f5d0"
            ],
            [
             0.7,
             "#b8e186"
            ],
            [
             0.8,
             "#7fbc41"
            ],
            [
             0.9,
             "#4d9221"
            ],
            [
             1,
             "#276419"
            ]
           ],
           "sequential": [
            [
             0,
             "#0d0887"
            ],
            [
             0.1111111111111111,
             "#46039f"
            ],
            [
             0.2222222222222222,
             "#7201a8"
            ],
            [
             0.3333333333333333,
             "#9c179e"
            ],
            [
             0.4444444444444444,
             "#bd3786"
            ],
            [
             0.5555555555555556,
             "#d8576b"
            ],
            [
             0.6666666666666666,
             "#ed7953"
            ],
            [
             0.7777777777777778,
             "#fb9f3a"
            ],
            [
             0.8888888888888888,
             "#fdca26"
            ],
            [
             1,
             "#f0f921"
            ]
           ],
           "sequentialminus": [
            [
             0,
             "#0d0887"
            ],
            [
             0.1111111111111111,
             "#46039f"
            ],
            [
             0.2222222222222222,
             "#7201a8"
            ],
            [
             0.3333333333333333,
             "#9c179e"
            ],
            [
             0.4444444444444444,
             "#bd3786"
            ],
            [
             0.5555555555555556,
             "#d8576b"
            ],
            [
             0.6666666666666666,
             "#ed7953"
            ],
            [
             0.7777777777777778,
             "#fb9f3a"
            ],
            [
             0.8888888888888888,
             "#fdca26"
            ],
            [
             1,
             "#f0f921"
            ]
           ]
          },
          "colorway": [
           "#636efa",
           "#EF553B",
           "#00cc96",
           "#ab63fa",
           "#FFA15A",
           "#19d3f3",
           "#FF6692",
           "#B6E880",
           "#FF97FF",
           "#FECB52"
          ],
          "font": {
           "color": "#2a3f5f"
          },
          "geo": {
           "bgcolor": "white",
           "lakecolor": "white",
           "landcolor": "#E5ECF6",
           "showlakes": true,
           "showland": true,
           "subunitcolor": "white"
          },
          "hoverlabel": {
           "align": "left"
          },
          "hovermode": "closest",
          "mapbox": {
           "style": "light"
          },
          "paper_bgcolor": "white",
          "plot_bgcolor": "#E5ECF6",
          "polar": {
           "angularaxis": {
            "gridcolor": "white",
            "linecolor": "white",
            "ticks": ""
           },
           "bgcolor": "#E5ECF6",
           "radialaxis": {
            "gridcolor": "white",
            "linecolor": "white",
            "ticks": ""
           }
          },
          "scene": {
           "xaxis": {
            "backgroundcolor": "#E5ECF6",
            "gridcolor": "white",
            "gridwidth": 2,
            "linecolor": "white",
            "showbackground": true,
            "ticks": "",
            "zerolinecolor": "white"
           },
           "yaxis": {
            "backgroundcolor": "#E5ECF6",
            "gridcolor": "white",
            "gridwidth": 2,
            "linecolor": "white",
            "showbackground": true,
            "ticks": "",
            "zerolinecolor": "white"
           },
           "zaxis": {
            "backgroundcolor": "#E5ECF6",
            "gridcolor": "white",
            "gridwidth": 2,
            "linecolor": "white",
            "showbackground": true,
            "ticks": "",
            "zerolinecolor": "white"
           }
          },
          "shapedefaults": {
           "line": {
            "color": "#2a3f5f"
           }
          },
          "ternary": {
           "aaxis": {
            "gridcolor": "white",
            "linecolor": "white",
            "ticks": ""
           },
           "baxis": {
            "gridcolor": "white",
            "linecolor": "white",
            "ticks": ""
           },
           "bgcolor": "#E5ECF6",
           "caxis": {
            "gridcolor": "white",
            "linecolor": "white",
            "ticks": ""
           }
          },
          "title": {
           "x": 0.05
          },
          "xaxis": {
           "automargin": true,
           "gridcolor": "white",
           "linecolor": "white",
           "ticks": "",
           "title": {
            "standoff": 15
           },
           "zerolinecolor": "white",
           "zerolinewidth": 2
          },
          "yaxis": {
           "automargin": true,
           "gridcolor": "white",
           "linecolor": "white",
           "ticks": "",
           "title": {
            "standoff": 15
           },
           "zerolinecolor": "white",
           "zerolinewidth": 2
          }
         }
        },
        "title": {
         "text": "Mt Bruno Elevation"
        },
        "width": 500
       }
      }
     },
     "metadata": {},
     "output_type": "display_data"
    }
   ],
   "source": [
    "import plotly.graph_objects as go\n",
    "\n",
    "import pandas as pd\n",
    "\n",
    "# Read data from a csv\n",
    "z_data = pd.read_csv('https://raw.githubusercontent.com/plotly/datasets/master/api_docs/mt_bruno_elevation.csv')\n",
    "\n",
    "fig = go.Figure(data=[go.Surface(z=z_data.values)])\n",
    "\n",
    "fig.update_layout(title=dict(text='Mt Bruno Elevation'), autosize=False,\n",
    "                  width=500, height=500,\n",
    "                  margin=dict(l=65, r=50, b=65, t=90))\n",
    "\n",
    "fig.show()"
   ]
  },
  {
   "cell_type": "code",
   "execution_count": null,
   "id": "e2e10292",
   "metadata": {},
   "outputs": [
    {
     "data": {
      "application/vnd.plotly.v1+json": {
       "config": {
        "plotlyServerURL": "https://plot.ly"
       },
       "data": [
        {
         "type": "surface",
         "z": {
          "bdata": "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",
          "dtype": "f8",
          "shape": "25, 25"
         }
        }
       ],
       "layout": {
        "autosize": false,
        "height": 500,
        "margin": {
         "b": 65,
         "l": 65,
         "r": 50,
         "t": 90
        },
        "template": {
         "data": {
          "bar": [
           {
            "error_x": {
             "color": "#2a3f5f"
            },
            "error_y": {
             "color": "#2a3f5f"
            },
            "marker": {
             "line": {
              "color": "#E5ECF6",
              "width": 0.5
             },
             "pattern": {
              "fillmode": "overlay",
              "size": 10,
              "solidity": 0.2
             }
            },
            "type": "bar"
           }
          ],
          "barpolar": [
           {
            "marker": {
             "line": {
              "color": "#E5ECF6",
              "width": 0.5
             },
             "pattern": {
              "fillmode": "overlay",
              "size": 10,
              "solidity": 0.2
             }
            },
            "type": "barpolar"
           }
          ],
          "carpet": [
           {
            "aaxis": {
             "endlinecolor": "#2a3f5f",
             "gridcolor": "white",
             "linecolor": "white",
             "minorgridcolor": "white",
             "startlinecolor": "#2a3f5f"
            },
            "baxis": {
             "endlinecolor": "#2a3f5f",
             "gridcolor": "white",
             "linecolor": "white",
             "minorgridcolor": "white",
             "startlinecolor": "#2a3f5f"
            },
            "type": "carpet"
           }
          ],
          "choropleth": [
           {
            "colorbar": {
             "outlinewidth": 0,
             "ticks": ""
            },
            "type": "choropleth"
           }
          ],
          "contour": [
           {
            "colorbar": {
             "outlinewidth": 0,
             "ticks": ""
            },
            "colorscale": [
             [
              0,
              "#0d0887"
             ],
             [
              0.1111111111111111,
              "#46039f"
             ],
             [
              0.2222222222222222,
              "#7201a8"
             ],
             [
              0.3333333333333333,
              "#9c179e"
             ],
             [
              0.4444444444444444,
              "#bd3786"
             ],
             [
              0.5555555555555556,
              "#d8576b"
             ],
             [
              0.6666666666666666,
              "#ed7953"
             ],
             [
              0.7777777777777778,
              "#fb9f3a"
             ],
             [
              0.8888888888888888,
              "#fdca26"
             ],
             [
              1,
              "#f0f921"
             ]
            ],
            "type": "contour"
           }
          ],
          "contourcarpet": [
           {
            "colorbar": {
             "outlinewidth": 0,
             "ticks": ""
            },
            "type": "contourcarpet"
           }
          ],
          "heatmap": [
           {
            "colorbar": {
             "outlinewidth": 0,
             "ticks": ""
            },
            "colorscale": [
             [
              0,
              "#0d0887"
             ],
             [
              0.1111111111111111,
              "#46039f"
             ],
             [
              0.2222222222222222,
              "#7201a8"
             ],
             [
              0.3333333333333333,
              "#9c179e"
             ],
             [
              0.4444444444444444,
              "#bd3786"
             ],
             [
              0.5555555555555556,
              "#d8576b"
             ],
             [
              0.6666666666666666,
              "#ed7953"
             ],
             [
              0.7777777777777778,
              "#fb9f3a"
             ],
             [
              0.8888888888888888,
              "#fdca26"
             ],
             [
              1,
              "#f0f921"
             ]
            ],
            "type": "heatmap"
           }
          ],
          "histogram": [
           {
            "marker": {
             "pattern": {
              "fillmode": "overlay",
              "size": 10,
              "solidity": 0.2
             }
            },
            "type": "histogram"
           }
          ],
          "histogram2d": [
           {
            "colorbar": {
             "outlinewidth": 0,
             "ticks": ""
            },
            "colorscale": [
             [
              0,
              "#0d0887"
             ],
             [
              0.1111111111111111,
              "#46039f"
             ],
             [
              0.2222222222222222,
              "#7201a8"
             ],
             [
              0.3333333333333333,
              "#9c179e"
             ],
             [
              0.4444444444444444,
              "#bd3786"
             ],
             [
              0.5555555555555556,
              "#d8576b"
             ],
             [
              0.6666666666666666,
              "#ed7953"
             ],
             [
              0.7777777777777778,
              "#fb9f3a"
             ],
             [
              0.8888888888888888,
              "#fdca26"
             ],
             [
              1,
              "#f0f921"
             ]
            ],
            "type": "histogram2d"
           }
          ],
          "histogram2dcontour": [
           {
            "colorbar": {
             "outlinewidth": 0,
             "ticks": ""
            },
            "colorscale": [
             [
              0,
              "#0d0887"
             ],
             [
              0.1111111111111111,
              "#46039f"
             ],
             [
              0.2222222222222222,
              "#7201a8"
             ],
             [
              0.3333333333333333,
              "#9c179e"
             ],
             [
              0.4444444444444444,
              "#bd3786"
             ],
             [
              0.5555555555555556,
              "#d8576b"
             ],
             [
              0.6666666666666666,
              "#ed7953"
             ],
             [
              0.7777777777777778,
              "#fb9f3a"
             ],
             [
              0.8888888888888888,
              "#fdca26"
             ],
             [
              1,
              "#f0f921"
             ]
            ],
            "type": "histogram2dcontour"
           }
          ],
          "mesh3d": [
           {
            "colorbar": {
             "outlinewidth": 0,
             "ticks": ""
            },
            "type": "mesh3d"
           }
          ],
          "parcoords": [
           {
            "line": {
             "colorbar": {
              "outlinewidth": 0,
              "ticks": ""
             }
            },
            "type": "parcoords"
           }
          ],
          "pie": [
           {
            "automargin": true,
            "type": "pie"
           }
          ],
          "scatter": [
           {
            "fillpattern": {
             "fillmode": "overlay",
             "size": 10,
             "solidity": 0.2
            },
            "type": "scatter"
           }
          ],
          "scatter3d": [
           {
            "line": {
             "colorbar": {
              "outlinewidth": 0,
              "ticks": ""
             }
            },
            "marker": {
             "colorbar": {
              "outlinewidth": 0,
              "ticks": ""
             }
            },
            "type": "scatter3d"
           }
          ],
          "scattercarpet": [
           {
            "marker": {
             "colorbar": {
              "outlinewidth": 0,
              "ticks": ""
             }
            },
            "type": "scattercarpet"
           }
          ],
          "scattergeo": [
           {
            "marker": {
             "colorbar": {
              "outlinewidth": 0,
              "ticks": ""
             }
            },
            "type": "scattergeo"
           }
          ],
          "scattergl": [
           {
            "marker": {
             "colorbar": {
              "outlinewidth": 0,
              "ticks": ""
             }
            },
            "type": "scattergl"
           }
          ],
          "scattermap": [
           {
            "marker": {
             "colorbar": {
              "outlinewidth": 0,
              "ticks": ""
             }
            },
            "type": "scattermap"
           }
          ],
          "scattermapbox": [
           {
            "marker": {
             "colorbar": {
              "outlinewidth": 0,
              "ticks": ""
             }
            },
            "type": "scattermapbox"
           }
          ],
          "scatterpolar": [
           {
            "marker": {
             "colorbar": {
              "outlinewidth": 0,
              "ticks": ""
             }
            },
            "type": "scatterpolar"
           }
          ],
          "scatterpolargl": [
           {
            "marker": {
             "colorbar": {
              "outlinewidth": 0,
              "ticks": ""
             }
            },
            "type": "scatterpolargl"
           }
          ],
          "scatterternary": [
           {
            "marker": {
             "colorbar": {
              "outlinewidth": 0,
              "ticks": ""
             }
            },
            "type": "scatterternary"
           }
          ],
          "surface": [
           {
            "colorbar": {
             "outlinewidth": 0,
             "ticks": ""
            },
            "colorscale": [
             [
              0,
              "#0d0887"
             ],
             [
              0.1111111111111111,
              "#46039f"
             ],
             [
              0.2222222222222222,
              "#7201a8"
             ],
             [
              0.3333333333333333,
              "#9c179e"
             ],
             [
              0.4444444444444444,
              "#bd3786"
             ],
             [
              0.5555555555555556,
              "#d8576b"
             ],
             [
              0.6666666666666666,
              "#ed7953"
             ],
             [
              0.7777777777777778,
              "#fb9f3a"
             ],
             [
              0.8888888888888888,
              "#fdca26"
             ],
             [
              1,
              "#f0f921"
             ]
            ],
            "type": "surface"
           }
          ],
          "table": [
           {
            "cells": {
             "fill": {
              "color": "#EBF0F8"
             },
             "line": {
              "color": "white"
             }
            },
            "header": {
             "fill": {
              "color": "#C8D4E3"
             },
             "line": {
              "color": "white"
             }
            },
            "type": "table"
           }
          ]
         },
         "layout": {
          "annotationdefaults": {
           "arrowcolor": "#2a3f5f",
           "arrowhead": 0,
           "arrowwidth": 1
          },
          "autotypenumbers": "strict",
          "coloraxis": {
           "colorbar": {
            "outlinewidth": 0,
            "ticks": ""
           }
          },
          "colorscale": {
           "diverging": [
            [
             0,
             "#8e0152"
            ],
            [
             0.1,
             "#c51b7d"
            ],
            [
             0.2,
             "#de77ae"
            ],
            [
             0.3,
             "#f1b6da"
            ],
            [
             0.4,
             "#fde0ef"
            ],
            [
             0.5,
             "#f7f7f7"
            ],
            [
             0.6,
             "#e6f5d0"
            ],
            [
             0.7,
             "#b8e186"
            ],
            [
             0.8,
             "#7fbc41"
            ],
            [
             0.9,
             "#4d9221"
            ],
            [
             1,
             "#276419"
            ]
           ],
           "sequential": [
            [
             0,
             "#0d0887"
            ],
            [
             0.1111111111111111,
             "#46039f"
            ],
            [
             0.2222222222222222,
             "#7201a8"
            ],
            [
             0.3333333333333333,
             "#9c179e"
            ],
            [
             0.4444444444444444,
             "#bd3786"
            ],
            [
             0.5555555555555556,
             "#d8576b"
            ],
            [
             0.6666666666666666,
             "#ed7953"
            ],
            [
             0.7777777777777778,
             "#fb9f3a"
            ],
            [
             0.8888888888888888,
             "#fdca26"
            ],
            [
             1,
             "#f0f921"
            ]
           ],
           "sequentialminus": [
            [
             0,
             "#0d0887"
            ],
            [
             0.1111111111111111,
             "#46039f"
            ],
            [
             0.2222222222222222,
             "#7201a8"
            ],
            [
             0.3333333333333333,
             "#9c179e"
            ],
            [
             0.4444444444444444,
             "#bd3786"
            ],
            [
             0.5555555555555556,
             "#d8576b"
            ],
            [
             0.6666666666666666,
             "#ed7953"
            ],
            [
             0.7777777777777778,
             "#fb9f3a"
            ],
            [
             0.8888888888888888,
             "#fdca26"
            ],
            [
             1,
             "#f0f921"
            ]
           ]
          },
          "colorway": [
           "#636efa",
           "#EF553B",
           "#00cc96",
           "#ab63fa",
           "#FFA15A",
           "#19d3f3",
           "#FF6692",
           "#B6E880",
           "#FF97FF",
           "#FECB52"
          ],
          "font": {
           "color": "#2a3f5f"
          },
          "geo": {
           "bgcolor": "white",
           "lakecolor": "white",
           "landcolor": "#E5ECF6",
           "showlakes": true,
           "showland": true,
           "subunitcolor": "white"
          },
          "hoverlabel": {
           "align": "left"
          },
          "hovermode": "closest",
          "mapbox": {
           "style": "light"
          },
          "paper_bgcolor": "white",
          "plot_bgcolor": "#E5ECF6",
          "polar": {
           "angularaxis": {
            "gridcolor": "white",
            "linecolor": "white",
            "ticks": ""
           },
           "bgcolor": "#E5ECF6",
           "radialaxis": {
            "gridcolor": "white",
            "linecolor": "white",
            "ticks": ""
           }
          },
          "scene": {
           "xaxis": {
            "backgroundcolor": "#E5ECF6",
            "gridcolor": "white",
            "gridwidth": 2,
            "linecolor": "white",
            "showbackground": true,
            "ticks": "",
            "zerolinecolor": "white"
           },
           "yaxis": {
            "backgroundcolor": "#E5ECF6",
            "gridcolor": "white",
            "gridwidth": 2,
            "linecolor": "white",
            "showbackground": true,
            "ticks": "",
            "zerolinecolor": "white"
           },
           "zaxis": {
            "backgroundcolor": "#E5ECF6",
            "gridcolor": "white",
            "gridwidth": 2,
            "linecolor": "white",
            "showbackground": true,
            "ticks": "",
            "zerolinecolor": "white"
           }
          },
          "shapedefaults": {
           "line": {
            "color": "#2a3f5f"
           }
          },
          "ternary": {
           "aaxis": {
            "gridcolor": "white",
            "linecolor": "white",
            "ticks": ""
           },
           "baxis": {
            "gridcolor": "white",
            "linecolor": "white",
            "ticks": ""
           },
           "bgcolor": "#E5ECF6",
           "caxis": {
            "gridcolor": "white",
            "linecolor": "white",
            "ticks": ""
           }
          },
          "title": {
           "x": 0.05
          },
          "xaxis": {
           "automargin": true,
           "gridcolor": "white",
           "linecolor": "white",
           "ticks": "",
           "title": {
            "standoff": 15
           },
           "zerolinecolor": "white",
           "zerolinewidth": 2
          },
          "yaxis": {
           "automargin": true,
           "gridcolor": "white",
           "linecolor": "white",
           "ticks": "",
           "title": {
            "standoff": 15
           },
           "zerolinecolor": "white",
           "zerolinewidth": 2
          }
         }
        },
        "title": {
         "text": "Mt Bruno Elevation"
        },
        "width": 500
       }
      }
     },
     "metadata": {},
     "output_type": "display_data"
    }
   ],
   "source": [
    "# z_data = pd.read_csv('https://raw.githubusercontent.com/plotly/datasets/master/api_docs/mt_bruno_elevation.csv')\n",
    "\n",
    "#numerical column 1\n",
    "data1 = np.array(df['Weight'])\n",
    "data2 = np.array(df['Height'])\n",
    "\n",
    "#DataSet do gráfico 3d\n",
    "z_data = data1.reshape(-1, 1) * data2\n",
    "z_data = pd.DataFrame(z_data)\n",
    "\n",
    "z_data\n",
    "\n",
    "# z_data = pd.read_csv('https://raw.githubusercontent.com/plotly/datasets/master/api_docs/mt_bruno_elevation.csv')\n",
    "\n",
    "fig = go.Figure(data=[go.Surface(z=z_data.values)])\n",
    "\n",
    "fig.update_layout(title=dict(text='Mt Bruno Elevation'), autosize=False,\n",
    "                  width=500, height=500,\n",
    "                  margin=dict(l=65, r=50, b=65, t=90))\n",
    "\n",
    "fig.show()"
   ]
  }
 ],
 "metadata": {
  "kernelspec": {
   "display_name": "venv",
   "language": "python",
   "name": "python3"
  },
  "language_info": {
   "codemirror_mode": {
    "name": "ipython",
    "version": 3
   },
   "file_extension": ".py",
   "mimetype": "text/x-python",
   "name": "python",
   "nbconvert_exporter": "python",
   "pygments_lexer": "ipython3",
   "version": "3.12.3"
  }
 },
 "nbformat": 4,
 "nbformat_minor": 5
}
